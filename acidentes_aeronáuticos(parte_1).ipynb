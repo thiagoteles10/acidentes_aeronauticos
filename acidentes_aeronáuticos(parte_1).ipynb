{
  "nbformat": 4,
  "nbformat_minor": 0,
  "metadata": {
    "colab": {
      "provenance": [],
      "collapsed_sections": [
        "fq_6mitvqnwh",
        "oRZPmTlqJtdn",
        "jEngiPyE4rs2",
        "q7xe9IqLp2sE",
        "wf3DJOaF0Vc-",
        "Kn7B59KoteH3",
        "u2E9tbu07Zaz",
        "5iRACmULqrkz",
        "kodbBo23FO2Q",
        "HvbRqd6gPN7i",
        "0vgmuDKJK-M2",
        "TwZd2vCGlzTk",
        "vYSxxseoa5x1",
        "NJtq6d0FpHWM",
        "1kJWGVFWnqI4",
        "lUVCf0atod3L",
        "buB_M8ckoxSk",
        "z7eHA5Jqq2Dc",
        "kEiiDcrM--pr",
        "odRh18XhUMDn",
        "m5C-htR5tXRW",
        "t8la-zHGU1Ib",
        "pklNw9LcHt0J",
        "a3U4KLL7Id1-",
        "kdNEsZMZQhlO",
        "yrHF080XQ8Ix",
        "gaq_bWDXRnmi",
        "VhwulGizSIuk",
        "a3IrJWC0SzLd",
        "n1lREyj7t9vI",
        "EV3z5mz2vd3g",
        "Inu_lnBvYimB",
        "aN8Ecq0vosBx"
      ],
      "authorship_tag": "ABX9TyMhP/tkjI3ro2cNOfIjccH5",
      "include_colab_link": true
    },
    "kernelspec": {
      "name": "python3",
      "display_name": "Python 3"
    },
    "language_info": {
      "name": "python"
    }
  },
  "cells": [
    {
      "cell_type": "markdown",
      "metadata": {
        "id": "view-in-github",
        "colab_type": "text"
      },
      "source": [
        "<a href=\"https://colab.research.google.com/github/thiagoteles10/acidentes_aeronauticos/blob/main/acidentes_aeron%C3%A1uticos(parte_1).ipynb\" target=\"_parent\"><img src=\"https://colab.research.google.com/assets/colab-badge.svg\" alt=\"Open In Colab\"/></a>"
      ]
    },
    {
      "cell_type": "code",
      "execution_count": 1,
      "metadata": {
        "id": "z2RNHh0JHz25"
      },
      "outputs": [],
      "source": [
        "import pandas as pd\n",
        "import matplotlib.pyplot as plt\n",
        "import seaborn as sns\n",
        "import numpy as np\n",
        "import random\n",
        "import missingno"
      ]
    },
    {
      "cell_type": "code",
      "source": [
        "df = pd.read_csv('aircrafts.csv', encoding='latin-1')"
      ],
      "metadata": {
        "id": "d9UT53MxILxs"
      },
      "execution_count": 2,
      "outputs": []
    },
    {
      "cell_type": "markdown",
      "source": [
        "## **Verificando quais informações o dataframe possui**"
      ],
      "metadata": {
        "id": "j-pbP6LOu-BL"
      }
    },
    {
      "cell_type": "code",
      "source": [
        "df.head(5)"
      ],
      "metadata": {
        "colab": {
          "base_uri": "https://localhost:8080/",
          "height": 456
        },
        "id": "Vqp90CJQvapr",
        "outputId": "7aa5c133-499e-4a27-a23c-ea141c535850"
      },
      "execution_count": 3,
      "outputs": [
        {
          "output_type": "execute_result",
          "data": {
            "text/plain": [
              "   Unnamed: 0  aircraft_id  occurrence_id registration  operator_id equipment  \\\n",
              "0           0            4          45602        PPGXE          241  AIRPLANE   \n",
              "1           1           40          53551        PPGSZ          160  AIRPLANE   \n",
              "2           2          118          43721        PTCMT         1232  AIRPLANE   \n",
              "3           3          130          35556        PTEQI         3992  AIRPLANE   \n",
              "4           4          191          32579        PPVMM         4365  AIRPLANE   \n",
              "\n",
              "                  manufacturer     model engine_type  engines_amount  ...  \\\n",
              "0  NEIVA INDUSTRIA AERONAUTICA      56-C      PISTON             1.0  ...   \n",
              "1  NEIVA INDUSTRIA AERONAUTICA      56-C      PISTON             1.0  ...   \n",
              "2               BEECH AIRCRAFT    95-B55      PISTON             2.0  ...   \n",
              "3  NEIVA INDUSTRIA AERONAUTICA  EMB-721C      PISTON             1.0  ...   \n",
              "4               BOEING COMPANY   737-241         JET             2.0  ...   \n",
              "\n",
              "   registration_country  registration_category  registration_aviation  \\\n",
              "0                BRAZIL                    PRI            INSTRUCTION   \n",
              "1                BRAZIL                    PRI            INSTRUCTION   \n",
              "2                BRAZIL                    TPX               AEROTAXI   \n",
              "3                BRAZIL                    TPP                PRIVATE   \n",
              "4                BRAZIL                    TPR                REGULAR   \n",
              "\n",
              "  origin_flight destination_flight    operation_phase type_operation  \\\n",
              "0          SDPW               SDPW            UNKNOWN    INSTRUCTION   \n",
              "1          SBBP               SBBP            TAKEOFF    INSTRUCTION   \n",
              "2          ****               ****  RUN AFTER LANDING       AEROTAXI   \n",
              "3          SNDU               SBSL  RUN AFTER LANDING        PRIVATE   \n",
              "4          ****               ****          ASCENSION        REGULAR   \n",
              "\n",
              "  damage_level fatalities_amount extraction_day  \n",
              "0  SUBSTANTIAL               NaN     2016-07-30  \n",
              "1        LIGHT               NaN     2016-07-30  \n",
              "2  SUBSTANTIAL               NaN     2016-07-30  \n",
              "3        LIGHT               NaN     2016-07-30  \n",
              "4         NONE               NaN     2016-07-30  \n",
              "\n",
              "[5 rows x 23 columns]"
            ],
            "text/html": [
              "\n",
              "  <div id=\"df-392c626b-6ad7-4591-8071-ca7f95f7b261\">\n",
              "    <div class=\"colab-df-container\">\n",
              "      <div>\n",
              "<style scoped>\n",
              "    .dataframe tbody tr th:only-of-type {\n",
              "        vertical-align: middle;\n",
              "    }\n",
              "\n",
              "    .dataframe tbody tr th {\n",
              "        vertical-align: top;\n",
              "    }\n",
              "\n",
              "    .dataframe thead th {\n",
              "        text-align: right;\n",
              "    }\n",
              "</style>\n",
              "<table border=\"1\" class=\"dataframe\">\n",
              "  <thead>\n",
              "    <tr style=\"text-align: right;\">\n",
              "      <th></th>\n",
              "      <th>Unnamed: 0</th>\n",
              "      <th>aircraft_id</th>\n",
              "      <th>occurrence_id</th>\n",
              "      <th>registration</th>\n",
              "      <th>operator_id</th>\n",
              "      <th>equipment</th>\n",
              "      <th>manufacturer</th>\n",
              "      <th>model</th>\n",
              "      <th>engine_type</th>\n",
              "      <th>engines_amount</th>\n",
              "      <th>...</th>\n",
              "      <th>registration_country</th>\n",
              "      <th>registration_category</th>\n",
              "      <th>registration_aviation</th>\n",
              "      <th>origin_flight</th>\n",
              "      <th>destination_flight</th>\n",
              "      <th>operation_phase</th>\n",
              "      <th>type_operation</th>\n",
              "      <th>damage_level</th>\n",
              "      <th>fatalities_amount</th>\n",
              "      <th>extraction_day</th>\n",
              "    </tr>\n",
              "  </thead>\n",
              "  <tbody>\n",
              "    <tr>\n",
              "      <th>0</th>\n",
              "      <td>0</td>\n",
              "      <td>4</td>\n",
              "      <td>45602</td>\n",
              "      <td>PPGXE</td>\n",
              "      <td>241</td>\n",
              "      <td>AIRPLANE</td>\n",
              "      <td>NEIVA INDUSTRIA AERONAUTICA</td>\n",
              "      <td>56-C</td>\n",
              "      <td>PISTON</td>\n",
              "      <td>1.0</td>\n",
              "      <td>...</td>\n",
              "      <td>BRAZIL</td>\n",
              "      <td>PRI</td>\n",
              "      <td>INSTRUCTION</td>\n",
              "      <td>SDPW</td>\n",
              "      <td>SDPW</td>\n",
              "      <td>UNKNOWN</td>\n",
              "      <td>INSTRUCTION</td>\n",
              "      <td>SUBSTANTIAL</td>\n",
              "      <td>NaN</td>\n",
              "      <td>2016-07-30</td>\n",
              "    </tr>\n",
              "    <tr>\n",
              "      <th>1</th>\n",
              "      <td>1</td>\n",
              "      <td>40</td>\n",
              "      <td>53551</td>\n",
              "      <td>PPGSZ</td>\n",
              "      <td>160</td>\n",
              "      <td>AIRPLANE</td>\n",
              "      <td>NEIVA INDUSTRIA AERONAUTICA</td>\n",
              "      <td>56-C</td>\n",
              "      <td>PISTON</td>\n",
              "      <td>1.0</td>\n",
              "      <td>...</td>\n",
              "      <td>BRAZIL</td>\n",
              "      <td>PRI</td>\n",
              "      <td>INSTRUCTION</td>\n",
              "      <td>SBBP</td>\n",
              "      <td>SBBP</td>\n",
              "      <td>TAKEOFF</td>\n",
              "      <td>INSTRUCTION</td>\n",
              "      <td>LIGHT</td>\n",
              "      <td>NaN</td>\n",
              "      <td>2016-07-30</td>\n",
              "    </tr>\n",
              "    <tr>\n",
              "      <th>2</th>\n",
              "      <td>2</td>\n",
              "      <td>118</td>\n",
              "      <td>43721</td>\n",
              "      <td>PTCMT</td>\n",
              "      <td>1232</td>\n",
              "      <td>AIRPLANE</td>\n",
              "      <td>BEECH AIRCRAFT</td>\n",
              "      <td>95-B55</td>\n",
              "      <td>PISTON</td>\n",
              "      <td>2.0</td>\n",
              "      <td>...</td>\n",
              "      <td>BRAZIL</td>\n",
              "      <td>TPX</td>\n",
              "      <td>AEROTAXI</td>\n",
              "      <td>****</td>\n",
              "      <td>****</td>\n",
              "      <td>RUN AFTER LANDING</td>\n",
              "      <td>AEROTAXI</td>\n",
              "      <td>SUBSTANTIAL</td>\n",
              "      <td>NaN</td>\n",
              "      <td>2016-07-30</td>\n",
              "    </tr>\n",
              "    <tr>\n",
              "      <th>3</th>\n",
              "      <td>3</td>\n",
              "      <td>130</td>\n",
              "      <td>35556</td>\n",
              "      <td>PTEQI</td>\n",
              "      <td>3992</td>\n",
              "      <td>AIRPLANE</td>\n",
              "      <td>NEIVA INDUSTRIA AERONAUTICA</td>\n",
              "      <td>EMB-721C</td>\n",
              "      <td>PISTON</td>\n",
              "      <td>1.0</td>\n",
              "      <td>...</td>\n",
              "      <td>BRAZIL</td>\n",
              "      <td>TPP</td>\n",
              "      <td>PRIVATE</td>\n",
              "      <td>SNDU</td>\n",
              "      <td>SBSL</td>\n",
              "      <td>RUN AFTER LANDING</td>\n",
              "      <td>PRIVATE</td>\n",
              "      <td>LIGHT</td>\n",
              "      <td>NaN</td>\n",
              "      <td>2016-07-30</td>\n",
              "    </tr>\n",
              "    <tr>\n",
              "      <th>4</th>\n",
              "      <td>4</td>\n",
              "      <td>191</td>\n",
              "      <td>32579</td>\n",
              "      <td>PPVMM</td>\n",
              "      <td>4365</td>\n",
              "      <td>AIRPLANE</td>\n",
              "      <td>BOEING COMPANY</td>\n",
              "      <td>737-241</td>\n",
              "      <td>JET</td>\n",
              "      <td>2.0</td>\n",
              "      <td>...</td>\n",
              "      <td>BRAZIL</td>\n",
              "      <td>TPR</td>\n",
              "      <td>REGULAR</td>\n",
              "      <td>****</td>\n",
              "      <td>****</td>\n",
              "      <td>ASCENSION</td>\n",
              "      <td>REGULAR</td>\n",
              "      <td>NONE</td>\n",
              "      <td>NaN</td>\n",
              "      <td>2016-07-30</td>\n",
              "    </tr>\n",
              "  </tbody>\n",
              "</table>\n",
              "<p>5 rows × 23 columns</p>\n",
              "</div>\n",
              "      <button class=\"colab-df-convert\" onclick=\"convertToInteractive('df-392c626b-6ad7-4591-8071-ca7f95f7b261')\"\n",
              "              title=\"Convert this dataframe to an interactive table.\"\n",
              "              style=\"display:none;\">\n",
              "        \n",
              "  <svg xmlns=\"http://www.w3.org/2000/svg\" height=\"24px\"viewBox=\"0 0 24 24\"\n",
              "       width=\"24px\">\n",
              "    <path d=\"M0 0h24v24H0V0z\" fill=\"none\"/>\n",
              "    <path d=\"M18.56 5.44l.94 2.06.94-2.06 2.06-.94-2.06-.94-.94-2.06-.94 2.06-2.06.94zm-11 1L8.5 8.5l.94-2.06 2.06-.94-2.06-.94L8.5 2.5l-.94 2.06-2.06.94zm10 10l.94 2.06.94-2.06 2.06-.94-2.06-.94-.94-2.06-.94 2.06-2.06.94z\"/><path d=\"M17.41 7.96l-1.37-1.37c-.4-.4-.92-.59-1.43-.59-.52 0-1.04.2-1.43.59L10.3 9.45l-7.72 7.72c-.78.78-.78 2.05 0 2.83L4 21.41c.39.39.9.59 1.41.59.51 0 1.02-.2 1.41-.59l7.78-7.78 2.81-2.81c.8-.78.8-2.07 0-2.86zM5.41 20L4 18.59l7.72-7.72 1.47 1.35L5.41 20z\"/>\n",
              "  </svg>\n",
              "      </button>\n",
              "      \n",
              "  <style>\n",
              "    .colab-df-container {\n",
              "      display:flex;\n",
              "      flex-wrap:wrap;\n",
              "      gap: 12px;\n",
              "    }\n",
              "\n",
              "    .colab-df-convert {\n",
              "      background-color: #E8F0FE;\n",
              "      border: none;\n",
              "      border-radius: 50%;\n",
              "      cursor: pointer;\n",
              "      display: none;\n",
              "      fill: #1967D2;\n",
              "      height: 32px;\n",
              "      padding: 0 0 0 0;\n",
              "      width: 32px;\n",
              "    }\n",
              "\n",
              "    .colab-df-convert:hover {\n",
              "      background-color: #E2EBFA;\n",
              "      box-shadow: 0px 1px 2px rgba(60, 64, 67, 0.3), 0px 1px 3px 1px rgba(60, 64, 67, 0.15);\n",
              "      fill: #174EA6;\n",
              "    }\n",
              "\n",
              "    [theme=dark] .colab-df-convert {\n",
              "      background-color: #3B4455;\n",
              "      fill: #D2E3FC;\n",
              "    }\n",
              "\n",
              "    [theme=dark] .colab-df-convert:hover {\n",
              "      background-color: #434B5C;\n",
              "      box-shadow: 0px 1px 3px 1px rgba(0, 0, 0, 0.15);\n",
              "      filter: drop-shadow(0px 1px 2px rgba(0, 0, 0, 0.3));\n",
              "      fill: #FFFFFF;\n",
              "    }\n",
              "  </style>\n",
              "\n",
              "      <script>\n",
              "        const buttonEl =\n",
              "          document.querySelector('#df-392c626b-6ad7-4591-8071-ca7f95f7b261 button.colab-df-convert');\n",
              "        buttonEl.style.display =\n",
              "          google.colab.kernel.accessAllowed ? 'block' : 'none';\n",
              "\n",
              "        async function convertToInteractive(key) {\n",
              "          const element = document.querySelector('#df-392c626b-6ad7-4591-8071-ca7f95f7b261');\n",
              "          const dataTable =\n",
              "            await google.colab.kernel.invokeFunction('convertToInteractive',\n",
              "                                                     [key], {});\n",
              "          if (!dataTable) return;\n",
              "\n",
              "          const docLinkHtml = 'Like what you see? Visit the ' +\n",
              "            '<a target=\"_blank\" href=https://colab.research.google.com/notebooks/data_table.ipynb>data table notebook</a>'\n",
              "            + ' to learn more about interactive tables.';\n",
              "          element.innerHTML = '';\n",
              "          dataTable['output_type'] = 'display_data';\n",
              "          await google.colab.output.renderOutput(dataTable, element);\n",
              "          const docLink = document.createElement('div');\n",
              "          docLink.innerHTML = docLinkHtml;\n",
              "          element.appendChild(docLink);\n",
              "        }\n",
              "      </script>\n",
              "    </div>\n",
              "  </div>\n",
              "  "
            ]
          },
          "metadata": {},
          "execution_count": 3
        }
      ]
    },
    {
      "cell_type": "code",
      "source": [],
      "metadata": {
        "id": "71zTCgrnZEOw"
      },
      "execution_count": 3,
      "outputs": []
    },
    {
      "cell_type": "markdown",
      "source": [
        "## **Deletando a coluna Unnamed**"
      ],
      "metadata": {
        "id": "HoLlkpDCNyAE"
      }
    },
    {
      "cell_type": "code",
      "source": [
        "df.drop(['Unnamed: 0'],axis=1, inplace=True)"
      ],
      "metadata": {
        "id": "hmLQNlbyNxjr"
      },
      "execution_count": 4,
      "outputs": []
    },
    {
      "cell_type": "markdown",
      "source": [
        "## **Verificando as colunas e os tipos**"
      ],
      "metadata": {
        "id": "B3fiYtZooPaM"
      }
    },
    {
      "cell_type": "code",
      "source": [
        "df.info()"
      ],
      "metadata": {
        "id": "hTZDezIyKZ1S",
        "colab": {
          "base_uri": "https://localhost:8080/"
        },
        "outputId": "1cd6a6ff-84d6-4ded-b1ea-665b8e273d7c"
      },
      "execution_count": 5,
      "outputs": [
        {
          "output_type": "stream",
          "name": "stdout",
          "text": [
            "<class 'pandas.core.frame.DataFrame'>\n",
            "RangeIndex: 2043 entries, 0 to 2042\n",
            "Data columns (total 22 columns):\n",
            " #   Column                    Non-Null Count  Dtype  \n",
            "---  ------                    --------------  -----  \n",
            " 0   aircraft_id               2043 non-null   int64  \n",
            " 1   occurrence_id             2043 non-null   int64  \n",
            " 2   registration              2043 non-null   object \n",
            " 3   operator_id               2043 non-null   int64  \n",
            " 4   equipment                 2042 non-null   object \n",
            " 5   manufacturer              2043 non-null   object \n",
            " 6   model                     2043 non-null   object \n",
            " 7   engine_type               2043 non-null   object \n",
            " 8   engines_amount            2034 non-null   float64\n",
            " 9   takeoff_max_weight (Lbs)  2043 non-null   int64  \n",
            " 10  seatings_amount           2025 non-null   float64\n",
            " 11  year_manufacture          2039 non-null   float64\n",
            " 12  registration_country      2031 non-null   object \n",
            " 13  registration_category     2043 non-null   object \n",
            " 14  registration_aviation     2043 non-null   object \n",
            " 15  origin_flight             2043 non-null   object \n",
            " 16  destination_flight        2043 non-null   object \n",
            " 17  operation_phase           2042 non-null   object \n",
            " 18  type_operation            2043 non-null   object \n",
            " 19  damage_level              2043 non-null   object \n",
            " 20  fatalities_amount         355 non-null    float64\n",
            " 21  extraction_day            2043 non-null   object \n",
            "dtypes: float64(4), int64(4), object(14)\n",
            "memory usage: 351.3+ KB\n"
          ]
        }
      ]
    },
    {
      "cell_type": "markdown",
      "source": [
        "## **Dados faltantes**"
      ],
      "metadata": {
        "id": "NNzxpUM-Affr"
      }
    },
    {
      "cell_type": "code",
      "source": [
        "missingno.matrix(df,figsize=(40,10))"
      ],
      "metadata": {
        "colab": {
          "base_uri": "https://localhost:8080/",
          "height": 370
        },
        "id": "xAu9qf9DAz4C",
        "outputId": "17360d4e-e61a-49ff-b6de-e3323328c92e"
      },
      "execution_count": 6,
      "outputs": [
        {
          "output_type": "execute_result",
          "data": {
            "text/plain": [
              "<matplotlib.axes._subplots.AxesSubplot at 0x7f1401381490>"
            ]
          },
          "metadata": {},
          "execution_count": 6
        },
        {
          "output_type": "display_data",
          "data": {
            "text/plain": [
              "<Figure size 2880x720 with 2 Axes>"
            ],
            "image/png": "[encoded data removed]"
          },
          "metadata": {
            "needs_background": "light"
          }
        }
      ]
    },
    {
      "cell_type": "markdown",
      "source": [
        "### Verificamos uma quantidade significativa de dados faltantes na coluna fatalities_amount"
      ],
      "metadata": {
        "id": "q_3iVzXGHSc8"
      }
    },
    {
      "cell_type": "markdown",
      "source": [
        "## **Quantidade de valores nulos da coluna('fatalities_amount')**"
      ],
      "metadata": {
        "id": "3W-hDj74oGev"
      }
    },
    {
      "cell_type": "code",
      "source": [
        "df['fatalities_amount'].isnull().sum()"
      ],
      "metadata": {
        "colab": {
          "base_uri": "https://localhost:8080/"
        },
        "id": "PE-Dlk20by62",
        "outputId": "8eb740e6-662f-4049-a215-2c6dee6efe85"
      },
      "execution_count": 7,
      "outputs": [
        {
          "output_type": "execute_result",
          "data": {
            "text/plain": [
              "1688"
            ]
          },
          "metadata": {},
          "execution_count": 7
        }
      ]
    },
    {
      "cell_type": "markdown",
      "source": [
        "## **Verificando os nomes das colunas do dataframe**"
      ],
      "metadata": {
        "id": "rjLI0S2m4dXS"
      }
    },
    {
      "cell_type": "code",
      "source": [
        "df.columns"
      ],
      "metadata": {
        "colab": {
          "base_uri": "https://localhost:8080/"
        },
        "id": "_LuL8yfVskuq",
        "outputId": "55881d9f-4e42-4a91-ffc0-68fe799fc197"
      },
      "execution_count": 8,
      "outputs": [
        {
          "output_type": "execute_result",
          "data": {
            "text/plain": [
              "Index(['aircraft_id', 'occurrence_id', 'registration', 'operator_id',\n",
              "       'equipment', 'manufacturer', 'model', 'engine_type', 'engines_amount',\n",
              "       'takeoff_max_weight (Lbs)', 'seatings_amount', 'year_manufacture',\n",
              "       'registration_country', 'registration_category',\n",
              "       'registration_aviation', 'origin_flight', 'destination_flight',\n",
              "       'operation_phase', 'type_operation', 'damage_level',\n",
              "       'fatalities_amount', 'extraction_day'],\n",
              "      dtype='object')"
            ]
          },
          "metadata": {},
          "execution_count": 8
        }
      ]
    },
    {
      "cell_type": "markdown",
      "source": [
        "## **verificando a quantidade por porcentagem de valores ausentes no df**\n",
        "\n",
        "---\n",
        "\n"
      ],
      "metadata": {
        "id": "fq_6mitvqnwh"
      }
    },
    {
      "cell_type": "code",
      "source": [
        "df.isnull().sum() / df.shape[0] * 100"
      ],
      "metadata": {
        "id": "UeDcEZd-qsX_",
        "colab": {
          "base_uri": "https://localhost:8080/"
        },
        "outputId": "da48cf43-a7b5-4957-df6a-3e3cf13c2ecd"
      },
      "execution_count": 9,
      "outputs": [
        {
          "output_type": "execute_result",
          "data": {
            "text/plain": [
              "aircraft_id                  0.000000\n",
              "occurrence_id                0.000000\n",
              "registration                 0.000000\n",
              "operator_id                  0.000000\n",
              "equipment                    0.048948\n",
              "manufacturer                 0.000000\n",
              "model                        0.000000\n",
              "engine_type                  0.000000\n",
              "engines_amount               0.440529\n",
              "takeoff_max_weight (Lbs)     0.000000\n",
              "seatings_amount              0.881057\n",
              "year_manufacture             0.195791\n",
              "registration_country         0.587372\n",
              "registration_category        0.000000\n",
              "registration_aviation        0.000000\n",
              "origin_flight                0.000000\n",
              "destination_flight           0.000000\n",
              "operation_phase              0.048948\n",
              "type_operation               0.000000\n",
              "damage_level                 0.000000\n",
              "fatalities_amount           82.623593\n",
              "extraction_day               0.000000\n",
              "dtype: float64"
            ]
          },
          "metadata": {},
          "execution_count": 9
        }
      ]
    },
    {
      "cell_type": "markdown",
      "source": [
        "### notamos que apenas a coluna fatalities amount tem 82.6% de dados faltantes."
      ],
      "metadata": {
        "id": "oRZPmTlqJtdn"
      }
    },
    {
      "cell_type": "markdown",
      "source": [
        "## **Informações estatísticas**"
      ],
      "metadata": {
        "id": "jEngiPyE4rs2"
      }
    },
    {
      "cell_type": "code",
      "source": [
        "df.describe()"
      ],
      "metadata": {
        "id": "2NOcuAQRRy0b",
        "colab": {
          "base_uri": "https://localhost:8080/",
          "height": 0
        },
        "outputId": "e74bde92-a089-42ed-bb1e-9c1c3366ebd1"
      },
      "execution_count": 10,
      "outputs": [
        {
          "output_type": "execute_result",
          "data": {
            "text/plain": [
              "        aircraft_id  occurrence_id  operator_id  engines_amount  \\\n",
              "count   2043.000000    2043.000000  2043.000000     2034.000000   \n",
              "mean   12300.670093   43961.869799  3156.447871        1.244346   \n",
              "std     7654.268691    7857.658738  1645.351104        0.483653   \n",
              "min        4.000000   25799.000000    13.000000        0.000000   \n",
              "25%     9061.000000   38839.500000  1821.000000        1.000000   \n",
              "50%    11267.000000   45564.000000  3992.000000        1.000000   \n",
              "75%    13601.500000   50353.500000  3992.000000        2.000000   \n",
              "max    39147.000000   65312.000000  6270.000000        4.000000   \n",
              "\n",
              "       takeoff_max_weight (Lbs)  seatings_amount  year_manufacture  \\\n",
              "count               2043.000000      2025.000000       2039.000000   \n",
              "mean               11750.045032         8.928889       1902.494850   \n",
              "std                48511.565643        26.922299        402.024605   \n",
              "min                    0.000000         0.000000          0.000000   \n",
              "25%                 1860.000000         2.000000       1975.000000   \n",
              "50%                 3600.000000         4.000000       1986.000000   \n",
              "75%                 4750.000000         6.000000       1999.000000   \n",
              "max               630499.000000       301.000000       2015.000000   \n",
              "\n",
              "       fatalities_amount  \n",
              "count         355.000000  \n",
              "mean            3.208451  \n",
              "std            13.367108  \n",
              "min             1.000000  \n",
              "25%             1.000000  \n",
              "50%             2.000000  \n",
              "75%             2.000000  \n",
              "max           199.000000  "
            ],
            "text/html": [
              "\n",
              "  <div id=\"df-2b48ac60-09ea-4ece-8f91-7162da56e94f\">\n",
              "    <div class=\"colab-df-container\">\n",
              "      <div>\n",
              "<style scoped>\n",
              "    .dataframe tbody tr th:only-of-type {\n",
              "        vertical-align: middle;\n",
              "    }\n",
              "\n",
              "    .dataframe tbody tr th {\n",
              "        vertical-align: top;\n",
              "    }\n",
              "\n",
              "    .dataframe thead th {\n",
              "        text-align: right;\n",
              "    }\n",
              "</style>\n",
              "<table border=\"1\" class=\"dataframe\">\n",
              "  <thead>\n",
              "    <tr style=\"text-align: right;\">\n",
              "      <th></th>\n",
              "      <th>aircraft_id</th>\n",
              "      <th>occurrence_id</th>\n",
              "      <th>operator_id</th>\n",
              "      <th>engines_amount</th>\n",
              "      <th>takeoff_max_weight (Lbs)</th>\n",
              "      <th>seatings_amount</th>\n",
              "      <th>year_manufacture</th>\n",
              "      <th>fatalities_amount</th>\n",
              "    </tr>\n",
              "  </thead>\n",
              "  <tbody>\n",
              "    <tr>\n",
              "      <th>count</th>\n",
              "      <td>2043.000000</td>\n",
              "      <td>2043.000000</td>\n",
              "      <td>2043.000000</td>\n",
              "      <td>2034.000000</td>\n",
              "      <td>2043.000000</td>\n",
              "      <td>2025.000000</td>\n",
              "      <td>2039.000000</td>\n",
              "      <td>355.000000</td>\n",
              "    </tr>\n",
              "    <tr>\n",
              "      <th>mean</th>\n",
              "      <td>12300.670093</td>\n",
              "      <td>43961.869799</td>\n",
              "      <td>3156.447871</td>\n",
              "      <td>1.244346</td>\n",
              "      <td>11750.045032</td>\n",
              "      <td>8.928889</td>\n",
              "      <td>1902.494850</td>\n",
              "      <td>3.208451</td>\n",
              "    </tr>\n",
              "    <tr>\n",
              "      <th>std</th>\n",
              "      <td>7654.268691</td>\n",
              "      <td>7857.658738</td>\n",
              "      <td>1645.351104</td>\n",
              "      <td>0.483653</td>\n",
              "      <td>48511.565643</td>\n",
              "      <td>26.922299</td>\n",
              "      <td>402.024605</td>\n",
              "      <td>13.367108</td>\n",
              "    </tr>\n",
              "    <tr>\n",
              "      <th>min</th>\n",
              "      <td>4.000000</td>\n",
              "      <td>25799.000000</td>\n",
              "      <td>13.000000</td>\n",
              "      <td>0.000000</td>\n",
              "      <td>0.000000</td>\n",
              "      <td>0.000000</td>\n",
              "      <td>0.000000</td>\n",
              "      <td>1.000000</td>\n",
              "    </tr>\n",
              "    <tr>\n",
              "      <th>25%</th>\n",
              "      <td>9061.000000</td>\n",
              "      <td>38839.500000</td>\n",
              "      <td>1821.000000</td>\n",
              "      <td>1.000000</td>\n",
              "      <td>1860.000000</td>\n",
              "      <td>2.000000</td>\n",
              "      <td>1975.000000</td>\n",
              "      <td>1.000000</td>\n",
              "    </tr>\n",
              "    <tr>\n",
              "      <th>50%</th>\n",
              "      <td>11267.000000</td>\n",
              "      <td>45564.000000</td>\n",
              "      <td>3992.000000</td>\n",
              "      <td>1.000000</td>\n",
              "      <td>3600.000000</td>\n",
              "      <td>4.000000</td>\n",
              "      <td>1986.000000</td>\n",
              "      <td>2.000000</td>\n",
              "    </tr>\n",
              "    <tr>\n",
              "      <th>75%</th>\n",
              "      <td>13601.500000</td>\n",
              "      <td>50353.500000</td>\n",
              "      <td>3992.000000</td>\n",
              "      <td>2.000000</td>\n",
              "      <td>4750.000000</td>\n",
              "      <td>6.000000</td>\n",
              "      <td>1999.000000</td>\n",
              "      <td>2.000000</td>\n",
              "    </tr>\n",
              "    <tr>\n",
              "      <th>max</th>\n",
              "      <td>39147.000000</td>\n",
              "      <td>65312.000000</td>\n",
              "      <td>6270.000000</td>\n",
              "      <td>4.000000</td>\n",
              "      <td>630499.000000</td>\n",
              "      <td>301.000000</td>\n",
              "      <td>2015.000000</td>\n",
              "      <td>199.000000</td>\n",
              "    </tr>\n",
              "  </tbody>\n",
              "</table>\n",
              "</div>\n",
              "      <button class=\"colab-df-convert\" onclick=\"convertToInteractive('df-2b48ac60-09ea-4ece-8f91-7162da56e94f')\"\n",
              "              title=\"Convert this dataframe to an interactive table.\"\n",
              "              style=\"display:none;\">\n",
              "        \n",
              "  <svg xmlns=\"http://www.w3.org/2000/svg\" height=\"24px\"viewBox=\"0 0 24 24\"\n",
              "       width=\"24px\">\n",
              "    <path d=\"M0 0h24v24H0V0z\" fill=\"none\"/>\n",
              "    <path d=\"M18.56 5.44l.94 2.06.94-2.06 2.06-.94-2.06-.94-.94-2.06-.94 2.06-2.06.94zm-11 1L8.5 8.5l.94-2.06 2.06-.94-2.06-.94L8.5 2.5l-.94 2.06-2.06.94zm10 10l.94 2.06.94-2.06 2.06-.94-2.06-.94-.94-2.06-.94 2.06-2.06.94z\"/><path d=\"M17.41 7.96l-1.37-1.37c-.4-.4-.92-.59-1.43-.59-.52 0-1.04.2-1.43.59L10.3 9.45l-7.72 7.72c-.78.78-.78 2.05 0 2.83L4 21.41c.39.39.9.59 1.41.59.51 0 1.02-.2 1.41-.59l7.78-7.78 2.81-2.81c.8-.78.8-2.07 0-2.86zM5.41 20L4 18.59l7.72-7.72 1.47 1.35L5.41 20z\"/>\n",
              "  </svg>\n",
              "      </button>\n",
              "      \n",
              "  <style>\n",
              "    .colab-df-container {\n",
              "      display:flex;\n",
              "      flex-wrap:wrap;\n",
              "      gap: 12px;\n",
              "    }\n",
              "\n",
              "    .colab-df-convert {\n",
              "      background-color: #E8F0FE;\n",
              "      border: none;\n",
              "      border-radius: 50%;\n",
              "      cursor: pointer;\n",
              "      display: none;\n",
              "      fill: #1967D2;\n",
              "      height: 32px;\n",
              "      padding: 0 0 0 0;\n",
              "      width: 32px;\n",
              "    }\n",
              "\n",
              "    .colab-df-convert:hover {\n",
              "      background-color: #E2EBFA;\n",
              "      box-shadow: 0px 1px 2px rgba(60, 64, 67, 0.3), 0px 1px 3px 1px rgba(60, 64, 67, 0.15);\n",
              "      fill: #174EA6;\n",
              "    }\n",
              "\n",
              "    [theme=dark] .colab-df-convert {\n",
              "      background-color: #3B4455;\n",
              "      fill: #D2E3FC;\n",
              "    }\n",
              "\n",
              "    [theme=dark] .colab-df-convert:hover {\n",
              "      background-color: #434B5C;\n",
              "      box-shadow: 0px 1px 3px 1px rgba(0, 0, 0, 0.15);\n",
              "      filter: drop-shadow(0px 1px 2px rgba(0, 0, 0, 0.3));\n",
              "      fill: #FFFFFF;\n",
              "    }\n",
              "  </style>\n",
              "\n",
              "      <script>\n",
              "        const buttonEl =\n",
              "          document.querySelector('#df-2b48ac60-09ea-4ece-8f91-7162da56e94f button.colab-df-convert');\n",
              "        buttonEl.style.display =\n",
              "          google.colab.kernel.accessAllowed ? 'block' : 'none';\n",
              "\n",
              "        async function convertToInteractive(key) {\n",
              "          const element = document.querySelector('#df-2b48ac60-09ea-4ece-8f91-7162da56e94f');\n",
              "          const dataTable =\n",
              "            await google.colab.kernel.invokeFunction('convertToInteractive',\n",
              "                                                     [key], {});\n",
              "          if (!dataTable) return;\n",
              "\n",
              "          const docLinkHtml = 'Like what you see? Visit the ' +\n",
              "            '<a target=\"_blank\" href=https://colab.research.google.com/notebooks/data_table.ipynb>data table notebook</a>'\n",
              "            + ' to learn more about interactive tables.';\n",
              "          element.innerHTML = '';\n",
              "          dataTable['output_type'] = 'display_data';\n",
              "          await google.colab.output.renderOutput(dataTable, element);\n",
              "          const docLink = document.createElement('div');\n",
              "          docLink.innerHTML = docLinkHtml;\n",
              "          element.appendChild(docLink);\n",
              "        }\n",
              "      </script>\n",
              "    </div>\n",
              "  </div>\n",
              "  "
            ]
          },
          "metadata": {},
          "execution_count": 10
        }
      ]
    },
    {
      "cell_type": "markdown",
      "source": [
        "## **Obtendo a quantidade de linhas e colunas de um dataframe**"
      ],
      "metadata": {
        "id": "q7xe9IqLp2sE"
      }
    },
    {
      "cell_type": "code",
      "source": [
        "df.shape"
      ],
      "metadata": {
        "colab": {
          "base_uri": "https://localhost:8080/"
        },
        "id": "8du7UNPxknrw",
        "outputId": "d5f84db0-ae04-444d-844b-519e15e04f18"
      },
      "execution_count": 11,
      "outputs": [
        {
          "output_type": "execute_result",
          "data": {
            "text/plain": [
              "(2043, 22)"
            ]
          },
          "metadata": {},
          "execution_count": 11
        }
      ]
    },
    {
      "cell_type": "code",
      "source": [
        "linhas, colunas = df.shape"
      ],
      "metadata": {
        "id": "S-69KOpkH3_f"
      },
      "execution_count": 12,
      "outputs": []
    },
    {
      "cell_type": "markdown",
      "source": [
        "## **Quais as 30 aeronaves com maior incidência de acidentes?**"
      ],
      "metadata": {
        "id": "wf3DJOaF0Vc-"
      }
    },
    {
      "cell_type": "code",
      "source": [
        "df_avioes = df['model'].value_counts().head(30)"
      ],
      "metadata": {
        "id": "dWllY4ft8S11"
      },
      "execution_count": 13,
      "outputs": []
    },
    {
      "cell_type": "code",
      "source": [
        "df_avioes"
      ],
      "metadata": {
        "colab": {
          "base_uri": "https://localhost:8080/"
        },
        "id": "a-VcBvl7G7wN",
        "outputId": "6cd5f7d8-b0a2-4597-b3c8-c3250a510308"
      },
      "execution_count": 14,
      "outputs": [
        {
          "output_type": "execute_result",
          "data": {
            "text/plain": [
              "AB-115        111\n",
              "EMB-202        78\n",
              "EMB-201A       72\n",
              "EMB-810C       61\n",
              "EMB-810D       38\n",
              "R44            35\n",
              "58             34\n",
              "EMB-202A       33\n",
              "210L           31\n",
              "A188B          30\n",
              "152            30\n",
              "EMB-711C       28\n",
              "R22 BETA       28\n",
              "R44 II         28\n",
              "206B           26\n",
              "EMB-201        25\n",
              "EMB-720D       25\n",
              "CAP-4          24\n",
              "PA-25-235      23\n",
              "AS 350 B2      23\n",
              "R22            22\n",
              "PA-34-220T     21\n",
              "182P           19\n",
              "EMB-712        18\n",
              "56-C           18\n",
              "EMB-721C       18\n",
              "95-B55         17\n",
              "SR22           17\n",
              "EMB-711ST      17\n",
              "EMB-720C       16\n",
              "Name: model, dtype: int64"
            ]
          },
          "metadata": {},
          "execution_count": 14
        }
      ]
    },
    {
      "cell_type": "code",
      "source": [
        "plt.figure(figsize=(20,10));\n",
        "plt.title('Gráfico de acidentes aéreos por aeronave')\n",
        "sns.countplot(data=df, x='model', order=df_avioes.index);\n",
        "plt.xticks(rotation=90);"
      ],
      "metadata": {
        "colab": {
          "base_uri": "https://localhost:8080/",
          "height": 607
        },
        "id": "VZJy9DG8IFzE",
        "outputId": "ca24cf82-f669-487f-a084-0129f67faf46"
      },
      "execution_count": 15,
      "outputs": [
        {
          "output_type": "display_data",
          "data": {
            "text/plain": [
              "<Figure size 1440x720 with 1 Axes>"
            ],
            "image/png": "[encoded data removed]"
          },
          "metadata": {
            "needs_background": "light"
          }
        }
      ]
    },
    {
      "cell_type": "markdown",
      "source": [
        "## **Qual a porcentagem de incidência de acidentes aéreos com a aeronave AB-115 em comparação ao total de acidentes**"
      ],
      "metadata": {
        "id": "Kn7B59KoteH3"
      }
    },
    {
      "cell_type": "code",
      "source": [
        "acidentes_AB_115 = df['model'].value_counts()\n",
        "media = ((acidentes_AB_115[0] / (df['model'].shape[0])) * 100).round()\n",
        "print(f'os acidentes com a aeronave AB-115, correspondem a {media}% do total de acidentes')"
      ],
      "metadata": {
        "colab": {
          "base_uri": "https://localhost:8080/"
        },
        "id": "MnajEQb-tgBo",
        "outputId": "c1f61df9-1bbf-4319-e83c-ffed66b019c3"
      },
      "execution_count": 16,
      "outputs": [
        {
          "output_type": "stream",
          "name": "stdout",
          "text": [
            "os acidentes com a aeronave AB-115, correspondem a 5.0% do total de acidentes\n"
          ]
        }
      ]
    },
    {
      "cell_type": "markdown",
      "source": [
        "## **Qual empresa é responsável pela fabricação do AB-115**"
      ],
      "metadata": {
        "id": "u2E9tbu07Zaz"
      }
    },
    {
      "cell_type": "code",
      "source": [
        "empresa = df.loc[df['model'] == 'AB-115'].head(1)"
      ],
      "metadata": {
        "id": "bozVwgtMBgWS"
      },
      "execution_count": 17,
      "outputs": []
    },
    {
      "cell_type": "code",
      "source": [
        "print(f\"A empresa responsável pelo AB-115 É A {empresa.iloc[0,5]}\")"
      ],
      "metadata": {
        "colab": {
          "base_uri": "https://localhost:8080/"
        },
        "id": "doOr0i2wPCFL",
        "outputId": "fd3fc8e3-ed5d-4f8d-d41c-64681838fb3d"
      },
      "execution_count": 18,
      "outputs": [
        {
          "output_type": "stream",
          "name": "stdout",
          "text": [
            "A empresa responsável pelo AB-115 É A AERO BOERO\n"
          ]
        }
      ]
    },
    {
      "cell_type": "markdown",
      "source": [
        "## **Substituindo os valores nulos da coluna ['fatalities amount'] por zero.**"
      ],
      "metadata": {
        "id": "5iRACmULqrkz"
      }
    },
    {
      "cell_type": "code",
      "source": [
        "df ['fatalities_amount'] = df ['fatalities_amount'].fillna(0)"
      ],
      "metadata": {
        "id": "Z1-uZe78flyR"
      },
      "execution_count": 19,
      "outputs": []
    },
    {
      "cell_type": "markdown",
      "source": [
        "## **Número de óbitos em acidentes com a aeronave AB-115**"
      ],
      "metadata": {
        "id": "kodbBo23FO2Q"
      }
    },
    {
      "cell_type": "code",
      "source": [
        "ab_115 = df[['model','fatalities_amount']] # criando um dataframe com as colunas 'model' e 'fatalities_amount'\n"
      ],
      "metadata": {
        "id": "hToHV9D-Ljz_"
      },
      "execution_count": 20,
      "outputs": []
    },
    {
      "cell_type": "code",
      "source": [
        "AB_115 = ab_115.loc[ab_115['model']=='AB-115'] # criando um dataframe apenas com o modelo AB-115\n",
        "    "
      ],
      "metadata": {
        "id": "28QmbsdDGaOb"
      },
      "execution_count": 21,
      "outputs": []
    },
    {
      "cell_type": "code",
      "source": [
        "obitos_AB_115 = AB_115['fatalities_amount'].sum()"
      ],
      "metadata": {
        "id": "-28HAC7WM8zt"
      },
      "execution_count": 22,
      "outputs": []
    },
    {
      "cell_type": "code",
      "source": [
        "print(f'A quantidades de óbitos em acidentes com a aeronave AB-115 foram: {obitos_AB_115}')"
      ],
      "metadata": {
        "colab": {
          "base_uri": "https://localhost:8080/"
        },
        "id": "9BGs73AzOehc",
        "outputId": "285c1463-df13-4e2a-c229-52d79d1faee5"
      },
      "execution_count": 23,
      "outputs": [
        {
          "output_type": "stream",
          "name": "stdout",
          "text": [
            "A quantidades de óbitos em acidentes com a aeronave AB-115 foram: 3.0\n"
          ]
        }
      ]
    },
    {
      "cell_type": "markdown",
      "source": [
        "### Apesar de ser a aeronave com o maior número de acidentes, a AB-115 tem uma quantidade baixa de acidentes com vítimas fatais"
      ],
      "metadata": {
        "id": "HvbRqd6gPN7i"
      }
    },
    {
      "cell_type": "markdown",
      "source": [
        "## **Listando os 20 maiores acidentes por número de óbitos**"
      ],
      "metadata": {
        "id": "0vgmuDKJK-M2"
      }
    },
    {
      "cell_type": "code",
      "source": [
        "df['fatalities_amount'].sort_values(ascending=False).head(20)"
      ],
      "metadata": {
        "colab": {
          "base_uri": "https://localhost:8080/"
        },
        "id": "10Ln1AJVlHVS",
        "outputId": "3378c763-d0c0-43fe-80a4-2630327fa4e1"
      },
      "execution_count": 24,
      "outputs": [
        {
          "output_type": "execute_result",
          "data": {
            "text/plain": [
              "620     199.0\n",
              "638     154.0\n",
              "34       24.0\n",
              "526      19.0\n",
              "1210     16.0\n",
              "866      14.0\n",
              "33       10.0\n",
              "1365      8.0\n",
              "665       8.0\n",
              "1414      8.0\n",
              "1196      7.0\n",
              "1746      7.0\n",
              "626       7.0\n",
              "1620      6.0\n",
              "1110      6.0\n",
              "730       6.0\n",
              "446       6.0\n",
              "596       6.0\n",
              "32        6.0\n",
              "1783      5.0\n",
              "Name: fatalities_amount, dtype: float64"
            ]
          },
          "metadata": {},
          "execution_count": 24
        }
      ]
    },
    {
      "cell_type": "markdown",
      "source": [
        "## **As 20 aeronaves envolvidas nos maiores acidentes aéreos do Brasil.**"
      ],
      "metadata": {
        "id": "lfQtXWWrnYmj"
      }
    },
    {
      "cell_type": "code",
      "source": [
        "aeronaves = pd.DataFrame(df['fatalities_amount'].sort_values(ascending=False).head(20))"
      ],
      "metadata": {
        "id": "wpuy8S7tdypp"
      },
      "execution_count": 25,
      "outputs": []
    },
    {
      "cell_type": "code",
      "source": [
        "lista=[]\n",
        "for i in aeronaves['fatalities_amount']:\n",
        "  if df.loc[df['fatalities_amount']== i].iloc[0,6]:\n",
        "    modelo = df.loc[df['fatalities_amount']== i].iloc[0,6]\n",
        "    lista.append(modelo)\n",
        "\n",
        "print(f'A lista das 20 aeronaves envolvidas nos maiores acidentes aéreos do Brasil é: {lista}')   \n"
      ],
      "metadata": {
        "colab": {
          "base_uri": "https://localhost:8080/"
        },
        "id": "ddYDV7Eifq4h",
        "outputId": "ec235573-b3c6-43bb-e447-c38b5908d507"
      },
      "execution_count": 26,
      "outputs": [
        {
          "output_type": "stream",
          "name": "stdout",
          "text": [
            "A lista das 20 aeronaves envolvidas nos maiores acidentes aéreos do Brasil é: ['A320-233', '737-8EH', 'EMB-110P1', 'L410UVP-E20', 'L410UVP-E20', 'B300', 'EMB-820C CARAJA', '35A', '35A', '35A', 'EMB-810C', 'EMB-810C', 'EMB-810C', 'EMB-810C', 'EMB-810C', 'EMB-810C', 'EMB-810C', 'EMB-810C', 'EMB-810C', 'P35']\n"
          ]
        }
      ]
    },
    {
      "cell_type": "code",
      "source": [
        "df_1 = pd.read_csv('aircrafts.csv', index_col='model', parse_dates=True,  encoding='latin-1') # criando um novo dataframe e transformando a coluna 'model' em index"
      ],
      "metadata": {
        "id": "M55eq5rxSngn"
      },
      "execution_count": 27,
      "outputs": []
    },
    {
      "cell_type": "code",
      "source": [
        "fig, ax = plt.subplots(figsize=(10,8));\n",
        "df_1['fatalities_amount'].sort_values(ascending=False).head(20).plot(kind='bar');\n",
        "ax.set_title('Gráfico das aeronaves', size=18);\n",
        "ax.set_xlabel('Modelo Aeronave', size=18);\n",
        "ax.set_ylabel('Número de vítimas fatais', size=18);\n"
      ],
      "metadata": {
        "colab": {
          "base_uri": "https://localhost:8080/",
          "height": 606
        },
        "id": "WebPHQ7zykVT",
        "outputId": "8681a878-4581-4b6a-a110-82ee664283ec"
      },
      "execution_count": 28,
      "outputs": [
        {
          "output_type": "display_data",
          "data": {
            "text/plain": [
              "<Figure size 720x576 with 1 Axes>"
            ],
            "image/png": "[encoded data removed]"
          },
          "metadata": {
            "needs_background": "light"
          }
        }
      ]
    },
    {
      "cell_type": "markdown",
      "source": [
        "## **Qual modelo da aeronave que se envolveu no maior desastre aéreo do Brasil**"
      ],
      "metadata": {
        "id": "TwZd2vCGlzTk"
      }
    },
    {
      "cell_type": "code",
      "source": [
        "maior_acidente = df.loc[df['fatalities_amount']==199].iloc[0,6]"
      ],
      "metadata": {
        "id": "gYguSsf5kZ3Y"
      },
      "execution_count": 29,
      "outputs": []
    },
    {
      "cell_type": "code",
      "source": [
        "print(f'o modelo da aeronave que se envolveu no maior acidente foi: {maior_acidente}')"
      ],
      "metadata": {
        "colab": {
          "base_uri": "https://localhost:8080/"
        },
        "id": "Qj_qBWPwmX38",
        "outputId": "bb9fb09e-1fbd-4141-e0ac-42d5d93ede55"
      },
      "execution_count": 30,
      "outputs": [
        {
          "output_type": "stream",
          "name": "stdout",
          "text": [
            "o modelo da aeronave que se envolveu no maior acidente foi: A320-233\n"
          ]
        }
      ]
    },
    {
      "cell_type": "markdown",
      "source": [
        "## **Qual a quantidade de valores não nulos na coluna ('fatalities_amount')?**"
      ],
      "metadata": {
        "id": "vYSxxseoa5x1"
      }
    },
    {
      "cell_type": "code",
      "source": [
        "df['fatalities_amount'].notnull().sum()"
      ],
      "metadata": {
        "colab": {
          "base_uri": "https://localhost:8080/"
        },
        "id": "amQmz5w8bAES",
        "outputId": "62762227-6316-48fa-e732-ff9fc1d3c4cd"
      },
      "execution_count": 31,
      "outputs": [
        {
          "output_type": "execute_result",
          "data": {
            "text/plain": [
              "2043"
            ]
          },
          "metadata": {},
          "execution_count": 31
        }
      ]
    },
    {
      "cell_type": "markdown",
      "source": [
        "## **Quantidade total de vítimas fatais somando as vítimas de todos os acidentes.**"
      ],
      "metadata": {
        "id": "NJtq6d0FpHWM"
      }
    },
    {
      "cell_type": "code",
      "source": [
        "df['fatalities_amount'].sum() # uma maneira mais simples de fazer a soma das linhas da coluna 'fatalities_amount'"
      ],
      "metadata": {
        "id": "49IZ7oS2jMPe",
        "colab": {
          "base_uri": "https://localhost:8080/"
        },
        "outputId": "7a04f8b0-b3e0-45c5-8888-f3347af67e02"
      },
      "execution_count": 32,
      "outputs": [
        {
          "output_type": "execute_result",
          "data": {
            "text/plain": [
              "1139.0"
            ]
          },
          "metadata": {},
          "execution_count": 32
        }
      ]
    },
    {
      "cell_type": "markdown",
      "source": [
        "## **Gráfico de todos os acidentes aéreos x número de mortes.**"
      ],
      "metadata": {
        "id": "j47TNTwzUuA-"
      }
    },
    {
      "cell_type": "code",
      "source": [
        "fig, ax = plt.subplots(figsize=(20,10))\n",
        "df['fatalities_amount'].plot(kind='line', ax=ax)\n",
        "ax.set_title('Gráfico de acidentes aéreos' ,size=20)\n",
        "ax.set_xlabel('Quantidade de acidentes', size = 20)\n",
        "ax.set_ylabel('Número de mortos', size= 20)\n",
        "plt.yticks(range(10, 210, 10), size=15)\n",
        "plt.xticks(range(100, 2100, 100), size= 15)\n",
        "plt.tight_layout()"
      ],
      "metadata": {
        "colab": {
          "base_uri": "https://localhost:8080/",
          "height": 544
        },
        "id": "smeNWbZldLcy",
        "outputId": "39653c8b-c67c-479b-917f-2e7295ee58df"
      },
      "execution_count": 33,
      "outputs": [
        {
          "output_type": "display_data",
          "data": {
            "text/plain": [
              "<Figure size 1440x720 with 1 Axes>"
            ],
            "image/png": "[encoded data removed]"
          },
          "metadata": {
            "needs_background": "light"
          }
        }
      ]
    },
    {
      "cell_type": "markdown",
      "source": [
        "## **Qual a quantidade máxima de peso que uma aeronave pode decolar?**"
      ],
      "metadata": {
        "id": "1kJWGVFWnqI4"
      }
    },
    {
      "cell_type": "code",
      "source": [
        "df['takeoff_max_weight (Lbs)'].max()"
      ],
      "metadata": {
        "id": "L5Rtvim2muRO",
        "colab": {
          "base_uri": "https://localhost:8080/"
        },
        "outputId": "51ea6efe-0256-4cc9-c991-64f336bfb0e9"
      },
      "execution_count": 34,
      "outputs": [
        {
          "output_type": "execute_result",
          "data": {
            "text/plain": [
              "630499"
            ]
          },
          "metadata": {},
          "execution_count": 34
        }
      ]
    },
    {
      "cell_type": "markdown",
      "source": [
        "## **Qual o modelo e fabricante da aeronave que pode decolar com o maior peso?**"
      ],
      "metadata": {
        "id": "lUVCf0atod3L"
      }
    },
    {
      "cell_type": "code",
      "source": [
        "modelo_aeronave = (df.loc[df['takeoff_max_weight (Lbs)'] == 630499 ]).iloc[0,6]"
      ],
      "metadata": {
        "id": "dN64Skvgn_4q"
      },
      "execution_count": 35,
      "outputs": []
    },
    {
      "cell_type": "code",
      "source": [
        "print(f'a aeronave que decola com  a maior quantidade de peso é a aeronave {modelo_aeronave}')"
      ],
      "metadata": {
        "colab": {
          "base_uri": "https://localhost:8080/"
        },
        "id": "AdSrdZGOR_BA",
        "outputId": "531654c9-1cff-4aa4-ca60-9003a133784d"
      },
      "execution_count": 36,
      "outputs": [
        {
          "output_type": "stream",
          "name": "stdout",
          "text": [
            "a aeronave que decola com  a maior quantidade de peso é a aeronave MD11\n"
          ]
        }
      ]
    },
    {
      "cell_type": "markdown",
      "source": [],
      "metadata": {
        "id": "JPqZzAlzosoQ"
      }
    },
    {
      "cell_type": "markdown",
      "source": [
        "## **A aeronave que carrega a menor quantidade de peso qual a quantidade de peso que ela pode decolar?**"
      ],
      "metadata": {
        "id": "buB_M8ckoxSk"
      }
    },
    {
      "cell_type": "code",
      "source": [
        "menor=[]\n",
        "for i in df['takeoff_max_weight (Lbs)']:\n",
        "  if i > 0:\n",
        "    menor.append(i)\n",
        "aeronave = min(menor)"
      ],
      "metadata": {
        "id": "nQimX5jCo1Ih"
      },
      "execution_count": 37,
      "outputs": []
    },
    {
      "cell_type": "code",
      "source": [
        "print(f'O máximo de  peso que essa aeronave pode decolar é {aeronave}kg')"
      ],
      "metadata": {
        "colab": {
          "base_uri": "https://localhost:8080/"
        },
        "id": "pJuvMadaSlpM",
        "outputId": "b89f9ff9-d9d2-4b43-f11f-8bed361db189"
      },
      "execution_count": 38,
      "outputs": [
        {
          "output_type": "stream",
          "name": "stdout",
          "text": [
            "O máximo de  peso que essa aeronave pode decolar é 458kg\n"
          ]
        }
      ]
    },
    {
      "cell_type": "markdown",
      "source": [
        "## **Qual o modelo e fabricante da aeronave que decola com a menor quantidade de peso?**"
      ],
      "metadata": {
        "id": "z7eHA5Jqq2Dc"
      }
    },
    {
      "cell_type": "code",
      "source": [
        "df.loc[df['takeoff_max_weight (Lbs)'] == 458 ]"
      ],
      "metadata": {
        "colab": {
          "base_uri": "https://localhost:8080/",
          "height": 191
        },
        "id": "27CBvGsOq2iR",
        "outputId": "89171fa4-83d9-479a-98db-5a41ef299fa5"
      },
      "execution_count": 39,
      "outputs": [
        {
          "output_type": "execute_result",
          "data": {
            "text/plain": [
              "      aircraft_id  occurrence_id registration  operator_id equipment  \\\n",
              "1984        33745          53484        PUTOF         3992   UNKNOWN   \n",
              "\n",
              "     manufacturer model engine_type  engines_amount  takeoff_max_weight (Lbs)  \\\n",
              "1984          ***   ***     UNKNOWN             0.0                       458   \n",
              "\n",
              "      ...  registration_country  registration_category registration_aviation  \\\n",
              "1984  ...                BRAZIL                    PET          EXPERIMENTAL   \n",
              "\n",
              "     origin_flight destination_flight operation_phase type_operation  \\\n",
              "1984          ****               ****          CRUISE        PRIVATE   \n",
              "\n",
              "     damage_level fatalities_amount extraction_day  \n",
              "1984  SUBSTANTIAL               0.0     2016-07-30  \n",
              "\n",
              "[1 rows x 22 columns]"
            ],
            "text/html": [
              "\n",
              "  <div id=\"df-4f1d2e9d-99d1-4e20-81fe-59e3bcc6c476\">\n",
              "    <div class=\"colab-df-container\">\n",
              "      <div>\n",
              "<style scoped>\n",
              "    .dataframe tbody tr th:only-of-type {\n",
              "        vertical-align: middle;\n",
              "    }\n",
              "\n",
              "    .dataframe tbody tr th {\n",
              "        vertical-align: top;\n",
              "    }\n",
              "\n",
              "    .dataframe thead th {\n",
              "        text-align: right;\n",
              "    }\n",
              "</style>\n",
              "<table border=\"1\" class=\"dataframe\">\n",
              "  <thead>\n",
              "    <tr style=\"text-align: right;\">\n",
              "      <th></th>\n",
              "      <th>aircraft_id</th>\n",
              "      <th>occurrence_id</th>\n",
              "      <th>registration</th>\n",
              "      <th>operator_id</th>\n",
              "      <th>equipment</th>\n",
              "      <th>manufacturer</th>\n",
              "      <th>model</th>\n",
              "      <th>engine_type</th>\n",
              "      <th>engines_amount</th>\n",
              "      <th>takeoff_max_weight (Lbs)</th>\n",
              "      <th>...</th>\n",
              "      <th>registration_country</th>\n",
              "      <th>registration_category</th>\n",
              "      <th>registration_aviation</th>\n",
              "      <th>origin_flight</th>\n",
              "      <th>destination_flight</th>\n",
              "      <th>operation_phase</th>\n",
              "      <th>type_operation</th>\n",
              "      <th>damage_level</th>\n",
              "      <th>fatalities_amount</th>\n",
              "      <th>extraction_day</th>\n",
              "    </tr>\n",
              "  </thead>\n",
              "  <tbody>\n",
              "    <tr>\n",
              "      <th>1984</th>\n",
              "      <td>33745</td>\n",
              "      <td>53484</td>\n",
              "      <td>PUTOF</td>\n",
              "      <td>3992</td>\n",
              "      <td>UNKNOWN</td>\n",
              "      <td>***</td>\n",
              "      <td>***</td>\n",
              "      <td>UNKNOWN</td>\n",
              "      <td>0.0</td>\n",
              "      <td>458</td>\n",
              "      <td>...</td>\n",
              "      <td>BRAZIL</td>\n",
              "      <td>PET</td>\n",
              "      <td>EXPERIMENTAL</td>\n",
              "      <td>****</td>\n",
              "      <td>****</td>\n",
              "      <td>CRUISE</td>\n",
              "      <td>PRIVATE</td>\n",
              "      <td>SUBSTANTIAL</td>\n",
              "      <td>0.0</td>\n",
              "      <td>2016-07-30</td>\n",
              "    </tr>\n",
              "  </tbody>\n",
              "</table>\n",
              "<p>1 rows × 22 columns</p>\n",
              "</div>\n",
              "      <button class=\"colab-df-convert\" onclick=\"convertToInteractive('df-4f1d2e9d-99d1-4e20-81fe-59e3bcc6c476')\"\n",
              "              title=\"Convert this dataframe to an interactive table.\"\n",
              "              style=\"display:none;\">\n",
              "        \n",
              "  <svg xmlns=\"http://www.w3.org/2000/svg\" height=\"24px\"viewBox=\"0 0 24 24\"\n",
              "       width=\"24px\">\n",
              "    <path d=\"M0 0h24v24H0V0z\" fill=\"none\"/>\n",
              "    <path d=\"M18.56 5.44l.94 2.06.94-2.06 2.06-.94-2.06-.94-.94-2.06-.94 2.06-2.06.94zm-11 1L8.5 8.5l.94-2.06 2.06-.94-2.06-.94L8.5 2.5l-.94 2.06-2.06.94zm10 10l.94 2.06.94-2.06 2.06-.94-2.06-.94-.94-2.06-.94 2.06-2.06.94z\"/><path d=\"M17.41 7.96l-1.37-1.37c-.4-.4-.92-.59-1.43-.59-.52 0-1.04.2-1.43.59L10.3 9.45l-7.72 7.72c-.78.78-.78 2.05 0 2.83L4 21.41c.39.39.9.59 1.41.59.51 0 1.02-.2 1.41-.59l7.78-7.78 2.81-2.81c.8-.78.8-2.07 0-2.86zM5.41 20L4 18.59l7.72-7.72 1.47 1.35L5.41 20z\"/>\n",
              "  </svg>\n",
              "      </button>\n",
              "      \n",
              "  <style>\n",
              "    .colab-df-container {\n",
              "      display:flex;\n",
              "      flex-wrap:wrap;\n",
              "      gap: 12px;\n",
              "    }\n",
              "\n",
              "    .colab-df-convert {\n",
              "      background-color: #E8F0FE;\n",
              "      border: none;\n",
              "      border-radius: 50%;\n",
              "      cursor: pointer;\n",
              "      display: none;\n",
              "      fill: #1967D2;\n",
              "      height: 32px;\n",
              "      padding: 0 0 0 0;\n",
              "      width: 32px;\n",
              "    }\n",
              "\n",
              "    .colab-df-convert:hover {\n",
              "      background-color: #E2EBFA;\n",
              "      box-shadow: 0px 1px 2px rgba(60, 64, 67, 0.3), 0px 1px 3px 1px rgba(60, 64, 67, 0.15);\n",
              "      fill: #174EA6;\n",
              "    }\n",
              "\n",
              "    [theme=dark] .colab-df-convert {\n",
              "      background-color: #3B4455;\n",
              "      fill: #D2E3FC;\n",
              "    }\n",
              "\n",
              "    [theme=dark] .colab-df-convert:hover {\n",
              "      background-color: #434B5C;\n",
              "      box-shadow: 0px 1px 3px 1px rgba(0, 0, 0, 0.15);\n",
              "      filter: drop-shadow(0px 1px 2px rgba(0, 0, 0, 0.3));\n",
              "      fill: #FFFFFF;\n",
              "    }\n",
              "  </style>\n",
              "\n",
              "      <script>\n",
              "        const buttonEl =\n",
              "          document.querySelector('#df-4f1d2e9d-99d1-4e20-81fe-59e3bcc6c476 button.colab-df-convert');\n",
              "        buttonEl.style.display =\n",
              "          google.colab.kernel.accessAllowed ? 'block' : 'none';\n",
              "\n",
              "        async function convertToInteractive(key) {\n",
              "          const element = document.querySelector('#df-4f1d2e9d-99d1-4e20-81fe-59e3bcc6c476');\n",
              "          const dataTable =\n",
              "            await google.colab.kernel.invokeFunction('convertToInteractive',\n",
              "                                                     [key], {});\n",
              "          if (!dataTable) return;\n",
              "\n",
              "          const docLinkHtml = 'Like what you see? Visit the ' +\n",
              "            '<a target=\"_blank\" href=https://colab.research.google.com/notebooks/data_table.ipynb>data table notebook</a>'\n",
              "            + ' to learn more about interactive tables.';\n",
              "          element.innerHTML = '';\n",
              "          dataTable['output_type'] = 'display_data';\n",
              "          await google.colab.output.renderOutput(dataTable, element);\n",
              "          const docLink = document.createElement('div');\n",
              "          docLink.innerHTML = docLinkHtml;\n",
              "          element.appendChild(docLink);\n",
              "        }\n",
              "      </script>\n",
              "    </div>\n",
              "  </div>\n",
              "  "
            ]
          },
          "metadata": {},
          "execution_count": 39
        }
      ]
    },
    {
      "cell_type": "markdown",
      "source": [
        "Como foi mostrado acima, a aeronave que pode decolar com o menor\n",
        "peso tem tanto o modelo como o fabricante desconhecido"
      ],
      "metadata": {
        "id": "4ZycwBWgV-MN"
      }
    },
    {
      "cell_type": "markdown",
      "source": [
        "## **Substituindo os valores 'NaN' de ['engines_amount'] por zero**"
      ],
      "metadata": {
        "id": "kEiiDcrM--pr"
      }
    },
    {
      "cell_type": "code",
      "source": [
        "df['engines_amount']= df['engines_amount'].fillna(0)"
      ],
      "metadata": {
        "id": "O0Xz7pqnTf2Y"
      },
      "execution_count": 40,
      "outputs": []
    },
    {
      "cell_type": "markdown",
      "source": [
        "## **Qual o número máximo de motores que uma aeronave possui**"
      ],
      "metadata": {
        "id": "odRh18XhUMDn"
      }
    },
    {
      "cell_type": "code",
      "source": [
        "motores=[]\n",
        "for i in df['engines_amount']:\n",
        "  if i >= 0:\n",
        "    motores.append(i)\n",
        "print(max(motores))"
      ],
      "metadata": {
        "colab": {
          "base_uri": "https://localhost:8080/"
        },
        "id": "8I745JAUS0R9",
        "outputId": "3f2abea7-055f-4d6b-9d33-434d0d22e31e"
      },
      "execution_count": 41,
      "outputs": [
        {
          "output_type": "stream",
          "name": "stdout",
          "text": [
            "4.0\n"
          ]
        }
      ]
    },
    {
      "cell_type": "markdown",
      "source": [
        "## **Substituindo os valores nulos da coluna 'registration_country'**"
      ],
      "metadata": {
        "id": "m5C-htR5tXRW"
      }
    },
    {
      "cell_type": "code",
      "source": [
        "df['registration_country']= df['registration_country'].fillna('')"
      ],
      "metadata": {
        "id": "3HtHsttis9pB"
      },
      "execution_count": 42,
      "outputs": []
    },
    {
      "cell_type": "markdown",
      "source": [
        "## **Quais aeronaves possuem 4 motores?**"
      ],
      "metadata": {
        "id": "t8la-zHGU1Ib"
      }
    },
    {
      "cell_type": "code",
      "source": [
        "df.loc[df['engines_amount'] == 4 ]"
      ],
      "metadata": {
        "id": "idyaRdktaDK2",
        "colab": {
          "base_uri": "https://localhost:8080/",
          "height": 355
        },
        "outputId": "67313567-6a45-4ec8-a14e-579ae021c00f"
      },
      "execution_count": 43,
      "outputs": [
        {
          "output_type": "execute_result",
          "data": {
            "text/plain": [
              "      aircraft_id  occurrence_id registration  operator_id equipment  \\\n",
              "493          8969          31695        PPBRG         1000  AIRPLANE   \n",
              "2006        34556          34696        D2TEA         5886  AIRPLANE   \n",
              "2010        34568          40047        CSTOD         4844  AIRPLANE   \n",
              "2011        34568          45252        CSTOD         4844  AIRPLANE   \n",
              "\n",
              "          manufacturer     model engine_type  engines_amount  \\\n",
              "493     BOEING COMPANY  707-323C         JET             4.0   \n",
              "2006    BOEING COMPANY  747-312M      PISTON             4.0   \n",
              "2010  AIRBUS INDUSTRIE  A340-541         JET             4.0   \n",
              "2011  AIRBUS INDUSTRIE  A340-541         JET             4.0   \n",
              "\n",
              "      takeoff_max_weight (Lbs)  ...  registration_country  \\\n",
              "493                     327004  ...                BRAZIL   \n",
              "2006                         0  ...                         \n",
              "2010                    522494  ...                         \n",
              "2011                    522494  ...                         \n",
              "\n",
              "      registration_category registration_aviation origin_flight  \\\n",
              "493                     TPN           NOT REGULAR          ****   \n",
              "2006                    EXT               UNKNOWN          ****   \n",
              "2010                    ***               UNKNOWN          SBGL   \n",
              "2011                    EXT               UNKNOWN          ****   \n",
              "\n",
              "     destination_flight operation_phase type_operation damage_level  \\\n",
              "493                ****         TAKEOFF        REGULAR      UNKNOWN   \n",
              "2006               ****       ASCENSION        UNKNOWN  SUBSTANTIAL   \n",
              "2010               SBGR         LANDING        REGULAR         NONE   \n",
              "2011               ****         TAKEOFF        UNKNOWN        LIGHT   \n",
              "\n",
              "     fatalities_amount extraction_day  \n",
              "493                0.0     2016-07-30  \n",
              "2006               0.0     2016-07-30  \n",
              "2010               0.0     2016-07-30  \n",
              "2011               0.0     2016-07-30  \n",
              "\n",
              "[4 rows x 22 columns]"
            ],
            "text/html": [
              "\n",
              "  <div id=\"df-c8e25f17-fabf-48ce-844a-0c64d1276e30\">\n",
              "    <div class=\"colab-df-container\">\n",
              "      <div>\n",
              "<style scoped>\n",
              "    .dataframe tbody tr th:only-of-type {\n",
              "        vertical-align: middle;\n",
              "    }\n",
              "\n",
              "    .dataframe tbody tr th {\n",
              "        vertical-align: top;\n",
              "    }\n",
              "\n",
              "    .dataframe thead th {\n",
              "        text-align: right;\n",
              "    }\n",
              "</style>\n",
              "<table border=\"1\" class=\"dataframe\">\n",
              "  <thead>\n",
              "    <tr style=\"text-align: right;\">\n",
              "      <th></th>\n",
              "      <th>aircraft_id</th>\n",
              "      <th>occurrence_id</th>\n",
              "      <th>registration</th>\n",
              "      <th>operator_id</th>\n",
              "      <th>equipment</th>\n",
              "      <th>manufacturer</th>\n",
              "      <th>model</th>\n",
              "      <th>engine_type</th>\n",
              "      <th>engines_amount</th>\n",
              "      <th>takeoff_max_weight (Lbs)</th>\n",
              "      <th>...</th>\n",
              "      <th>registration_country</th>\n",
              "      <th>registration_category</th>\n",
              "      <th>registration_aviation</th>\n",
              "      <th>origin_flight</th>\n",
              "      <th>destination_flight</th>\n",
              "      <th>operation_phase</th>\n",
              "      <th>type_operation</th>\n",
              "      <th>damage_level</th>\n",
              "      <th>fatalities_amount</th>\n",
              "      <th>extraction_day</th>\n",
              "    </tr>\n",
              "  </thead>\n",
              "  <tbody>\n",
              "    <tr>\n",
              "      <th>493</th>\n",
              "      <td>8969</td>\n",
              "      <td>31695</td>\n",
              "      <td>PPBRG</td>\n",
              "      <td>1000</td>\n",
              "      <td>AIRPLANE</td>\n",
              "      <td>BOEING COMPANY</td>\n",
              "      <td>707-323C</td>\n",
              "      <td>JET</td>\n",
              "      <td>4.0</td>\n",
              "      <td>327004</td>\n",
              "      <td>...</td>\n",
              "      <td>BRAZIL</td>\n",
              "      <td>TPN</td>\n",
              "      <td>NOT REGULAR</td>\n",
              "      <td>****</td>\n",
              "      <td>****</td>\n",
              "      <td>TAKEOFF</td>\n",
              "      <td>REGULAR</td>\n",
              "      <td>UNKNOWN</td>\n",
              "      <td>0.0</td>\n",
              "      <td>2016-07-30</td>\n",
              "    </tr>\n",
              "    <tr>\n",
              "      <th>2006</th>\n",
              "      <td>34556</td>\n",
              "      <td>34696</td>\n",
              "      <td>D2TEA</td>\n",
              "      <td>5886</td>\n",
              "      <td>AIRPLANE</td>\n",
              "      <td>BOEING COMPANY</td>\n",
              "      <td>747-312M</td>\n",
              "      <td>PISTON</td>\n",
              "      <td>4.0</td>\n",
              "      <td>0</td>\n",
              "      <td>...</td>\n",
              "      <td></td>\n",
              "      <td>EXT</td>\n",
              "      <td>UNKNOWN</td>\n",
              "      <td>****</td>\n",
              "      <td>****</td>\n",
              "      <td>ASCENSION</td>\n",
              "      <td>UNKNOWN</td>\n",
              "      <td>SUBSTANTIAL</td>\n",
              "      <td>0.0</td>\n",
              "      <td>2016-07-30</td>\n",
              "    </tr>\n",
              "    <tr>\n",
              "      <th>2010</th>\n",
              "      <td>34568</td>\n",
              "      <td>40047</td>\n",
              "      <td>CSTOD</td>\n",
              "      <td>4844</td>\n",
              "      <td>AIRPLANE</td>\n",
              "      <td>AIRBUS INDUSTRIE</td>\n",
              "      <td>A340-541</td>\n",
              "      <td>JET</td>\n",
              "      <td>4.0</td>\n",
              "      <td>522494</td>\n",
              "      <td>...</td>\n",
              "      <td></td>\n",
              "      <td>***</td>\n",
              "      <td>UNKNOWN</td>\n",
              "      <td>SBGL</td>\n",
              "      <td>SBGR</td>\n",
              "      <td>LANDING</td>\n",
              "      <td>REGULAR</td>\n",
              "      <td>NONE</td>\n",
              "      <td>0.0</td>\n",
              "      <td>2016-07-30</td>\n",
              "    </tr>\n",
              "    <tr>\n",
              "      <th>2011</th>\n",
              "      <td>34568</td>\n",
              "      <td>45252</td>\n",
              "      <td>CSTOD</td>\n",
              "      <td>4844</td>\n",
              "      <td>AIRPLANE</td>\n",
              "      <td>AIRBUS INDUSTRIE</td>\n",
              "      <td>A340-541</td>\n",
              "      <td>JET</td>\n",
              "      <td>4.0</td>\n",
              "      <td>522494</td>\n",
              "      <td>...</td>\n",
              "      <td></td>\n",
              "      <td>EXT</td>\n",
              "      <td>UNKNOWN</td>\n",
              "      <td>****</td>\n",
              "      <td>****</td>\n",
              "      <td>TAKEOFF</td>\n",
              "      <td>UNKNOWN</td>\n",
              "      <td>LIGHT</td>\n",
              "      <td>0.0</td>\n",
              "      <td>2016-07-30</td>\n",
              "    </tr>\n",
              "  </tbody>\n",
              "</table>\n",
              "<p>4 rows × 22 columns</p>\n",
              "</div>\n",
              "      <button class=\"colab-df-convert\" onclick=\"convertToInteractive('df-c8e25f17-fabf-48ce-844a-0c64d1276e30')\"\n",
              "              title=\"Convert this dataframe to an interactive table.\"\n",
              "              style=\"display:none;\">\n",
              "        \n",
              "  <svg xmlns=\"http://www.w3.org/2000/svg\" height=\"24px\"viewBox=\"0 0 24 24\"\n",
              "       width=\"24px\">\n",
              "    <path d=\"M0 0h24v24H0V0z\" fill=\"none\"/>\n",
              "    <path d=\"M18.56 5.44l.94 2.06.94-2.06 2.06-.94-2.06-.94-.94-2.06-.94 2.06-2.06.94zm-11 1L8.5 8.5l.94-2.06 2.06-.94-2.06-.94L8.5 2.5l-.94 2.06-2.06.94zm10 10l.94 2.06.94-2.06 2.06-.94-2.06-.94-.94-2.06-.94 2.06-2.06.94z\"/><path d=\"M17.41 7.96l-1.37-1.37c-.4-.4-.92-.59-1.43-.59-.52 0-1.04.2-1.43.59L10.3 9.45l-7.72 7.72c-.78.78-.78 2.05 0 2.83L4 21.41c.39.39.9.59 1.41.59.51 0 1.02-.2 1.41-.59l7.78-7.78 2.81-2.81c.8-.78.8-2.07 0-2.86zM5.41 20L4 18.59l7.72-7.72 1.47 1.35L5.41 20z\"/>\n",
              "  </svg>\n",
              "      </button>\n",
              "      \n",
              "  <style>\n",
              "    .colab-df-container {\n",
              "      display:flex;\n",
              "      flex-wrap:wrap;\n",
              "      gap: 12px;\n",
              "    }\n",
              "\n",
              "    .colab-df-convert {\n",
              "      background-color: #E8F0FE;\n",
              "      border: none;\n",
              "      border-radius: 50%;\n",
              "      cursor: pointer;\n",
              "      display: none;\n",
              "      fill: #1967D2;\n",
              "      height: 32px;\n",
              "      padding: 0 0 0 0;\n",
              "      width: 32px;\n",
              "    }\n",
              "\n",
              "    .colab-df-convert:hover {\n",
              "      background-color: #E2EBFA;\n",
              "      box-shadow: 0px 1px 2px rgba(60, 64, 67, 0.3), 0px 1px 3px 1px rgba(60, 64, 67, 0.15);\n",
              "      fill: #174EA6;\n",
              "    }\n",
              "\n",
              "    [theme=dark] .colab-df-convert {\n",
              "      background-color: #3B4455;\n",
              "      fill: #D2E3FC;\n",
              "    }\n",
              "\n",
              "    [theme=dark] .colab-df-convert:hover {\n",
              "      background-color: #434B5C;\n",
              "      box-shadow: 0px 1px 3px 1px rgba(0, 0, 0, 0.15);\n",
              "      filter: drop-shadow(0px 1px 2px rgba(0, 0, 0, 0.3));\n",
              "      fill: #FFFFFF;\n",
              "    }\n",
              "  </style>\n",
              "\n",
              "      <script>\n",
              "        const buttonEl =\n",
              "          document.querySelector('#df-c8e25f17-fabf-48ce-844a-0c64d1276e30 button.colab-df-convert');\n",
              "        buttonEl.style.display =\n",
              "          google.colab.kernel.accessAllowed ? 'block' : 'none';\n",
              "\n",
              "        async function convertToInteractive(key) {\n",
              "          const element = document.querySelector('#df-c8e25f17-fabf-48ce-844a-0c64d1276e30');\n",
              "          const dataTable =\n",
              "            await google.colab.kernel.invokeFunction('convertToInteractive',\n",
              "                                                     [key], {});\n",
              "          if (!dataTable) return;\n",
              "\n",
              "          const docLinkHtml = 'Like what you see? Visit the ' +\n",
              "            '<a target=\"_blank\" href=https://colab.research.google.com/notebooks/data_table.ipynb>data table notebook</a>'\n",
              "            + ' to learn more about interactive tables.';\n",
              "          element.innerHTML = '';\n",
              "          dataTable['output_type'] = 'display_data';\n",
              "          await google.colab.output.renderOutput(dataTable, element);\n",
              "          const docLink = document.createElement('div');\n",
              "          docLink.innerHTML = docLinkHtml;\n",
              "          element.appendChild(docLink);\n",
              "        }\n",
              "      </script>\n",
              "    </div>\n",
              "  </div>\n",
              "  "
            ]
          },
          "metadata": {},
          "execution_count": 43
        }
      ]
    },
    {
      "cell_type": "markdown",
      "source": [
        "## **Quantas aeronaves são de uso privado?**"
      ],
      "metadata": {
        "id": "pklNw9LcHt0J"
      }
    },
    {
      "cell_type": "code",
      "source": [
        "privada = df.loc[df['registration_aviation']== 'PRIVATE']\n",
        "print(len(privada))"
      ],
      "metadata": {
        "colab": {
          "base_uri": "https://localhost:8080/"
        },
        "id": "3pCRQRuYH2eO",
        "outputId": "02b631f4-1355-48a4-972a-9c47ec0a1676"
      },
      "execution_count": 44,
      "outputs": [
        {
          "output_type": "stream",
          "name": "stdout",
          "text": [
            "760\n"
          ]
        }
      ]
    },
    {
      "cell_type": "code",
      "source": [
        "print(privada['model'])"
      ],
      "metadata": {
        "colab": {
          "base_uri": "https://localhost:8080/"
        },
        "id": "6pXn4MfxJdI4",
        "outputId": "8b4a9692-2f0b-45b2-a23f-d799122d7306"
      },
      "execution_count": 45,
      "outputs": [
        {
          "output_type": "stream",
          "name": "stdout",
          "text": [
            "3         EMB-721C\n",
            "5             182P\n",
            "6         EMB-711C\n",
            "14      PA-28R-200\n",
            "21             550\n",
            "           ...    \n",
            "2027    PA-32R-301\n",
            "2028           ***\n",
            "2031          210R\n",
            "2032          210D\n",
            "2038           ***\n",
            "Name: model, Length: 760, dtype: object\n"
          ]
        }
      ]
    },
    {
      "cell_type": "markdown",
      "source": [
        "## **Quantas aeronaves são de instrução?**"
      ],
      "metadata": {
        "id": "a3U4KLL7Id1-"
      }
    },
    {
      "cell_type": "code",
      "source": [
        "instrucao = df.loc[df['registration_aviation']== 'INSTRUCTION']\n",
        "print(len(instrucao))"
      ],
      "metadata": {
        "colab": {
          "base_uri": "https://localhost:8080/"
        },
        "id": "9T_Mq4VNInad",
        "outputId": "b7b1c2cd-5c86-4dff-ca8b-8cbc60c4eea6"
      },
      "execution_count": 46,
      "outputs": [
        {
          "output_type": "stream",
          "name": "stdout",
          "text": [
            "370\n"
          ]
        }
      ]
    },
    {
      "cell_type": "code",
      "source": [
        "aeronaves_instrucao = []\n",
        "for aeronave in instrucao['model']:\n",
        "  aeronaves_instrucao.append(aeronave)\n",
        "sorted(set(aeronaves_instrucao)) # removendo aeronaves repetidas da lista"
      ],
      "metadata": {
        "id": "I9XawP6wKZzZ",
        "colab": {
          "base_uri": "https://localhost:8080/"
        },
        "outputId": "aae25e9d-6fd9-4e4c-bc76-03751e353f27"
      },
      "execution_count": 47,
      "outputs": [
        {
          "output_type": "execute_result",
          "data": {
            "text/plain": [
              "['140',\n",
              " '140A',\n",
              " '150E',\n",
              " '150F',\n",
              " '150H',\n",
              " '150J',\n",
              " '150K',\n",
              " '150L',\n",
              " '150M',\n",
              " '152',\n",
              " '170A',\n",
              " '172',\n",
              " '172A',\n",
              " '172N',\n",
              " '172S',\n",
              " '269C-1',\n",
              " '310B',\n",
              " '56-B',\n",
              " '56-C',\n",
              " '56-C-1',\n",
              " '56-C-1REBOCADOR',\n",
              " '8KCAB',\n",
              " 'A-122-A',\n",
              " 'A-122-B',\n",
              " 'A150K',\n",
              " 'AB-115',\n",
              " 'AB-180',\n",
              " 'AMT-100',\n",
              " 'AMT-200',\n",
              " 'AMT-600',\n",
              " 'AS 350 B2',\n",
              " 'CAP-4',\n",
              " 'DA20-C1',\n",
              " 'EMB-711C',\n",
              " 'EMB-711ST',\n",
              " 'EMB-712',\n",
              " 'EMB-810C',\n",
              " 'HB-350B',\n",
              " 'IPE-02B',\n",
              " 'J3C-65',\n",
              " 'KW1',\n",
              " 'L23',\n",
              " 'PA-11',\n",
              " 'PA-18',\n",
              " 'PA-18-150',\n",
              " 'PA-22-135',\n",
              " 'PA-23',\n",
              " 'PA-23-160',\n",
              " 'PA-28-140',\n",
              " 'PA-28-181',\n",
              " 'PA-28R-200',\n",
              " 'PA-28R-201',\n",
              " 'PA-30',\n",
              " 'PA-34-200',\n",
              " 'PA-39',\n",
              " 'R22',\n",
              " 'R22 BETA',\n",
              " 'R44',\n",
              " 'SR20']"
            ]
          },
          "metadata": {},
          "execution_count": 47
        }
      ]
    },
    {
      "cell_type": "markdown",
      "source": [
        "## **Quantas aeronaves são de uso experimental?**"
      ],
      "metadata": {
        "id": "kdNEsZMZQhlO"
      }
    },
    {
      "cell_type": "code",
      "source": [
        "experimental = df.loc[df['registration_aviation']== 'EXPERIMENTAL']\n",
        "print(len(experimental))"
      ],
      "metadata": {
        "colab": {
          "base_uri": "https://localhost:8080/"
        },
        "id": "kT5KpzYKQrtl",
        "outputId": "7ec9c19b-9294-48e1-e65d-40e5b32ebcad"
      },
      "execution_count": 48,
      "outputs": [
        {
          "output_type": "stream",
          "name": "stdout",
          "text": [
            "202\n"
          ]
        }
      ]
    },
    {
      "cell_type": "code",
      "source": [
        "len(sorted(set(experimental['model']))) # retirando as aeronaves de uso experimental repetidas e fazendo a contagem"
      ],
      "metadata": {
        "colab": {
          "base_uri": "https://localhost:8080/"
        },
        "id": "MFoY16IiVGeQ",
        "outputId": "fcebc213-3e9c-42e8-ef47-ef625d69d190"
      },
      "execution_count": 49,
      "outputs": [
        {
          "output_type": "execute_result",
          "data": {
            "text/plain": [
              "133"
            ]
          },
          "metadata": {},
          "execution_count": 49
        }
      ]
    },
    {
      "cell_type": "markdown",
      "source": [
        "## **Quantas aeronaves são de uso agricultural?**"
      ],
      "metadata": {
        "id": "yrHF080XQ8Ix"
      }
    },
    {
      "cell_type": "code",
      "source": [
        "agricultural = df.loc[df['registration_aviation']== 'AGRICULTURAL']\n",
        "print(len(agricultural))"
      ],
      "metadata": {
        "colab": {
          "base_uri": "https://localhost:8080/"
        },
        "id": "P7Zt_P_6RJkX",
        "outputId": "462d073b-f656-4c45-f343-f3cf1c705e4c"
      },
      "execution_count": 50,
      "outputs": [
        {
          "output_type": "stream",
          "name": "stdout",
          "text": [
            "196\n"
          ]
        }
      ]
    },
    {
      "cell_type": "code",
      "source": [
        "len(sorted(set(agricultural['model']))) # retirando as aeronaves de uso agricultural repetidas e fazendo a contagem"
      ],
      "metadata": {
        "colab": {
          "base_uri": "https://localhost:8080/"
        },
        "id": "U6gNSx9ZWVgV",
        "outputId": "8158fd7e-caa2-4ae7-af17-135071882def"
      },
      "execution_count": 51,
      "outputs": [
        {
          "output_type": "execute_result",
          "data": {
            "text/plain": [
              "21"
            ]
          },
          "metadata": {},
          "execution_count": 51
        }
      ]
    },
    {
      "cell_type": "code",
      "source": [
        "sorted(set(agricultural['model']))"
      ],
      "metadata": {
        "id": "mzBSdLtpWtZ0",
        "colab": {
          "base_uri": "https://localhost:8080/"
        },
        "outputId": "589adc83-fa65-472c-f061-4c2c0dd6a109"
      },
      "execution_count": 52,
      "outputs": [
        {
          "output_type": "execute_result",
          "data": {
            "text/plain": [
              "['A188',\n",
              " 'A188A',\n",
              " 'A188B',\n",
              " 'AT-401',\n",
              " 'AT-401B',\n",
              " 'AT-402A',\n",
              " 'AT-402B',\n",
              " 'AT-502',\n",
              " 'AT-502B',\n",
              " 'AT-802A',\n",
              " 'EMB-200A',\n",
              " 'EMB-201',\n",
              " 'EMB-201A',\n",
              " 'EMB-202',\n",
              " 'EMB-202A',\n",
              " 'GA200C',\n",
              " 'PA-25-235',\n",
              " 'PA-25-260',\n",
              " 'PA-36-300',\n",
              " 'PA-36-375',\n",
              " 'T188C']"
            ]
          },
          "metadata": {},
          "execution_count": 52
        }
      ]
    },
    {
      "cell_type": "markdown",
      "source": [
        "## **Quantas aeronaves são de aerotaxi?**"
      ],
      "metadata": {
        "id": "gaq_bWDXRnmi"
      }
    },
    {
      "cell_type": "code",
      "source": [
        "aerotaxi = df.loc[df['registration_aviation']== 'AEROTAXI']\n",
        "print(len(aerotaxi))"
      ],
      "metadata": {
        "colab": {
          "base_uri": "https://localhost:8080/"
        },
        "id": "9Ea50ptURtCg",
        "outputId": "461a1792-2e9b-4514-cd25-f3debbf4428f"
      },
      "execution_count": 53,
      "outputs": [
        {
          "output_type": "stream",
          "name": "stdout",
          "text": [
            "272\n"
          ]
        }
      ]
    },
    {
      "cell_type": "code",
      "source": [
        "len(sorted(set(aerotaxi['model'])))"
      ],
      "metadata": {
        "colab": {
          "base_uri": "https://localhost:8080/"
        },
        "id": "gzYBc8dAXghM",
        "outputId": "2f041e3a-c5d4-4a54-a2d6-14ee860c6b70"
      },
      "execution_count": 54,
      "outputs": [
        {
          "output_type": "execute_result",
          "data": {
            "text/plain": [
              "86"
            ]
          },
          "metadata": {},
          "execution_count": 54
        }
      ]
    },
    {
      "cell_type": "code",
      "source": [
        "sorted(set(aerotaxi['model']))"
      ],
      "metadata": {
        "id": "6BR0Gr9DXmjy",
        "colab": {
          "base_uri": "https://localhost:8080/"
        },
        "outputId": "b4755708-9781-4731-c2af-90567d22a474"
      },
      "execution_count": 55,
      "outputs": [
        {
          "output_type": "execute_result",
          "data": {
            "text/plain": [
              "['182P',\n",
              " '200',\n",
              " '206B',\n",
              " '208',\n",
              " '208 ANFIBIO',\n",
              " '208B',\n",
              " '210L',\n",
              " '210N',\n",
              " '310K',\n",
              " '310Q',\n",
              " '35A',\n",
              " '390',\n",
              " '400A',\n",
              " '402B',\n",
              " '412',\n",
              " '430',\n",
              " '500-S',\n",
              " '525',\n",
              " '525B',\n",
              " '550',\n",
              " '55C',\n",
              " '560',\n",
              " '58',\n",
              " '600N',\n",
              " '650',\n",
              " '95-B55',\n",
              " '95-C55',\n",
              " 'A109E',\n",
              " 'A320-231',\n",
              " 'AB139',\n",
              " 'AS 332 L2',\n",
              " 'AS 350 B2',\n",
              " 'AS 350 B3',\n",
              " 'AS 355 F2',\n",
              " 'AS 355 N',\n",
              " 'AW109SP',\n",
              " 'AW139',\n",
              " 'B90',\n",
              " 'BAE125-800B',\n",
              " 'BN-2A-3',\n",
              " 'BN-2A-7',\n",
              " 'BO-105C',\n",
              " 'BO-105S',\n",
              " 'C90',\n",
              " 'EC 225 LP',\n",
              " 'EMB-110',\n",
              " 'EMB-110P',\n",
              " 'EMB-110P1',\n",
              " 'EMB-121A1',\n",
              " 'EMB-202',\n",
              " 'EMB-711',\n",
              " 'EMB-711B',\n",
              " 'EMB-711C',\n",
              " 'EMB-720C',\n",
              " 'EMB-720D',\n",
              " 'EMB-721C',\n",
              " 'EMB-721D',\n",
              " 'EMB-810C',\n",
              " 'EMB-810D',\n",
              " 'EMB-820C CARAJA',\n",
              " 'EMB-820C NAVAJO',\n",
              " 'F90',\n",
              " 'HAWKER 800XP',\n",
              " 'HB-350B',\n",
              " 'MU-2B-20',\n",
              " 'MU-2B-36A',\n",
              " 'MU-2B-60',\n",
              " 'NE-821',\n",
              " 'PA-28R-200',\n",
              " 'PA-31',\n",
              " 'PA-31T1',\n",
              " 'PA-31T2',\n",
              " 'PA-32-300',\n",
              " 'PA-34-220T',\n",
              " 'PA-46-350P',\n",
              " 'R44',\n",
              " 'S-61N',\n",
              " 'S-76A',\n",
              " 'S-76C',\n",
              " 'S550',\n",
              " 'T207A',\n",
              " 'T210L',\n",
              " 'U206C',\n",
              " 'U206E',\n",
              " 'U206F',\n",
              " 'U206G']"
            ]
          },
          "metadata": {},
          "execution_count": 55
        }
      ]
    },
    {
      "cell_type": "markdown",
      "source": [
        "## **Quantas aeronaves são especializadas?**"
      ],
      "metadata": {
        "id": "VhwulGizSIuk"
      }
    },
    {
      "cell_type": "code",
      "source": [
        "especializada = df.loc[df['registration_aviation']== 'SPECIALIZED']\n",
        "print(len(especializada))"
      ],
      "metadata": {
        "colab": {
          "base_uri": "https://localhost:8080/"
        },
        "id": "fCz9IQncSbFx",
        "outputId": "27d4ed54-2b4c-42b9-9cf9-1f6ec3af14df"
      },
      "execution_count": 56,
      "outputs": [
        {
          "output_type": "stream",
          "name": "stdout",
          "text": [
            "64\n"
          ]
        }
      ]
    },
    {
      "cell_type": "code",
      "source": [
        "len(sorted(set(especializada['model'])))"
      ],
      "metadata": {
        "colab": {
          "base_uri": "https://localhost:8080/"
        },
        "id": "FPoKhOkuYJDo",
        "outputId": "b6dfd0f5-afbe-4549-cc8c-476fa4e1d0b8"
      },
      "execution_count": 57,
      "outputs": [
        {
          "output_type": "execute_result",
          "data": {
            "text/plain": [
              "25"
            ]
          },
          "metadata": {},
          "execution_count": 57
        }
      ]
    },
    {
      "cell_type": "code",
      "source": [
        "sorted(set(aerotaxi['model']))"
      ],
      "metadata": {
        "id": "B3sTNF3UYPjJ",
        "colab": {
          "base_uri": "https://localhost:8080/"
        },
        "outputId": "0fdb5c68-1aac-46cb-a9e2-abf8f1a5306c"
      },
      "execution_count": 58,
      "outputs": [
        {
          "output_type": "execute_result",
          "data": {
            "text/plain": [
              "['182P',\n",
              " '200',\n",
              " '206B',\n",
              " '208',\n",
              " '208 ANFIBIO',\n",
              " '208B',\n",
              " '210L',\n",
              " '210N',\n",
              " '310K',\n",
              " '310Q',\n",
              " '35A',\n",
              " '390',\n",
              " '400A',\n",
              " '402B',\n",
              " '412',\n",
              " '430',\n",
              " '500-S',\n",
              " '525',\n",
              " '525B',\n",
              " '550',\n",
              " '55C',\n",
              " '560',\n",
              " '58',\n",
              " '600N',\n",
              " '650',\n",
              " '95-B55',\n",
              " '95-C55',\n",
              " 'A109E',\n",
              " 'A320-231',\n",
              " 'AB139',\n",
              " 'AS 332 L2',\n",
              " 'AS 350 B2',\n",
              " 'AS 350 B3',\n",
              " 'AS 355 F2',\n",
              " 'AS 355 N',\n",
              " 'AW109SP',\n",
              " 'AW139',\n",
              " 'B90',\n",
              " 'BAE125-800B',\n",
              " 'BN-2A-3',\n",
              " 'BN-2A-7',\n",
              " 'BO-105C',\n",
              " 'BO-105S',\n",
              " 'C90',\n",
              " 'EC 225 LP',\n",
              " 'EMB-110',\n",
              " 'EMB-110P',\n",
              " 'EMB-110P1',\n",
              " 'EMB-121A1',\n",
              " 'EMB-202',\n",
              " 'EMB-711',\n",
              " 'EMB-711B',\n",
              " 'EMB-711C',\n",
              " 'EMB-720C',\n",
              " 'EMB-720D',\n",
              " 'EMB-721C',\n",
              " 'EMB-721D',\n",
              " 'EMB-810C',\n",
              " 'EMB-810D',\n",
              " 'EMB-820C CARAJA',\n",
              " 'EMB-820C NAVAJO',\n",
              " 'F90',\n",
              " 'HAWKER 800XP',\n",
              " 'HB-350B',\n",
              " 'MU-2B-20',\n",
              " 'MU-2B-36A',\n",
              " 'MU-2B-60',\n",
              " 'NE-821',\n",
              " 'PA-28R-200',\n",
              " 'PA-31',\n",
              " 'PA-31T1',\n",
              " 'PA-31T2',\n",
              " 'PA-32-300',\n",
              " 'PA-34-220T',\n",
              " 'PA-46-350P',\n",
              " 'R44',\n",
              " 'S-61N',\n",
              " 'S-76A',\n",
              " 'S-76C',\n",
              " 'S550',\n",
              " 'T207A',\n",
              " 'T210L',\n",
              " 'U206C',\n",
              " 'U206E',\n",
              " 'U206F',\n",
              " 'U206G']"
            ]
          },
          "metadata": {},
          "execution_count": 58
        }
      ]
    },
    {
      "cell_type": "markdown",
      "source": [
        "## **Quantas aeronaves são desconhecidas?**"
      ],
      "metadata": {
        "id": "a3IrJWC0SzLd"
      }
    },
    {
      "cell_type": "code",
      "source": [
        "desconhecida = df.loc[df['registration_aviation']== 'UNKNOWN']\n",
        "print(len(desconhecida))  "
      ],
      "metadata": {
        "colab": {
          "base_uri": "https://localhost:8080/"
        },
        "id": "SEzYrEyxSyHV",
        "outputId": "1fd84e52-4614-418e-a2cd-656bf918b1cf"
      },
      "execution_count": 59,
      "outputs": [
        {
          "output_type": "stream",
          "name": "stdout",
          "text": [
            "25\n"
          ]
        }
      ]
    },
    {
      "cell_type": "markdown",
      "source": [
        "## **Quantas aeronaves possuem o registro irregular?**"
      ],
      "metadata": {
        "id": "n1lREyj7t9vI"
      }
    },
    {
      "cell_type": "code",
      "source": [
        "df.loc[df['registration_aviation']== 'NOT REGULAR']"
      ],
      "metadata": {
        "id": "nV_zRZa8uFPs",
        "colab": {
          "base_uri": "https://localhost:8080/",
          "height": 404
        },
        "outputId": "f42dbf0a-5e6f-436c-f6b2-c79ece85e664"
      },
      "execution_count": 60,
      "outputs": [
        {
          "output_type": "execute_result",
          "data": {
            "text/plain": [
              "      aircraft_id  occurrence_id registration  operator_id equipment  \\\n",
              "493          8969          31695        PPBRG         1000  AIRPLANE   \n",
              "510          9058          26259        PPJGV         2629  AIRPLANE   \n",
              "536          9117          26861        PRBRD         1034  AIRPLANE   \n",
              "960         10605          40169        PTJCZ          106  AIRPLANE   \n",
              "1500        13518          53308        PRSDL         4693  AIRPLANE   \n",
              "\n",
              "         manufacturer     model engine_type  engines_amount  \\\n",
              "493    BOEING COMPANY  707-323C         JET             4.0   \n",
              "510   CESSNA AIRCRAFT     560XL         JET             2.0   \n",
              "536    BOEING COMPANY   737-3M8         JET             2.0   \n",
              "960   CESSNA AIRCRAFT      310Q      PISTON             2.0   \n",
              "1500   BOEING COMPANY   737-3S3         JET             2.0   \n",
              "\n",
              "      takeoff_max_weight (Lbs)  ...  registration_country  \\\n",
              "493                     327004  ...                BRAZIL   \n",
              "510                      20000  ...                BRAZIL   \n",
              "536                     136999  ...                BRAZIL   \n",
              "960                       5299  ...                BRAZIL   \n",
              "1500                    139499  ...                BRAZIL   \n",
              "\n",
              "      registration_category registration_aviation origin_flight  \\\n",
              "493                     TPN           NOT REGULAR          ****   \n",
              "510                     TPN           NOT REGULAR          SBRJ   \n",
              "536                     TPN           NOT REGULAR          ****   \n",
              "960                     TPN           NOT REGULAR          ****   \n",
              "1500                    TPN           NOT REGULAR          SBTE   \n",
              "\n",
              "     destination_flight    operation_phase type_operation damage_level  \\\n",
              "493                ****            TAKEOFF        REGULAR      UNKNOWN   \n",
              "510                SBSP            DESCEND        REGULAR      UNKNOWN   \n",
              "536                ****             CRUISE        REGULAR      UNKNOWN   \n",
              "960                ****  RUN AFTER LANDING        REGULAR        LIGHT   \n",
              "1500               SBSL            LANDING    NOT REGULAR        LIGHT   \n",
              "\n",
              "     fatalities_amount extraction_day  \n",
              "493                0.0     2016-07-30  \n",
              "510                0.0     2016-07-30  \n",
              "536                0.0     2016-07-30  \n",
              "960                0.0     2016-07-30  \n",
              "1500               0.0     2016-07-30  \n",
              "\n",
              "[5 rows x 22 columns]"
            ],
            "text/html": [
              "\n",
              "  <div id=\"df-15611ff7-0306-49fe-93ae-44d03e0007d1\">\n",
              "    <div class=\"colab-df-container\">\n",
              "      <div>\n",
              "<style scoped>\n",
              "    .dataframe tbody tr th:only-of-type {\n",
              "        vertical-align: middle;\n",
              "    }\n",
              "\n",
              "    .dataframe tbody tr th {\n",
              "        vertical-align: top;\n",
              "    }\n",
              "\n",
              "    .dataframe thead th {\n",
              "        text-align: right;\n",
              "    }\n",
              "</style>\n",
              "<table border=\"1\" class=\"dataframe\">\n",
              "  <thead>\n",
              "    <tr style=\"text-align: right;\">\n",
              "      <th></th>\n",
              "      <th>aircraft_id</th>\n",
              "      <th>occurrence_id</th>\n",
              "      <th>registration</th>\n",
              "      <th>operator_id</th>\n",
              "      <th>equipment</th>\n",
              "      <th>manufacturer</th>\n",
              "      <th>model</th>\n",
              "      <th>engine_type</th>\n",
              "      <th>engines_amount</th>\n",
              "      <th>takeoff_max_weight (Lbs)</th>\n",
              "      <th>...</th>\n",
              "      <th>registration_country</th>\n",
              "      <th>registration_category</th>\n",
              "      <th>registration_aviation</th>\n",
              "      <th>origin_flight</th>\n",
              "      <th>destination_flight</th>\n",
              "      <th>operation_phase</th>\n",
              "      <th>type_operation</th>\n",
              "      <th>damage_level</th>\n",
              "      <th>fatalities_amount</th>\n",
              "      <th>extraction_day</th>\n",
              "    </tr>\n",
              "  </thead>\n",
              "  <tbody>\n",
              "    <tr>\n",
              "      <th>493</th>\n",
              "      <td>8969</td>\n",
              "      <td>31695</td>\n",
              "      <td>PPBRG</td>\n",
              "      <td>1000</td>\n",
              "      <td>AIRPLANE</td>\n",
              "      <td>BOEING COMPANY</td>\n",
              "      <td>707-323C</td>\n",
              "      <td>JET</td>\n",
              "      <td>4.0</td>\n",
              "      <td>327004</td>\n",
              "      <td>...</td>\n",
              "      <td>BRAZIL</td>\n",
              "      <td>TPN</td>\n",
              "      <td>NOT REGULAR</td>\n",
              "      <td>****</td>\n",
              "      <td>****</td>\n",
              "      <td>TAKEOFF</td>\n",
              "      <td>REGULAR</td>\n",
              "      <td>UNKNOWN</td>\n",
              "      <td>0.0</td>\n",
              "      <td>2016-07-30</td>\n",
              "    </tr>\n",
              "    <tr>\n",
              "      <th>510</th>\n",
              "      <td>9058</td>\n",
              "      <td>26259</td>\n",
              "      <td>PPJGV</td>\n",
              "      <td>2629</td>\n",
              "      <td>AIRPLANE</td>\n",
              "      <td>CESSNA AIRCRAFT</td>\n",
              "      <td>560XL</td>\n",
              "      <td>JET</td>\n",
              "      <td>2.0</td>\n",
              "      <td>20000</td>\n",
              "      <td>...</td>\n",
              "      <td>BRAZIL</td>\n",
              "      <td>TPN</td>\n",
              "      <td>NOT REGULAR</td>\n",
              "      <td>SBRJ</td>\n",
              "      <td>SBSP</td>\n",
              "      <td>DESCEND</td>\n",
              "      <td>REGULAR</td>\n",
              "      <td>UNKNOWN</td>\n",
              "      <td>0.0</td>\n",
              "      <td>2016-07-30</td>\n",
              "    </tr>\n",
              "    <tr>\n",
              "      <th>536</th>\n",
              "      <td>9117</td>\n",
              "      <td>26861</td>\n",
              "      <td>PRBRD</td>\n",
              "      <td>1034</td>\n",
              "      <td>AIRPLANE</td>\n",
              "      <td>BOEING COMPANY</td>\n",
              "      <td>737-3M8</td>\n",
              "      <td>JET</td>\n",
              "      <td>2.0</td>\n",
              "      <td>136999</td>\n",
              "      <td>...</td>\n",
              "      <td>BRAZIL</td>\n",
              "      <td>TPN</td>\n",
              "      <td>NOT REGULAR</td>\n",
              "      <td>****</td>\n",
              "      <td>****</td>\n",
              "      <td>CRUISE</td>\n",
              "      <td>REGULAR</td>\n",
              "      <td>UNKNOWN</td>\n",
              "      <td>0.0</td>\n",
              "      <td>2016-07-30</td>\n",
              "    </tr>\n",
              "    <tr>\n",
              "      <th>960</th>\n",
              "      <td>10605</td>\n",
              "      <td>40169</td>\n",
              "      <td>PTJCZ</td>\n",
              "      <td>106</td>\n",
              "      <td>AIRPLANE</td>\n",
              "      <td>CESSNA AIRCRAFT</td>\n",
              "      <td>310Q</td>\n",
              "      <td>PISTON</td>\n",
              "      <td>2.0</td>\n",
              "      <td>5299</td>\n",
              "      <td>...</td>\n",
              "      <td>BRAZIL</td>\n",
              "      <td>TPN</td>\n",
              "      <td>NOT REGULAR</td>\n",
              "      <td>****</td>\n",
              "      <td>****</td>\n",
              "      <td>RUN AFTER LANDING</td>\n",
              "      <td>REGULAR</td>\n",
              "      <td>LIGHT</td>\n",
              "      <td>0.0</td>\n",
              "      <td>2016-07-30</td>\n",
              "    </tr>\n",
              "    <tr>\n",
              "      <th>1500</th>\n",
              "      <td>13518</td>\n",
              "      <td>53308</td>\n",
              "      <td>PRSDL</td>\n",
              "      <td>4693</td>\n",
              "      <td>AIRPLANE</td>\n",
              "      <td>BOEING COMPANY</td>\n",
              "      <td>737-3S3</td>\n",
              "      <td>JET</td>\n",
              "      <td>2.0</td>\n",
              "      <td>139499</td>\n",
              "      <td>...</td>\n",
              "      <td>BRAZIL</td>\n",
              "      <td>TPN</td>\n",
              "      <td>NOT REGULAR</td>\n",
              "      <td>SBTE</td>\n",
              "      <td>SBSL</td>\n",
              "      <td>LANDING</td>\n",
              "      <td>NOT REGULAR</td>\n",
              "      <td>LIGHT</td>\n",
              "      <td>0.0</td>\n",
              "      <td>2016-07-30</td>\n",
              "    </tr>\n",
              "  </tbody>\n",
              "</table>\n",
              "<p>5 rows × 22 columns</p>\n",
              "</div>\n",
              "      <button class=\"colab-df-convert\" onclick=\"convertToInteractive('df-15611ff7-0306-49fe-93ae-44d03e0007d1')\"\n",
              "              title=\"Convert this dataframe to an interactive table.\"\n",
              "              style=\"display:none;\">\n",
              "        \n",
              "  <svg xmlns=\"http://www.w3.org/2000/svg\" height=\"24px\"viewBox=\"0 0 24 24\"\n",
              "       width=\"24px\">\n",
              "    <path d=\"M0 0h24v24H0V0z\" fill=\"none\"/>\n",
              "    <path d=\"M18.56 5.44l.94 2.06.94-2.06 2.06-.94-2.06-.94-.94-2.06-.94 2.06-2.06.94zm-11 1L8.5 8.5l.94-2.06 2.06-.94-2.06-.94L8.5 2.5l-.94 2.06-2.06.94zm10 10l.94 2.06.94-2.06 2.06-.94-2.06-.94-.94-2.06-.94 2.06-2.06.94z\"/><path d=\"M17.41 7.96l-1.37-1.37c-.4-.4-.92-.59-1.43-.59-.52 0-1.04.2-1.43.59L10.3 9.45l-7.72 7.72c-.78.78-.78 2.05 0 2.83L4 21.41c.39.39.9.59 1.41.59.51 0 1.02-.2 1.41-.59l7.78-7.78 2.81-2.81c.8-.78.8-2.07 0-2.86zM5.41 20L4 18.59l7.72-7.72 1.47 1.35L5.41 20z\"/>\n",
              "  </svg>\n",
              "      </button>\n",
              "      \n",
              "  <style>\n",
              "    .colab-df-container {\n",
              "      display:flex;\n",
              "      flex-wrap:wrap;\n",
              "      gap: 12px;\n",
              "    }\n",
              "\n",
              "    .colab-df-convert {\n",
              "      background-color: #E8F0FE;\n",
              "      border: none;\n",
              "      border-radius: 50%;\n",
              "      cursor: pointer;\n",
              "      display: none;\n",
              "      fill: #1967D2;\n",
              "      height: 32px;\n",
              "      padding: 0 0 0 0;\n",
              "      width: 32px;\n",
              "    }\n",
              "\n",
              "    .colab-df-convert:hover {\n",
              "      background-color: #E2EBFA;\n",
              "      box-shadow: 0px 1px 2px rgba(60, 64, 67, 0.3), 0px 1px 3px 1px rgba(60, 64, 67, 0.15);\n",
              "      fill: #174EA6;\n",
              "    }\n",
              "\n",
              "    [theme=dark] .colab-df-convert {\n",
              "      background-color: #3B4455;\n",
              "      fill: #D2E3FC;\n",
              "    }\n",
              "\n",
              "    [theme=dark] .colab-df-convert:hover {\n",
              "      background-color: #434B5C;\n",
              "      box-shadow: 0px 1px 3px 1px rgba(0, 0, 0, 0.15);\n",
              "      filter: drop-shadow(0px 1px 2px rgba(0, 0, 0, 0.3));\n",
              "      fill: #FFFFFF;\n",
              "    }\n",
              "  </style>\n",
              "\n",
              "      <script>\n",
              "        const buttonEl =\n",
              "          document.querySelector('#df-15611ff7-0306-49fe-93ae-44d03e0007d1 button.colab-df-convert');\n",
              "        buttonEl.style.display =\n",
              "          google.colab.kernel.accessAllowed ? 'block' : 'none';\n",
              "\n",
              "        async function convertToInteractive(key) {\n",
              "          const element = document.querySelector('#df-15611ff7-0306-49fe-93ae-44d03e0007d1');\n",
              "          const dataTable =\n",
              "            await google.colab.kernel.invokeFunction('convertToInteractive',\n",
              "                                                     [key], {});\n",
              "          if (!dataTable) return;\n",
              "\n",
              "          const docLinkHtml = 'Like what you see? Visit the ' +\n",
              "            '<a target=\"_blank\" href=https://colab.research.google.com/notebooks/data_table.ipynb>data table notebook</a>'\n",
              "            + ' to learn more about interactive tables.';\n",
              "          element.innerHTML = '';\n",
              "          dataTable['output_type'] = 'display_data';\n",
              "          await google.colab.output.renderOutput(dataTable, element);\n",
              "          const docLink = document.createElement('div');\n",
              "          docLink.innerHTML = docLinkHtml;\n",
              "          element.appendChild(docLink);\n",
              "        }\n",
              "      </script>\n",
              "    </div>\n",
              "  </div>\n",
              "  "
            ]
          },
          "metadata": {},
          "execution_count": 60
        }
      ]
    },
    {
      "cell_type": "markdown",
      "source": [
        "## **Quantas aeronaves possuem registro desconhecido?**"
      ],
      "metadata": {
        "id": "EV3z5mz2vd3g"
      }
    },
    {
      "cell_type": "code",
      "source": [
        "df.loc[df['registration_aviation']== 'UNKNOWN']"
      ],
      "metadata": {
        "id": "4tz4SwFcvjlQ",
        "colab": {
          "base_uri": "https://localhost:8080/",
          "height": 1000
        },
        "outputId": "646f1c25-dc4f-4ec1-c897-c51506d4f6a7"
      },
      "execution_count": 61,
      "outputs": [
        {
          "output_type": "execute_result",
          "data": {
            "text/plain": [
              "      aircraft_id  occurrence_id registration  operator_id equipment  \\\n",
              "1115        11833          43729       BRXXX1         1657  AIRPLANE   \n",
              "1479        13400          47675       PTXXX3         1657  AIRPLANE   \n",
              "2001        34491          36576       N663UA         5049  AIRPLANE   \n",
              "2002        34545          27633       FAP117         5880  AIRPLANE   \n",
              "2003        34546          27729       N153DL         1634  AIRPLANE   \n",
              "2004        34547          28156        FOIJE         5881  AIRPLANE   \n",
              "2005        34555          34296       N2098L         1821  AIRPLANE   \n",
              "2006        34556          34696        D2TEA         5886  AIRPLANE   \n",
              "2007        34557          35055        LVBHF         5887  AIRPLANE   \n",
              "2008        34562          36116       N526MD         5363  AIRPLANE   \n",
              "2009        34567          38843       N2015S         3992  AIRPLANE   \n",
              "2010        34568          40047        CSTOD         4844  AIRPLANE   \n",
              "2011        34568          45252        CSTOD         4844  AIRPLANE   \n",
              "2012        34573          41274        ZPBCA         1657  AIRPLANE   \n",
              "2013        34587          45168        ZPBCK         3992  AIRPLANE   \n",
              "2014        34590          45588        ECGLE         5907  AIRPLANE   \n",
              "2015        34592          45653        ZSSXY         5909  AIRPLANE   \n",
              "2016        34598          46073       N342AN          630  AIRPLANE   \n",
              "2017        34602          46307       N173DZ         1634  AIRPLANE   \n",
              "2018        34604          46431       N988AR         5915  AIRPLANE   \n",
              "2021        34630          49476        ZPBCH         5244  AIRPLANE   \n",
              "2033        34652          53403        HZIBN         1657  AIRPLANE   \n",
              "2040        38934          60649        ZPBIL         3992  AIRPLANE   \n",
              "2041        38941          60879        ZPTVU         3992   UNKNOWN   \n",
              "2042        39147          28437        DGOMM         3992  AIRPLANE   \n",
              "\n",
              "           manufacturer         model engine_type  engines_amount  \\\n",
              "1115    CESSNA AIRCRAFT          R182      PISTON             1.0   \n",
              "1479    CESSNA AIRCRAFT          210N      PISTON             1.0   \n",
              "2001     BOEING COMPANY       767-322         JET             2.0   \n",
              "2002    CESSNA AIRCRAFT         A-37B     UNKNOWN             0.0   \n",
              "2003     BOEING COMPANY       767-3P6         JET             2.0   \n",
              "2004            EMBRAER        EMB145         JET             2.0   \n",
              "2005     BEECH AIRCRAFT        95-B55      PISTON             2.0   \n",
              "2006     BOEING COMPANY      747-312M      PISTON             4.0   \n",
              "2007  MCDONNELL DOUGLAS          MD82     UNKNOWN             0.0   \n",
              "2008  MCDONNELL DOUGLAS      DC-10-30      PISTON             3.0   \n",
              "2009    CESSNA AIRCRAFT         T210L      PISTON             0.0   \n",
              "2010   AIRBUS INDUSTRIE      A340-541         JET             4.0   \n",
              "2011   AIRBUS INDUSTRIE      A340-541         JET             4.0   \n",
              "2012    CESSNA AIRCRAFT         T206H      PISTON             1.0   \n",
              "2013    CESSNA AIRCRAFT          C206      PISTON             1.0   \n",
              "2014   AIRBUS INDUSTRIE          A340         JET             2.0   \n",
              "2015   AIRBUS INDUSTRIE      A330-243         JET             2.0   \n",
              "2016     BOEING COMPANY       767-328         JET             2.0   \n",
              "2017     BOEING COMPANY       767-322         JET             2.0   \n",
              "2018  MCDONNELL DOUGLAS          MD11         JET             3.0   \n",
              "2021    CESSNA AIRCRAFT          210M      PISTON             1.0   \n",
              "2033            EMBRAER       EMB-505         JET             2.0   \n",
              "2040     BEECH AIRCRAFT         B36TC      PISTON             1.0   \n",
              "2041         WZQ-OKECIE  PZL 106 KRUK     UNKNOWN             0.0   \n",
              "2042     PIPER AIRCRAFT          PA34      PISTON             2.0   \n",
              "\n",
              "      takeoff_max_weight (Lbs)  ...  registration_country  \\\n",
              "1115                         0  ...               UNKNOWN   \n",
              "1479                      3747  ...                BRAZIL   \n",
              "2001                    411999  ...                   USA   \n",
              "2002                         0  ...                         \n",
              "2003                         0  ...                   USA   \n",
              "2004                     42328  ...                FRENCH   \n",
              "2005                      5000  ...                   USA   \n",
              "2006                         0  ...                         \n",
              "2007                    149473  ...                         \n",
              "2008                    571999  ...                   USA   \n",
              "2009                      3800  ...                   USA   \n",
              "2010                    522494  ...                         \n",
              "2011                    522494  ...                         \n",
              "2012                      3600  ...                         \n",
              "2013                      3600  ...                         \n",
              "2014                    522494  ...                 SPAIN   \n",
              "2015                    507062  ...          SOUTH AFRICA   \n",
              "2016                    411999  ...                   USA   \n",
              "2017                    350005  ...                   USA   \n",
              "2018                    630499  ...                   USA   \n",
              "2021                      3800  ...                         \n",
              "2033                     17967  ...          SAUDI ARABIA   \n",
              "2040                      3849  ...                         \n",
              "2041                      6613  ...                         \n",
              "2042                         0  ...                GERMAN   \n",
              "\n",
              "      registration_category registration_aviation origin_flight  \\\n",
              "1115                    ***               UNKNOWN          ****   \n",
              "1479                    ***               UNKNOWN          ****   \n",
              "2001                    EXT               UNKNOWN          ****   \n",
              "2002                    EXT               UNKNOWN          ****   \n",
              "2003                    EXT               UNKNOWN          ****   \n",
              "2004                    EXT               UNKNOWN          ****   \n",
              "2005                    EXT               UNKNOWN          ****   \n",
              "2006                    EXT               UNKNOWN          ****   \n",
              "2007                    EXT               UNKNOWN          ****   \n",
              "2008                    ***               UNKNOWN          ****   \n",
              "2009                    EXT               UNKNOWN          ****   \n",
              "2010                    ***               UNKNOWN          SBGL   \n",
              "2011                    EXT               UNKNOWN          ****   \n",
              "2012                    EXT               UNKNOWN          ****   \n",
              "2013                    EXT               UNKNOWN          ****   \n",
              "2014                    ***               UNKNOWN          LEMD   \n",
              "2015                    EXT               UNKNOWN          ****   \n",
              "2016                    ***               UNKNOWN          ****   \n",
              "2017                    ***               UNKNOWN          ****   \n",
              "2018                    EXT               UNKNOWN          KMIA   \n",
              "2021                    ***               UNKNOWN          ****   \n",
              "2033                    EXT               UNKNOWN          LIMC   \n",
              "2040                    EXT               UNKNOWN          SDEN   \n",
              "2041                    EXT               UNKNOWN          ****   \n",
              "2042                    ***               UNKNOWN          ****   \n",
              "\n",
              "     destination_flight    operation_phase type_operation damage_level  \\\n",
              "1115               ****            UNKNOWN        UNKNOWN    DESTROYED   \n",
              "1479               ****            UNKNOWN        UNKNOWN  SUBSTANTIAL   \n",
              "2001               ****          ASCENSION        UNKNOWN         NONE   \n",
              "2002               ****            TAKEOFF        UNKNOWN    DESTROYED   \n",
              "2003               ****            UNKNOWN        UNKNOWN      UNKNOWN   \n",
              "2004               ****            UNKNOWN        UNKNOWN      UNKNOWN   \n",
              "2005               ****            TAKEOFF        UNKNOWN         NONE   \n",
              "2006               ****          ASCENSION        UNKNOWN  SUBSTANTIAL   \n",
              "2007               ****             CRUISE        UNKNOWN         NONE   \n",
              "2008               ****          ASCENSION        UNKNOWN  SUBSTANTIAL   \n",
              "2009               ****            PARKING        UNKNOWN  SUBSTANTIAL   \n",
              "2010               SBGR            LANDING        REGULAR         NONE   \n",
              "2011               ****            TAKEOFF        UNKNOWN        LIGHT   \n",
              "2012               ****            LANDING        UNKNOWN    DESTROYED   \n",
              "2013               ****            DESCEND        UNKNOWN  SUBSTANTIAL   \n",
              "2014               SBGL            DESCEND        REGULAR         NONE   \n",
              "2015               ****  RUN AFTER LANDING        UNKNOWN      UNKNOWN   \n",
              "2016               ****          ASCENSION        UNKNOWN        LIGHT   \n",
              "2017               ****            TAKEOFF        UNKNOWN  SUBSTANTIAL   \n",
              "2018               SBKP            LANDING    NOT REGULAR  SUBSTANTIAL   \n",
              "2021               ****            LANDING        UNKNOWN  SUBSTANTIAL   \n",
              "2033               EGLK            LANDING        PRIVATE    DESTROYED   \n",
              "2040               SBNF            TAKEOFF        PRIVATE  SUBSTANTIAL   \n",
              "2041               ****           MANEUVER   AGRICULTURAL    DESTROYED   \n",
              "2042               ****            UNKNOWN        UNKNOWN    DESTROYED   \n",
              "\n",
              "     fatalities_amount extraction_day  \n",
              "1115               0.0     2016-07-30  \n",
              "1479               0.0     2016-07-30  \n",
              "2001               0.0     2016-07-30  \n",
              "2002               0.0     2016-07-30  \n",
              "2003               0.0     2016-07-30  \n",
              "2004               0.0     2016-07-30  \n",
              "2005               0.0     2016-07-30  \n",
              "2006               0.0     2016-07-30  \n",
              "2007               0.0     2016-07-30  \n",
              "2008               0.0     2016-07-30  \n",
              "2009               0.0     2016-07-30  \n",
              "2010               0.0     2016-07-30  \n",
              "2011               0.0     2016-07-30  \n",
              "2012               0.0     2016-07-30  \n",
              "2013               0.0     2016-07-30  \n",
              "2014               0.0     2016-07-30  \n",
              "2015               0.0     2016-07-30  \n",
              "2016               0.0     2016-07-30  \n",
              "2017               0.0     2016-07-30  \n",
              "2018               0.0     2016-07-30  \n",
              "2021               0.0     2016-07-30  \n",
              "2033               4.0     2016-07-30  \n",
              "2040               0.0     2016-07-30  \n",
              "2041               2.0     2016-07-30  \n",
              "2042               0.0     2016-07-30  \n",
              "\n",
              "[25 rows x 22 columns]"
            ],
            "text/html": [
              "\n",
              "  <div id=\"df-e301430b-1b64-474f-a463-fee7852cdda0\">\n",
              "    <div class=\"colab-df-container\">\n",
              "      <div>\n",
              "<style scoped>\n",
              "    .dataframe tbody tr th:only-of-type {\n",
              "        vertical-align: middle;\n",
              "    }\n",
              "\n",
              "    .dataframe tbody tr th {\n",
              "        vertical-align: top;\n",
              "    }\n",
              "\n",
              "    .dataframe thead th {\n",
              "        text-align: right;\n",
              "    }\n",
              "</style>\n",
              "<table border=\"1\" class=\"dataframe\">\n",
              "  <thead>\n",
              "    <tr style=\"text-align: right;\">\n",
              "      <th></th>\n",
              "      <th>aircraft_id</th>\n",
              "      <th>occurrence_id</th>\n",
              "      <th>registration</th>\n",
              "      <th>operator_id</th>\n",
              "      <th>equipment</th>\n",
              "      <th>manufacturer</th>\n",
              "      <th>model</th>\n",
              "      <th>engine_type</th>\n",
              "      <th>engines_amount</th>\n",
              "      <th>takeoff_max_weight (Lbs)</th>\n",
              "      <th>...</th>\n",
              "      <th>registration_country</th>\n",
              "      <th>registration_category</th>\n",
              "      <th>registration_aviation</th>\n",
              "      <th>origin_flight</th>\n",
              "      <th>destination_flight</th>\n",
              "      <th>operation_phase</th>\n",
              "      <th>type_operation</th>\n",
              "      <th>damage_level</th>\n",
              "      <th>fatalities_amount</th>\n",
              "      <th>extraction_day</th>\n",
              "    </tr>\n",
              "  </thead>\n",
              "  <tbody>\n",
              "    <tr>\n",
              "      <th>1115</th>\n",
              "      <td>11833</td>\n",
              "      <td>43729</td>\n",
              "      <td>BRXXX1</td>\n",
              "      <td>1657</td>\n",
              "      <td>AIRPLANE</td>\n",
              "      <td>CESSNA AIRCRAFT</td>\n",
              "      <td>R182</td>\n",
              "      <td>PISTON</td>\n",
              "      <td>1.0</td>\n",
              "      <td>0</td>\n",
              "      <td>...</td>\n",
              "      <td>UNKNOWN</td>\n",
              "      <td>***</td>\n",
              "      <td>UNKNOWN</td>\n",
              "      <td>****</td>\n",
              "      <td>****</td>\n",
              "      <td>UNKNOWN</td>\n",
              "      <td>UNKNOWN</td>\n",
              "      <td>DESTROYED</td>\n",
              "      <td>0.0</td>\n",
              "      <td>2016-07-30</td>\n",
              "    </tr>\n",
              "    <tr>\n",
              "      <th>1479</th>\n",
              "      <td>13400</td>\n",
              "      <td>47675</td>\n",
              "      <td>PTXXX3</td>\n",
              "      <td>1657</td>\n",
              "      <td>AIRPLANE</td>\n",
              "      <td>CESSNA AIRCRAFT</td>\n",
              "      <td>210N</td>\n",
              "      <td>PISTON</td>\n",
              "      <td>1.0</td>\n",
              "      <td>3747</td>\n",
              "      <td>...</td>\n",
              "      <td>BRAZIL</td>\n",
              "      <td>***</td>\n",
              "      <td>UNKNOWN</td>\n",
              "      <td>****</td>\n",
              "      <td>****</td>\n",
              "      <td>UNKNOWN</td>\n",
              "      <td>UNKNOWN</td>\n",
              "      <td>SUBSTANTIAL</td>\n",
              "      <td>0.0</td>\n",
              "      <td>2016-07-30</td>\n",
              "    </tr>\n",
              "    <tr>\n",
              "      <th>2001</th>\n",
              "      <td>34491</td>\n",
              "      <td>36576</td>\n",
              "      <td>N663UA</td>\n",
              "      <td>5049</td>\n",
              "      <td>AIRPLANE</td>\n",
              "      <td>BOEING COMPANY</td>\n",
              "      <td>767-322</td>\n",
              "      <td>JET</td>\n",
              "      <td>2.0</td>\n",
              "      <td>411999</td>\n",
              "      <td>...</td>\n",
              "      <td>USA</td>\n",
              "      <td>EXT</td>\n",
              "      <td>UNKNOWN</td>\n",
              "      <td>****</td>\n",
              "      <td>****</td>\n",
              "      <td>ASCENSION</td>\n",
              "      <td>UNKNOWN</td>\n",
              "      <td>NONE</td>\n",
              "      <td>0.0</td>\n",
              "      <td>2016-07-30</td>\n",
              "    </tr>\n",
              "    <tr>\n",
              "      <th>2002</th>\n",
              "      <td>34545</td>\n",
              "      <td>27633</td>\n",
              "      <td>FAP117</td>\n",
              "      <td>5880</td>\n",
              "      <td>AIRPLANE</td>\n",
              "      <td>CESSNA AIRCRAFT</td>\n",
              "      <td>A-37B</td>\n",
              "      <td>UNKNOWN</td>\n",
              "      <td>0.0</td>\n",
              "      <td>0</td>\n",
              "      <td>...</td>\n",
              "      <td></td>\n",
              "      <td>EXT</td>\n",
              "      <td>UNKNOWN</td>\n",
              "      <td>****</td>\n",
              "      <td>****</td>\n",
              "      <td>TAKEOFF</td>\n",
              "      <td>UNKNOWN</td>\n",
              "      <td>DESTROYED</td>\n",
              "      <td>0.0</td>\n",
              "      <td>2016-07-30</td>\n",
              "    </tr>\n",
              "    <tr>\n",
              "      <th>2003</th>\n",
              "      <td>34546</td>\n",
              "      <td>27729</td>\n",
              "      <td>N153DL</td>\n",
              "      <td>1634</td>\n",
              "      <td>AIRPLANE</td>\n",
              "      <td>BOEING COMPANY</td>\n",
              "      <td>767-3P6</td>\n",
              "      <td>JET</td>\n",
              "      <td>2.0</td>\n",
              "      <td>0</td>\n",
              "      <td>...</td>\n",
              "      <td>USA</td>\n",
              "      <td>EXT</td>\n",
              "      <td>UNKNOWN</td>\n",
              "      <td>****</td>\n",
              "      <td>****</td>\n",
              "      <td>UNKNOWN</td>\n",
              "      <td>UNKNOWN</td>\n",
              "      <td>UNKNOWN</td>\n",
              "      <td>0.0</td>\n",
              "      <td>2016-07-30</td>\n",
              "    </tr>\n",
              "    <tr>\n",
              "      <th>2004</th>\n",
              "      <td>34547</td>\n",
              "      <td>28156</td>\n",
              "      <td>FOIJE</td>\n",
              "      <td>5881</td>\n",
              "      <td>AIRPLANE</td>\n",
              "      <td>EMBRAER</td>\n",
              "      <td>EMB145</td>\n",
              "      <td>JET</td>\n",
              "      <td>2.0</td>\n",
              "      <td>42328</td>\n",
              "      <td>...</td>\n",
              "      <td>FRENCH</td>\n",
              "      <td>EXT</td>\n",
              "      <td>UNKNOWN</td>\n",
              "      <td>****</td>\n",
              "      <td>****</td>\n",
              "      <td>UNKNOWN</td>\n",
              "      <td>UNKNOWN</td>\n",
              "      <td>UNKNOWN</td>\n",
              "      <td>0.0</td>\n",
              "      <td>2016-07-30</td>\n",
              "    </tr>\n",
              "    <tr>\n",
              "      <th>2005</th>\n",
              "      <td>34555</td>\n",
              "      <td>34296</td>\n",
              "      <td>N2098L</td>\n",
              "      <td>1821</td>\n",
              "      <td>AIRPLANE</td>\n",
              "      <td>BEECH AIRCRAFT</td>\n",
              "      <td>95-B55</td>\n",
              "      <td>PISTON</td>\n",
              "      <td>2.0</td>\n",
              "      <td>5000</td>\n",
              "      <td>...</td>\n",
              "      <td>USA</td>\n",
              "      <td>EXT</td>\n",
              "      <td>UNKNOWN</td>\n",
              "      <td>****</td>\n",
              "      <td>****</td>\n",
              "      <td>TAKEOFF</td>\n",
              "      <td>UNKNOWN</td>\n",
              "      <td>NONE</td>\n",
              "      <td>0.0</td>\n",
              "      <td>2016-07-30</td>\n",
              "    </tr>\n",
              "    <tr>\n",
              "      <th>2006</th>\n",
              "      <td>34556</td>\n",
              "      <td>34696</td>\n",
              "      <td>D2TEA</td>\n",
              "      <td>5886</td>\n",
              "      <td>AIRPLANE</td>\n",
              "      <td>BOEING COMPANY</td>\n",
              "      <td>747-312M</td>\n",
              "      <td>PISTON</td>\n",
              "      <td>4.0</td>\n",
              "      <td>0</td>\n",
              "      <td>...</td>\n",
              "      <td></td>\n",
              "      <td>EXT</td>\n",
              "      <td>UNKNOWN</td>\n",
              "      <td>****</td>\n",
              "      <td>****</td>\n",
              "      <td>ASCENSION</td>\n",
              "      <td>UNKNOWN</td>\n",
              "      <td>SUBSTANTIAL</td>\n",
              "      <td>0.0</td>\n",
              "      <td>2016-07-30</td>\n",
              "    </tr>\n",
              "    <tr>\n",
              "      <th>2007</th>\n",
              "      <td>34557</td>\n",
              "      <td>35055</td>\n",
              "      <td>LVBHF</td>\n",
              "      <td>5887</td>\n",
              "      <td>AIRPLANE</td>\n",
              "      <td>MCDONNELL DOUGLAS</td>\n",
              "      <td>MD82</td>\n",
              "      <td>UNKNOWN</td>\n",
              "      <td>0.0</td>\n",
              "      <td>149473</td>\n",
              "      <td>...</td>\n",
              "      <td></td>\n",
              "      <td>EXT</td>\n",
              "      <td>UNKNOWN</td>\n",
              "      <td>****</td>\n",
              "      <td>****</td>\n",
              "      <td>CRUISE</td>\n",
              "      <td>UNKNOWN</td>\n",
              "      <td>NONE</td>\n",
              "      <td>0.0</td>\n",
              "      <td>2016-07-30</td>\n",
              "    </tr>\n",
              "    <tr>\n",
              "      <th>2008</th>\n",
              "      <td>34562</td>\n",
              "      <td>36116</td>\n",
              "      <td>N526MD</td>\n",
              "      <td>5363</td>\n",
              "      <td>AIRPLANE</td>\n",
              "      <td>MCDONNELL DOUGLAS</td>\n",
              "      <td>DC-10-30</td>\n",
              "      <td>PISTON</td>\n",
              "      <td>3.0</td>\n",
              "      <td>571999</td>\n",
              "      <td>...</td>\n",
              "      <td>USA</td>\n",
              "      <td>***</td>\n",
              "      <td>UNKNOWN</td>\n",
              "      <td>****</td>\n",
              "      <td>****</td>\n",
              "      <td>ASCENSION</td>\n",
              "      <td>UNKNOWN</td>\n",
              "      <td>SUBSTANTIAL</td>\n",
              "      <td>0.0</td>\n",
              "      <td>2016-07-30</td>\n",
              "    </tr>\n",
              "    <tr>\n",
              "      <th>2009</th>\n",
              "      <td>34567</td>\n",
              "      <td>38843</td>\n",
              "      <td>N2015S</td>\n",
              "      <td>3992</td>\n",
              "      <td>AIRPLANE</td>\n",
              "      <td>CESSNA AIRCRAFT</td>\n",
              "      <td>T210L</td>\n",
              "      <td>PISTON</td>\n",
              "      <td>0.0</td>\n",
              "      <td>3800</td>\n",
              "      <td>...</td>\n",
              "      <td>USA</td>\n",
              "      <td>EXT</td>\n",
              "      <td>UNKNOWN</td>\n",
              "      <td>****</td>\n",
              "      <td>****</td>\n",
              "      <td>PARKING</td>\n",
              "      <td>UNKNOWN</td>\n",
              "      <td>SUBSTANTIAL</td>\n",
              "      <td>0.0</td>\n",
              "      <td>2016-07-30</td>\n",
              "    </tr>\n",
              "    <tr>\n",
              "      <th>2010</th>\n",
              "      <td>34568</td>\n",
              "      <td>40047</td>\n",
              "      <td>CSTOD</td>\n",
              "      <td>4844</td>\n",
              "      <td>AIRPLANE</td>\n",
              "      <td>AIRBUS INDUSTRIE</td>\n",
              "      <td>A340-541</td>\n",
              "      <td>JET</td>\n",
              "      <td>4.0</td>\n",
              "      <td>522494</td>\n",
              "      <td>...</td>\n",
              "      <td></td>\n",
              "      <td>***</td>\n",
              "      <td>UNKNOWN</td>\n",
              "      <td>SBGL</td>\n",
              "      <td>SBGR</td>\n",
              "      <td>LANDING</td>\n",
              "      <td>REGULAR</td>\n",
              "      <td>NONE</td>\n",
              "      <td>0.0</td>\n",
              "      <td>2016-07-30</td>\n",
              "    </tr>\n",
              "    <tr>\n",
              "      <th>2011</th>\n",
              "      <td>34568</td>\n",
              "      <td>45252</td>\n",
              "      <td>CSTOD</td>\n",
              "      <td>4844</td>\n",
              "      <td>AIRPLANE</td>\n",
              "      <td>AIRBUS INDUSTRIE</td>\n",
              "      <td>A340-541</td>\n",
              "      <td>JET</td>\n",
              "      <td>4.0</td>\n",
              "      <td>522494</td>\n",
              "      <td>...</td>\n",
              "      <td></td>\n",
              "      <td>EXT</td>\n",
              "      <td>UNKNOWN</td>\n",
              "      <td>****</td>\n",
              "      <td>****</td>\n",
              "      <td>TAKEOFF</td>\n",
              "      <td>UNKNOWN</td>\n",
              "      <td>LIGHT</td>\n",
              "      <td>0.0</td>\n",
              "      <td>2016-07-30</td>\n",
              "    </tr>\n",
              "    <tr>\n",
              "      <th>2012</th>\n",
              "      <td>34573</td>\n",
              "      <td>41274</td>\n",
              "      <td>ZPBCA</td>\n",
              "      <td>1657</td>\n",
              "      <td>AIRPLANE</td>\n",
              "      <td>CESSNA AIRCRAFT</td>\n",
              "      <td>T206H</td>\n",
              "      <td>PISTON</td>\n",
              "      <td>1.0</td>\n",
              "      <td>3600</td>\n",
              "      <td>...</td>\n",
              "      <td></td>\n",
              "      <td>EXT</td>\n",
              "      <td>UNKNOWN</td>\n",
              "      <td>****</td>\n",
              "      <td>****</td>\n",
              "      <td>LANDING</td>\n",
              "      <td>UNKNOWN</td>\n",
              "      <td>DESTROYED</td>\n",
              "      <td>0.0</td>\n",
              "      <td>2016-07-30</td>\n",
              "    </tr>\n",
              "    <tr>\n",
              "      <th>2013</th>\n",
              "      <td>34587</td>\n",
              "      <td>45168</td>\n",
              "      <td>ZPBCK</td>\n",
              "      <td>3992</td>\n",
              "      <td>AIRPLANE</td>\n",
              "      <td>CESSNA AIRCRAFT</td>\n",
              "      <td>C206</td>\n",
              "      <td>PISTON</td>\n",
              "      <td>1.0</td>\n",
              "      <td>3600</td>\n",
              "      <td>...</td>\n",
              "      <td></td>\n",
              "      <td>EXT</td>\n",
              "      <td>UNKNOWN</td>\n",
              "      <td>****</td>\n",
              "      <td>****</td>\n",
              "      <td>DESCEND</td>\n",
              "      <td>UNKNOWN</td>\n",
              "      <td>SUBSTANTIAL</td>\n",
              "      <td>0.0</td>\n",
              "      <td>2016-07-30</td>\n",
              "    </tr>\n",
              "    <tr>\n",
              "      <th>2014</th>\n",
              "      <td>34590</td>\n",
              "      <td>45588</td>\n",
              "      <td>ECGLE</td>\n",
              "      <td>5907</td>\n",
              "      <td>AIRPLANE</td>\n",
              "      <td>AIRBUS INDUSTRIE</td>\n",
              "      <td>A340</td>\n",
              "      <td>JET</td>\n",
              "      <td>2.0</td>\n",
              "      <td>522494</td>\n",
              "      <td>...</td>\n",
              "      <td>SPAIN</td>\n",
              "      <td>***</td>\n",
              "      <td>UNKNOWN</td>\n",
              "      <td>LEMD</td>\n",
              "      <td>SBGL</td>\n",
              "      <td>DESCEND</td>\n",
              "      <td>REGULAR</td>\n",
              "      <td>NONE</td>\n",
              "      <td>0.0</td>\n",
              "      <td>2016-07-30</td>\n",
              "    </tr>\n",
              "    <tr>\n",
              "      <th>2015</th>\n",
              "      <td>34592</td>\n",
              "      <td>45653</td>\n",
              "      <td>ZSSXY</td>\n",
              "      <td>5909</td>\n",
              "      <td>AIRPLANE</td>\n",
              "      <td>AIRBUS INDUSTRIE</td>\n",
              "      <td>A330-243</td>\n",
              "      <td>JET</td>\n",
              "      <td>2.0</td>\n",
              "      <td>507062</td>\n",
              "      <td>...</td>\n",
              "      <td>SOUTH AFRICA</td>\n",
              "      <td>EXT</td>\n",
              "      <td>UNKNOWN</td>\n",
              "      <td>****</td>\n",
              "      <td>****</td>\n",
              "      <td>RUN AFTER LANDING</td>\n",
              "      <td>UNKNOWN</td>\n",
              "      <td>UNKNOWN</td>\n",
              "      <td>0.0</td>\n",
              "      <td>2016-07-30</td>\n",
              "    </tr>\n",
              "    <tr>\n",
              "      <th>2016</th>\n",
              "      <td>34598</td>\n",
              "      <td>46073</td>\n",
              "      <td>N342AN</td>\n",
              "      <td>630</td>\n",
              "      <td>AIRPLANE</td>\n",
              "      <td>BOEING COMPANY</td>\n",
              "      <td>767-328</td>\n",
              "      <td>JET</td>\n",
              "      <td>2.0</td>\n",
              "      <td>411999</td>\n",
              "      <td>...</td>\n",
              "      <td>USA</td>\n",
              "      <td>***</td>\n",
              "      <td>UNKNOWN</td>\n",
              "      <td>****</td>\n",
              "      <td>****</td>\n",
              "      <td>ASCENSION</td>\n",
              "      <td>UNKNOWN</td>\n",
              "      <td>LIGHT</td>\n",
              "      <td>0.0</td>\n",
              "      <td>2016-07-30</td>\n",
              "    </tr>\n",
              "    <tr>\n",
              "      <th>2017</th>\n",
              "      <td>34602</td>\n",
              "      <td>46307</td>\n",
              "      <td>N173DZ</td>\n",
              "      <td>1634</td>\n",
              "      <td>AIRPLANE</td>\n",
              "      <td>BOEING COMPANY</td>\n",
              "      <td>767-322</td>\n",
              "      <td>JET</td>\n",
              "      <td>2.0</td>\n",
              "      <td>350005</td>\n",
              "      <td>...</td>\n",
              "      <td>USA</td>\n",
              "      <td>***</td>\n",
              "      <td>UNKNOWN</td>\n",
              "      <td>****</td>\n",
              "      <td>****</td>\n",
              "      <td>TAKEOFF</td>\n",
              "      <td>UNKNOWN</td>\n",
              "      <td>SUBSTANTIAL</td>\n",
              "      <td>0.0</td>\n",
              "      <td>2016-07-30</td>\n",
              "    </tr>\n",
              "    <tr>\n",
              "      <th>2018</th>\n",
              "      <td>34604</td>\n",
              "      <td>46431</td>\n",
              "      <td>N988AR</td>\n",
              "      <td>5915</td>\n",
              "      <td>AIRPLANE</td>\n",
              "      <td>MCDONNELL DOUGLAS</td>\n",
              "      <td>MD11</td>\n",
              "      <td>JET</td>\n",
              "      <td>3.0</td>\n",
              "      <td>630499</td>\n",
              "      <td>...</td>\n",
              "      <td>USA</td>\n",
              "      <td>EXT</td>\n",
              "      <td>UNKNOWN</td>\n",
              "      <td>KMIA</td>\n",
              "      <td>SBKP</td>\n",
              "      <td>LANDING</td>\n",
              "      <td>NOT REGULAR</td>\n",
              "      <td>SUBSTANTIAL</td>\n",
              "      <td>0.0</td>\n",
              "      <td>2016-07-30</td>\n",
              "    </tr>\n",
              "    <tr>\n",
              "      <th>2021</th>\n",
              "      <td>34630</td>\n",
              "      <td>49476</td>\n",
              "      <td>ZPBCH</td>\n",
              "      <td>5244</td>\n",
              "      <td>AIRPLANE</td>\n",
              "      <td>CESSNA AIRCRAFT</td>\n",
              "      <td>210M</td>\n",
              "      <td>PISTON</td>\n",
              "      <td>1.0</td>\n",
              "      <td>3800</td>\n",
              "      <td>...</td>\n",
              "      <td></td>\n",
              "      <td>***</td>\n",
              "      <td>UNKNOWN</td>\n",
              "      <td>****</td>\n",
              "      <td>****</td>\n",
              "      <td>LANDING</td>\n",
              "      <td>UNKNOWN</td>\n",
              "      <td>SUBSTANTIAL</td>\n",
              "      <td>0.0</td>\n",
              "      <td>2016-07-30</td>\n",
              "    </tr>\n",
              "    <tr>\n",
              "      <th>2033</th>\n",
              "      <td>34652</td>\n",
              "      <td>53403</td>\n",
              "      <td>HZIBN</td>\n",
              "      <td>1657</td>\n",
              "      <td>AIRPLANE</td>\n",
              "      <td>EMBRAER</td>\n",
              "      <td>EMB-505</td>\n",
              "      <td>JET</td>\n",
              "      <td>2.0</td>\n",
              "      <td>17967</td>\n",
              "      <td>...</td>\n",
              "      <td>SAUDI ARABIA</td>\n",
              "      <td>EXT</td>\n",
              "      <td>UNKNOWN</td>\n",
              "      <td>LIMC</td>\n",
              "      <td>EGLK</td>\n",
              "      <td>LANDING</td>\n",
              "      <td>PRIVATE</td>\n",
              "      <td>DESTROYED</td>\n",
              "      <td>4.0</td>\n",
              "      <td>2016-07-30</td>\n",
              "    </tr>\n",
              "    <tr>\n",
              "      <th>2040</th>\n",
              "      <td>38934</td>\n",
              "      <td>60649</td>\n",
              "      <td>ZPBIL</td>\n",
              "      <td>3992</td>\n",
              "      <td>AIRPLANE</td>\n",
              "      <td>BEECH AIRCRAFT</td>\n",
              "      <td>B36TC</td>\n",
              "      <td>PISTON</td>\n",
              "      <td>1.0</td>\n",
              "      <td>3849</td>\n",
              "      <td>...</td>\n",
              "      <td></td>\n",
              "      <td>EXT</td>\n",
              "      <td>UNKNOWN</td>\n",
              "      <td>SDEN</td>\n",
              "      <td>SBNF</td>\n",
              "      <td>TAKEOFF</td>\n",
              "      <td>PRIVATE</td>\n",
              "      <td>SUBSTANTIAL</td>\n",
              "      <td>0.0</td>\n",
              "      <td>2016-07-30</td>\n",
              "    </tr>\n",
              "    <tr>\n",
              "      <th>2041</th>\n",
              "      <td>38941</td>\n",
              "      <td>60879</td>\n",
              "      <td>ZPTVU</td>\n",
              "      <td>3992</td>\n",
              "      <td>UNKNOWN</td>\n",
              "      <td>WZQ-OKECIE</td>\n",
              "      <td>PZL 106 KRUK</td>\n",
              "      <td>UNKNOWN</td>\n",
              "      <td>0.0</td>\n",
              "      <td>6613</td>\n",
              "      <td>...</td>\n",
              "      <td></td>\n",
              "      <td>EXT</td>\n",
              "      <td>UNKNOWN</td>\n",
              "      <td>****</td>\n",
              "      <td>****</td>\n",
              "      <td>MANEUVER</td>\n",
              "      <td>AGRICULTURAL</td>\n",
              "      <td>DESTROYED</td>\n",
              "      <td>2.0</td>\n",
              "      <td>2016-07-30</td>\n",
              "    </tr>\n",
              "    <tr>\n",
              "      <th>2042</th>\n",
              "      <td>39147</td>\n",
              "      <td>28437</td>\n",
              "      <td>DGOMM</td>\n",
              "      <td>3992</td>\n",
              "      <td>AIRPLANE</td>\n",
              "      <td>PIPER AIRCRAFT</td>\n",
              "      <td>PA34</td>\n",
              "      <td>PISTON</td>\n",
              "      <td>2.0</td>\n",
              "      <td>0</td>\n",
              "      <td>...</td>\n",
              "      <td>GERMAN</td>\n",
              "      <td>***</td>\n",
              "      <td>UNKNOWN</td>\n",
              "      <td>****</td>\n",
              "      <td>****</td>\n",
              "      <td>UNKNOWN</td>\n",
              "      <td>UNKNOWN</td>\n",
              "      <td>DESTROYED</td>\n",
              "      <td>0.0</td>\n",
              "      <td>2016-07-30</td>\n",
              "    </tr>\n",
              "  </tbody>\n",
              "</table>\n",
              "<p>25 rows × 22 columns</p>\n",
              "</div>\n",
              "      <button class=\"colab-df-convert\" onclick=\"convertToInteractive('df-e301430b-1b64-474f-a463-fee7852cdda0')\"\n",
              "              title=\"Convert this dataframe to an interactive table.\"\n",
              "              style=\"display:none;\">\n",
              "        \n",
              "  <svg xmlns=\"http://www.w3.org/2000/svg\" height=\"24px\"viewBox=\"0 0 24 24\"\n",
              "       width=\"24px\">\n",
              "    <path d=\"M0 0h24v24H0V0z\" fill=\"none\"/>\n",
              "    <path d=\"M18.56 5.44l.94 2.06.94-2.06 2.06-.94-2.06-.94-.94-2.06-.94 2.06-2.06.94zm-11 1L8.5 8.5l.94-2.06 2.06-.94-2.06-.94L8.5 2.5l-.94 2.06-2.06.94zm10 10l.94 2.06.94-2.06 2.06-.94-2.06-.94-.94-2.06-.94 2.06-2.06.94z\"/><path d=\"M17.41 7.96l-1.37-1.37c-.4-.4-.92-.59-1.43-.59-.52 0-1.04.2-1.43.59L10.3 9.45l-7.72 7.72c-.78.78-.78 2.05 0 2.83L4 21.41c.39.39.9.59 1.41.59.51 0 1.02-.2 1.41-.59l7.78-7.78 2.81-2.81c.8-.78.8-2.07 0-2.86zM5.41 20L4 18.59l7.72-7.72 1.47 1.35L5.41 20z\"/>\n",
              "  </svg>\n",
              "      </button>\n",
              "      \n",
              "  <style>\n",
              "    .colab-df-container {\n",
              "      display:flex;\n",
              "      flex-wrap:wrap;\n",
              "      gap: 12px;\n",
              "    }\n",
              "\n",
              "    .colab-df-convert {\n",
              "      background-color: #E8F0FE;\n",
              "      border: none;\n",
              "      border-radius: 50%;\n",
              "      cursor: pointer;\n",
              "      display: none;\n",
              "      fill: #1967D2;\n",
              "      height: 32px;\n",
              "      padding: 0 0 0 0;\n",
              "      width: 32px;\n",
              "    }\n",
              "\n",
              "    .colab-df-convert:hover {\n",
              "      background-color: #E2EBFA;\n",
              "      box-shadow: 0px 1px 2px rgba(60, 64, 67, 0.3), 0px 1px 3px 1px rgba(60, 64, 67, 0.15);\n",
              "      fill: #174EA6;\n",
              "    }\n",
              "\n",
              "    [theme=dark] .colab-df-convert {\n",
              "      background-color: #3B4455;\n",
              "      fill: #D2E3FC;\n",
              "    }\n",
              "\n",
              "    [theme=dark] .colab-df-convert:hover {\n",
              "      background-color: #434B5C;\n",
              "      box-shadow: 0px 1px 3px 1px rgba(0, 0, 0, 0.15);\n",
              "      filter: drop-shadow(0px 1px 2px rgba(0, 0, 0, 0.3));\n",
              "      fill: #FFFFFF;\n",
              "    }\n",
              "  </style>\n",
              "\n",
              "      <script>\n",
              "        const buttonEl =\n",
              "          document.querySelector('#df-e301430b-1b64-474f-a463-fee7852cdda0 button.colab-df-convert');\n",
              "        buttonEl.style.display =\n",
              "          google.colab.kernel.accessAllowed ? 'block' : 'none';\n",
              "\n",
              "        async function convertToInteractive(key) {\n",
              "          const element = document.querySelector('#df-e301430b-1b64-474f-a463-fee7852cdda0');\n",
              "          const dataTable =\n",
              "            await google.colab.kernel.invokeFunction('convertToInteractive',\n",
              "                                                     [key], {});\n",
              "          if (!dataTable) return;\n",
              "\n",
              "          const docLinkHtml = 'Like what you see? Visit the ' +\n",
              "            '<a target=\"_blank\" href=https://colab.research.google.com/notebooks/data_table.ipynb>data table notebook</a>'\n",
              "            + ' to learn more about interactive tables.';\n",
              "          element.innerHTML = '';\n",
              "          dataTable['output_type'] = 'display_data';\n",
              "          await google.colab.output.renderOutput(dataTable, element);\n",
              "          const docLink = document.createElement('div');\n",
              "          docLink.innerHTML = docLinkHtml;\n",
              "          element.appendChild(docLink);\n",
              "        }\n",
              "      </script>\n",
              "    </div>\n",
              "  </div>\n",
              "  "
            ]
          },
          "metadata": {},
          "execution_count": 61
        }
      ]
    },
    {
      "cell_type": "markdown",
      "source": [
        "## **Verificando quantas aeronaves são de origem Americana**"
      ],
      "metadata": {
        "id": "Inu_lnBvYimB"
      }
    },
    {
      "cell_type": "code",
      "source": [
        "qtd_americana = df.loc[df['registration_country'] == 'USA' ]\n",
        "print(len(qtd_americana))"
      ],
      "metadata": {
        "colab": {
          "base_uri": "https://localhost:8080/"
        },
        "id": "vjhFReJJo_De",
        "outputId": "819b7420-b896-4807-9907-10c77990eed2"
      },
      "execution_count": 62,
      "outputs": [
        {
          "output_type": "stream",
          "name": "stdout",
          "text": [
            "22\n"
          ]
        }
      ]
    },
    {
      "cell_type": "markdown",
      "source": [
        "## **Modelos das aeronaves americanas**"
      ],
      "metadata": {
        "id": "aN8Ecq0vosBx"
      }
    },
    {
      "cell_type": "code",
      "source": [
        "df.loc[df['registration_country'] == 'USA' ]\n"
      ],
      "metadata": {
        "id": "5zkXRinrovWK",
        "colab": {
          "base_uri": "https://localhost:8080/",
          "height": 1000
        },
        "outputId": "876bfa5e-ecf6-4351-8333-929db26ceeb1"
      },
      "execution_count": 63,
      "outputs": [
        {
          "output_type": "execute_result",
          "data": {
            "text/plain": [
              "      aircraft_id  occurrence_id registration  operator_id   equipment  \\\n",
              "749          9605          34016       N525ZS         3992    AIRPLANE   \n",
              "781          9673          34555       N400SA         3992    AIRPLANE   \n",
              "812          9768          35256       N2176P         5582    AIRPLANE   \n",
              "877         10377          38279       N8540A         3992    AIRPLANE   \n",
              "991         10984          41155       N313PC         3992    AIRPLANE   \n",
              "1084        11621          43403       N29507         3992    AIRPLANE   \n",
              "1521        13573          46900       N25283         3992    AIRPLANE   \n",
              "1522        13574          46901       N4489T         3992    AIRPLANE   \n",
              "1685        15086          50348        N53EX         3992    AIRPLANE   \n",
              "1994        34210          30375       N600XL         3992    AIRPLANE   \n",
              "1998        34248          38419       N413HB         3992    AIRPLANE   \n",
              "2001        34491          36576       N663UA         5049    AIRPLANE   \n",
              "2003        34546          27729       N153DL         1634    AIRPLANE   \n",
              "2005        34555          34296       N2098L         1821    AIRPLANE   \n",
              "2008        34562          36116       N526MD         5363    AIRPLANE   \n",
              "2009        34567          38843       N2015S         3992    AIRPLANE   \n",
              "2016        34598          46073       N342AN          630    AIRPLANE   \n",
              "2017        34602          46307       N173DZ         1634    AIRPLANE   \n",
              "2018        34604          46431       N988AR         5915    AIRPLANE   \n",
              "2019        34612          46914        N114U         3992    AIRPLANE   \n",
              "2020        34615          47138        N209B         3992  HELICOPTER   \n",
              "2026        34638          52967       N6523N         3992    AIRPLANE   \n",
              "\n",
              "           manufacturer        model engine_type  engines_amount  \\\n",
              "749      BEECH AIRCRAFT          100      PISTON             0.0   \n",
              "781      BEECH AIRCRAFT           58      PISTON             0.0   \n",
              "812      PIPER AIRCRAFT        PA-23      PISTON             2.0   \n",
              "877      BEECH AIRCRAFT          A35      PISTON             1.0   \n",
              "991      PIPER AIRCRAFT        PA-42      PISTON             2.0   \n",
              "1084    CESSNA AIRCRAFT          210      PISTON             1.0   \n",
              "1521    CESSNA AIRCRAFT          152      PISTON             1.0   \n",
              "1522     PIPER AIRCRAFT    PA-34-200      PISTON             2.0   \n",
              "1685  EXTRA-FLUGZEUGBAU     EA 300/L     UNKNOWN             1.0   \n",
              "1994            EMBRAER   LEGACY 600         JET             2.0   \n",
              "1998  HAWKER BEECHCRAFT  HAWKER 4000         JET             2.0   \n",
              "2001     BOEING COMPANY      767-322         JET             2.0   \n",
              "2003     BOEING COMPANY      767-3P6         JET             2.0   \n",
              "2005     BEECH AIRCRAFT       95-B55      PISTON             2.0   \n",
              "2008  MCDONNELL DOUGLAS     DC-10-30      PISTON             3.0   \n",
              "2009    CESSNA AIRCRAFT        T210L      PISTON             0.0   \n",
              "2016     BOEING COMPANY      767-328         JET             2.0   \n",
              "2017     BOEING COMPANY      767-322         JET             2.0   \n",
              "2018  MCDONNELL DOUGLAS         MD11         JET             3.0   \n",
              "2019           ROCKWELL          114     UNKNOWN             1.0   \n",
              "2020    BELL HELICOPTER          206  TURBOSHAFT             1.0   \n",
              "2026    CESSNA AIRCRAFT         N210     UNKNOWN             0.0   \n",
              "\n",
              "      takeoff_max_weight (Lbs)  ...  registration_country  \\\n",
              "749                      12943  ...                   USA   \n",
              "781                       5500  ...                   USA   \n",
              "812                       3500  ...                   USA   \n",
              "877                       2649  ...                   USA   \n",
              "991                      11023  ...                   USA   \n",
              "1084                      3798  ...                   USA   \n",
              "1521                      3800  ...                   USA   \n",
              "1522                      4570  ...                   USA   \n",
              "1685                         0  ...                   USA   \n",
              "1994                     49603  ...                   USA   \n",
              "1998                     39242  ...                   USA   \n",
              "2001                    411999  ...                   USA   \n",
              "2003                         0  ...                   USA   \n",
              "2005                      5000  ...                   USA   \n",
              "2008                    571999  ...                   USA   \n",
              "2009                      3800  ...                   USA   \n",
              "2016                    411999  ...                   USA   \n",
              "2017                    350005  ...                   USA   \n",
              "2018                    630499  ...                   USA   \n",
              "2019                      3139  ...                   USA   \n",
              "2020                      3298  ...                   USA   \n",
              "2026                      3800  ...                   USA   \n",
              "\n",
              "      registration_category registration_aviation origin_flight  \\\n",
              "749                     TPP               PRIVATE          ****   \n",
              "781                     TPP               PRIVATE          ****   \n",
              "812                     PRI           INSTRUCTION          ****   \n",
              "877                     TPP               PRIVATE          ****   \n",
              "991                     TPP               PRIVATE          ****   \n",
              "1084                    TPP               PRIVATE          ****   \n",
              "1521                    TPP               PRIVATE          ****   \n",
              "1522                    TPP               PRIVATE          ****   \n",
              "1685                    PEX          EXPERIMENTAL          ****   \n",
              "1994                    TPP               PRIVATE          SBSJ   \n",
              "1998                    TPP               PRIVATE          ****   \n",
              "2001                    EXT               UNKNOWN          ****   \n",
              "2003                    EXT               UNKNOWN          ****   \n",
              "2005                    EXT               UNKNOWN          ****   \n",
              "2008                    ***               UNKNOWN          ****   \n",
              "2009                    EXT               UNKNOWN          ****   \n",
              "2016                    ***               UNKNOWN          ****   \n",
              "2017                    ***               UNKNOWN          ****   \n",
              "2018                    EXT               UNKNOWN          KMIA   \n",
              "2019                    TPP               PRIVATE          SBBV   \n",
              "2020                    TPP               PRIVATE          ****   \n",
              "2026                    TPP               PRIVATE          SBEG   \n",
              "\n",
              "     destination_flight    operation_phase type_operation damage_level  \\\n",
              "749                ****            TAKEOFF        UNKNOWN    DESTROYED   \n",
              "781                ****             CRUISE        UNKNOWN    DESTROYED   \n",
              "812                ****    TRAFFIC CIRCUIT    INSTRUCTION  SUBSTANTIAL   \n",
              "877                ****    TRAFFIC CIRCUIT        UNKNOWN  SUBSTANTIAL   \n",
              "991                ****  RUN AFTER LANDING        UNKNOWN  SUBSTANTIAL   \n",
              "1084               ****             CRUISE        PRIVATE  SUBSTANTIAL   \n",
              "1521               ****            TAKEOFF        PRIVATE        LIGHT   \n",
              "1522               ****  RUN AFTER LANDING        PRIVATE  SUBSTANTIAL   \n",
              "1685               ****           MANEUVER   EXPERIMENTAL    DESTROYED   \n",
              "1994               SBEG             CRUISE        PRIVATE  SUBSTANTIAL   \n",
              "1998               ****       ENGINE START        PRIVATE        LIGHT   \n",
              "2001               ****          ASCENSION        UNKNOWN         NONE   \n",
              "2003               ****            UNKNOWN        UNKNOWN      UNKNOWN   \n",
              "2005               ****            TAKEOFF        UNKNOWN         NONE   \n",
              "2008               ****          ASCENSION        UNKNOWN  SUBSTANTIAL   \n",
              "2009               ****            PARKING        UNKNOWN  SUBSTANTIAL   \n",
              "2016               ****          ASCENSION        UNKNOWN        LIGHT   \n",
              "2017               ****            TAKEOFF        UNKNOWN  SUBSTANTIAL   \n",
              "2018               SBKP            LANDING    NOT REGULAR  SUBSTANTIAL   \n",
              "2019               SWFN            LANDING        PRIVATE  SUBSTANTIAL   \n",
              "2020               ****            LANDING        UNKNOWN  SUBSTANTIAL   \n",
              "2026               SWSI            LANDING        PRIVATE  SUBSTANTIAL   \n",
              "\n",
              "     fatalities_amount extraction_day  \n",
              "749                1.0     2016-07-30  \n",
              "781                4.0     2016-07-30  \n",
              "812                0.0     2016-07-30  \n",
              "877                0.0     2016-07-30  \n",
              "991                0.0     2016-07-30  \n",
              "1084               0.0     2016-07-30  \n",
              "1521               0.0     2016-07-30  \n",
              "1522               0.0     2016-07-30  \n",
              "1685               1.0     2016-07-30  \n",
              "1994               0.0     2016-07-30  \n",
              "1998               0.0     2016-07-30  \n",
              "2001               0.0     2016-07-30  \n",
              "2003               0.0     2016-07-30  \n",
              "2005               0.0     2016-07-30  \n",
              "2008               0.0     2016-07-30  \n",
              "2009               0.0     2016-07-30  \n",
              "2016               0.0     2016-07-30  \n",
              "2017               0.0     2016-07-30  \n",
              "2018               0.0     2016-07-30  \n",
              "2019               0.0     2016-07-30  \n",
              "2020               0.0     2016-07-30  \n",
              "2026               0.0     2016-07-30  \n",
              "\n",
              "[22 rows x 22 columns]"
            ],
            "text/html": [
              "\n",
              "  <div id=\"df-3e06dc41-aae4-4b25-a548-2ea7d40a06bc\">\n",
              "    <div class=\"colab-df-container\">\n",
              "      <div>\n",
              "<style scoped>\n",
              "    .dataframe tbody tr th:only-of-type {\n",
              "        vertical-align: middle;\n",
              "    }\n",
              "\n",
              "    .dataframe tbody tr th {\n",
              "        vertical-align: top;\n",
              "    }\n",
              "\n",
              "    .dataframe thead th {\n",
              "        text-align: right;\n",
              "    }\n",
              "</style>\n",
              "<table border=\"1\" class=\"dataframe\">\n",
              "  <thead>\n",
              "    <tr style=\"text-align: right;\">\n",
              "      <th></th>\n",
              "      <th>aircraft_id</th>\n",
              "      <th>occurrence_id</th>\n",
              "      <th>registration</th>\n",
              "      <th>operator_id</th>\n",
              "      <th>equipment</th>\n",
              "      <th>manufacturer</th>\n",
              "      <th>model</th>\n",
              "      <th>engine_type</th>\n",
              "      <th>engines_amount</th>\n",
              "      <th>takeoff_max_weight (Lbs)</th>\n",
              "      <th>...</th>\n",
              "      <th>registration_country</th>\n",
              "      <th>registration_category</th>\n",
              "      <th>registration_aviation</th>\n",
              "      <th>origin_flight</th>\n",
              "      <th>destination_flight</th>\n",
              "      <th>operation_phase</th>\n",
              "      <th>type_operation</th>\n",
              "      <th>damage_level</th>\n",
              "      <th>fatalities_amount</th>\n",
              "      <th>extraction_day</th>\n",
              "    </tr>\n",
              "  </thead>\n",
              "  <tbody>\n",
              "    <tr>\n",
              "      <th>749</th>\n",
              "      <td>9605</td>\n",
              "      <td>34016</td>\n",
              "      <td>N525ZS</td>\n",
              "      <td>3992</td>\n",
              "      <td>AIRPLANE</td>\n",
              "      <td>BEECH AIRCRAFT</td>\n",
              "      <td>100</td>\n",
              "      <td>PISTON</td>\n",
              "      <td>0.0</td>\n",
              "      <td>12943</td>\n",
              "      <td>...</td>\n",
              "      <td>USA</td>\n",
              "      <td>TPP</td>\n",
              "      <td>PRIVATE</td>\n",
              "      <td>****</td>\n",
              "      <td>****</td>\n",
              "      <td>TAKEOFF</td>\n",
              "      <td>UNKNOWN</td>\n",
              "      <td>DESTROYED</td>\n",
              "      <td>1.0</td>\n",
              "      <td>2016-07-30</td>\n",
              "    </tr>\n",
              "    <tr>\n",
              "      <th>781</th>\n",
              "      <td>9673</td>\n",
              "      <td>34555</td>\n",
              "      <td>N400SA</td>\n",
              "      <td>3992</td>\n",
              "      <td>AIRPLANE</td>\n",
              "      <td>BEECH AIRCRAFT</td>\n",
              "      <td>58</td>\n",
              "      <td>PISTON</td>\n",
              "      <td>0.0</td>\n",
              "      <td>5500</td>\n",
              "      <td>...</td>\n",
              "      <td>USA</td>\n",
              "      <td>TPP</td>\n",
              "      <td>PRIVATE</td>\n",
              "      <td>****</td>\n",
              "      <td>****</td>\n",
              "      <td>CRUISE</td>\n",
              "      <td>UNKNOWN</td>\n",
              "      <td>DESTROYED</td>\n",
              "      <td>4.0</td>\n",
              "      <td>2016-07-30</td>\n",
              "    </tr>\n",
              "    <tr>\n",
              "      <th>812</th>\n",
              "      <td>9768</td>\n",
              "      <td>35256</td>\n",
              "      <td>N2176P</td>\n",
              "      <td>5582</td>\n",
              "      <td>AIRPLANE</td>\n",
              "      <td>PIPER AIRCRAFT</td>\n",
              "      <td>PA-23</td>\n",
              "      <td>PISTON</td>\n",
              "      <td>2.0</td>\n",
              "      <td>3500</td>\n",
              "      <td>...</td>\n",
              "      <td>USA</td>\n",
              "      <td>PRI</td>\n",
              "      <td>INSTRUCTION</td>\n",
              "      <td>****</td>\n",
              "      <td>****</td>\n",
              "      <td>TRAFFIC CIRCUIT</td>\n",
              "      <td>INSTRUCTION</td>\n",
              "      <td>SUBSTANTIAL</td>\n",
              "      <td>0.0</td>\n",
              "      <td>2016-07-30</td>\n",
              "    </tr>\n",
              "    <tr>\n",
              "      <th>877</th>\n",
              "      <td>10377</td>\n",
              "      <td>38279</td>\n",
              "      <td>N8540A</td>\n",
              "      <td>3992</td>\n",
              "      <td>AIRPLANE</td>\n",
              "      <td>BEECH AIRCRAFT</td>\n",
              "      <td>A35</td>\n",
              "      <td>PISTON</td>\n",
              "      <td>1.0</td>\n",
              "      <td>2649</td>\n",
              "      <td>...</td>\n",
              "      <td>USA</td>\n",
              "      <td>TPP</td>\n",
              "      <td>PRIVATE</td>\n",
              "      <td>****</td>\n",
              "      <td>****</td>\n",
              "      <td>TRAFFIC CIRCUIT</td>\n",
              "      <td>UNKNOWN</td>\n",
              "      <td>SUBSTANTIAL</td>\n",
              "      <td>0.0</td>\n",
              "      <td>2016-07-30</td>\n",
              "    </tr>\n",
              "    <tr>\n",
              "      <th>991</th>\n",
              "      <td>10984</td>\n",
              "      <td>41155</td>\n",
              "      <td>N313PC</td>\n",
              "      <td>3992</td>\n",
              "      <td>AIRPLANE</td>\n",
              "      <td>PIPER AIRCRAFT</td>\n",
              "      <td>PA-42</td>\n",
              "      <td>PISTON</td>\n",
              "      <td>2.0</td>\n",
              "      <td>11023</td>\n",
              "      <td>...</td>\n",
              "      <td>USA</td>\n",
              "      <td>TPP</td>\n",
              "      <td>PRIVATE</td>\n",
              "      <td>****</td>\n",
              "      <td>****</td>\n",
              "      <td>RUN AFTER LANDING</td>\n",
              "      <td>UNKNOWN</td>\n",
              "      <td>SUBSTANTIAL</td>\n",
              "      <td>0.0</td>\n",
              "      <td>2016-07-30</td>\n",
              "    </tr>\n",
              "    <tr>\n",
              "      <th>1084</th>\n",
              "      <td>11621</td>\n",
              "      <td>43403</td>\n",
              "      <td>N29507</td>\n",
              "      <td>3992</td>\n",
              "      <td>AIRPLANE</td>\n",
              "      <td>CESSNA AIRCRAFT</td>\n",
              "      <td>210</td>\n",
              "      <td>PISTON</td>\n",
              "      <td>1.0</td>\n",
              "      <td>3798</td>\n",
              "      <td>...</td>\n",
              "      <td>USA</td>\n",
              "      <td>TPP</td>\n",
              "      <td>PRIVATE</td>\n",
              "      <td>****</td>\n",
              "      <td>****</td>\n",
              "      <td>CRUISE</td>\n",
              "      <td>PRIVATE</td>\n",
              "      <td>SUBSTANTIAL</td>\n",
              "      <td>0.0</td>\n",
              "      <td>2016-07-30</td>\n",
              "    </tr>\n",
              "    <tr>\n",
              "      <th>1521</th>\n",
              "      <td>13573</td>\n",
              "      <td>46900</td>\n",
              "      <td>N25283</td>\n",
              "      <td>3992</td>\n",
              "      <td>AIRPLANE</td>\n",
              "      <td>CESSNA AIRCRAFT</td>\n",
              "      <td>152</td>\n",
              "      <td>PISTON</td>\n",
              "      <td>1.0</td>\n",
              "      <td>3800</td>\n",
              "      <td>...</td>\n",
              "      <td>USA</td>\n",
              "      <td>TPP</td>\n",
              "      <td>PRIVATE</td>\n",
              "      <td>****</td>\n",
              "      <td>****</td>\n",
              "      <td>TAKEOFF</td>\n",
              "      <td>PRIVATE</td>\n",
              "      <td>LIGHT</td>\n",
              "      <td>0.0</td>\n",
              "      <td>2016-07-30</td>\n",
              "    </tr>\n",
              "    <tr>\n",
              "      <th>1522</th>\n",
              "      <td>13574</td>\n",
              "      <td>46901</td>\n",
              "      <td>N4489T</td>\n",
              "      <td>3992</td>\n",
              "      <td>AIRPLANE</td>\n",
              "      <td>PIPER AIRCRAFT</td>\n",
              "      <td>PA-34-200</td>\n",
              "      <td>PISTON</td>\n",
              "      <td>2.0</td>\n",
              "      <td>4570</td>\n",
              "      <td>...</td>\n",
              "      <td>USA</td>\n",
              "      <td>TPP</td>\n",
              "      <td>PRIVATE</td>\n",
              "      <td>****</td>\n",
              "      <td>****</td>\n",
              "      <td>RUN AFTER LANDING</td>\n",
              "      <td>PRIVATE</td>\n",
              "      <td>SUBSTANTIAL</td>\n",
              "      <td>0.0</td>\n",
              "      <td>2016-07-30</td>\n",
              "    </tr>\n",
              "    <tr>\n",
              "      <th>1685</th>\n",
              "      <td>15086</td>\n",
              "      <td>50348</td>\n",
              "      <td>N53EX</td>\n",
              "      <td>3992</td>\n",
              "      <td>AIRPLANE</td>\n",
              "      <td>EXTRA-FLUGZEUGBAU</td>\n",
              "      <td>EA 300/L</td>\n",
              "      <td>UNKNOWN</td>\n",
              "      <td>1.0</td>\n",
              "      <td>0</td>\n",
              "      <td>...</td>\n",
              "      <td>USA</td>\n",
              "      <td>PEX</td>\n",
              "      <td>EXPERIMENTAL</td>\n",
              "      <td>****</td>\n",
              "      <td>****</td>\n",
              "      <td>MANEUVER</td>\n",
              "      <td>EXPERIMENTAL</td>\n",
              "      <td>DESTROYED</td>\n",
              "      <td>1.0</td>\n",
              "      <td>2016-07-30</td>\n",
              "    </tr>\n",
              "    <tr>\n",
              "      <th>1994</th>\n",
              "      <td>34210</td>\n",
              "      <td>30375</td>\n",
              "      <td>N600XL</td>\n",
              "      <td>3992</td>\n",
              "      <td>AIRPLANE</td>\n",
              "      <td>EMBRAER</td>\n",
              "      <td>LEGACY 600</td>\n",
              "      <td>JET</td>\n",
              "      <td>2.0</td>\n",
              "      <td>49603</td>\n",
              "      <td>...</td>\n",
              "      <td>USA</td>\n",
              "      <td>TPP</td>\n",
              "      <td>PRIVATE</td>\n",
              "      <td>SBSJ</td>\n",
              "      <td>SBEG</td>\n",
              "      <td>CRUISE</td>\n",
              "      <td>PRIVATE</td>\n",
              "      <td>SUBSTANTIAL</td>\n",
              "      <td>0.0</td>\n",
              "      <td>2016-07-30</td>\n",
              "    </tr>\n",
              "    <tr>\n",
              "      <th>1998</th>\n",
              "      <td>34248</td>\n",
              "      <td>38419</td>\n",
              "      <td>N413HB</td>\n",
              "      <td>3992</td>\n",
              "      <td>AIRPLANE</td>\n",
              "      <td>HAWKER BEECHCRAFT</td>\n",
              "      <td>HAWKER 4000</td>\n",
              "      <td>JET</td>\n",
              "      <td>2.0</td>\n",
              "      <td>39242</td>\n",
              "      <td>...</td>\n",
              "      <td>USA</td>\n",
              "      <td>TPP</td>\n",
              "      <td>PRIVATE</td>\n",
              "      <td>****</td>\n",
              "      <td>****</td>\n",
              "      <td>ENGINE START</td>\n",
              "      <td>PRIVATE</td>\n",
              "      <td>LIGHT</td>\n",
              "      <td>0.0</td>\n",
              "      <td>2016-07-30</td>\n",
              "    </tr>\n",
              "    <tr>\n",
              "      <th>2001</th>\n",
              "      <td>34491</td>\n",
              "      <td>36576</td>\n",
              "      <td>N663UA</td>\n",
              "      <td>5049</td>\n",
              "      <td>AIRPLANE</td>\n",
              "      <td>BOEING COMPANY</td>\n",
              "      <td>767-322</td>\n",
              "      <td>JET</td>\n",
              "      <td>2.0</td>\n",
              "      <td>411999</td>\n",
              "      <td>...</td>\n",
              "      <td>USA</td>\n",
              "      <td>EXT</td>\n",
              "      <td>UNKNOWN</td>\n",
              "      <td>****</td>\n",
              "      <td>****</td>\n",
              "      <td>ASCENSION</td>\n",
              "      <td>UNKNOWN</td>\n",
              "      <td>NONE</td>\n",
              "      <td>0.0</td>\n",
              "      <td>2016-07-30</td>\n",
              "    </tr>\n",
              "    <tr>\n",
              "      <th>2003</th>\n",
              "      <td>34546</td>\n",
              "      <td>27729</td>\n",
              "      <td>N153DL</td>\n",
              "      <td>1634</td>\n",
              "      <td>AIRPLANE</td>\n",
              "      <td>BOEING COMPANY</td>\n",
              "      <td>767-3P6</td>\n",
              "      <td>JET</td>\n",
              "      <td>2.0</td>\n",
              "      <td>0</td>\n",
              "      <td>...</td>\n",
              "      <td>USA</td>\n",
              "      <td>EXT</td>\n",
              "      <td>UNKNOWN</td>\n",
              "      <td>****</td>\n",
              "      <td>****</td>\n",
              "      <td>UNKNOWN</td>\n",
              "      <td>UNKNOWN</td>\n",
              "      <td>UNKNOWN</td>\n",
              "      <td>0.0</td>\n",
              "      <td>2016-07-30</td>\n",
              "    </tr>\n",
              "    <tr>\n",
              "      <th>2005</th>\n",
              "      <td>34555</td>\n",
              "      <td>34296</td>\n",
              "      <td>N2098L</td>\n",
              "      <td>1821</td>\n",
              "      <td>AIRPLANE</td>\n",
              "      <td>BEECH AIRCRAFT</td>\n",
              "      <td>95-B55</td>\n",
              "      <td>PISTON</td>\n",
              "      <td>2.0</td>\n",
              "      <td>5000</td>\n",
              "      <td>...</td>\n",
              "      <td>USA</td>\n",
              "      <td>EXT</td>\n",
              "      <td>UNKNOWN</td>\n",
              "      <td>****</td>\n",
              "      <td>****</td>\n",
              "      <td>TAKEOFF</td>\n",
              "      <td>UNKNOWN</td>\n",
              "      <td>NONE</td>\n",
              "      <td>0.0</td>\n",
              "      <td>2016-07-30</td>\n",
              "    </tr>\n",
              "    <tr>\n",
              "      <th>2008</th>\n",
              "      <td>34562</td>\n",
              "      <td>36116</td>\n",
              "      <td>N526MD</td>\n",
              "      <td>5363</td>\n",
              "      <td>AIRPLANE</td>\n",
              "      <td>MCDONNELL DOUGLAS</td>\n",
              "      <td>DC-10-30</td>\n",
              "      <td>PISTON</td>\n",
              "      <td>3.0</td>\n",
              "      <td>571999</td>\n",
              "      <td>...</td>\n",
              "      <td>USA</td>\n",
              "      <td>***</td>\n",
              "      <td>UNKNOWN</td>\n",
              "      <td>****</td>\n",
              "      <td>****</td>\n",
              "      <td>ASCENSION</td>\n",
              "      <td>UNKNOWN</td>\n",
              "      <td>SUBSTANTIAL</td>\n",
              "      <td>0.0</td>\n",
              "      <td>2016-07-30</td>\n",
              "    </tr>\n",
              "    <tr>\n",
              "      <th>2009</th>\n",
              "      <td>34567</td>\n",
              "      <td>38843</td>\n",
              "      <td>N2015S</td>\n",
              "      <td>3992</td>\n",
              "      <td>AIRPLANE</td>\n",
              "      <td>CESSNA AIRCRAFT</td>\n",
              "      <td>T210L</td>\n",
              "      <td>PISTON</td>\n",
              "      <td>0.0</td>\n",
              "      <td>3800</td>\n",
              "      <td>...</td>\n",
              "      <td>USA</td>\n",
              "      <td>EXT</td>\n",
              "      <td>UNKNOWN</td>\n",
              "      <td>****</td>\n",
              "      <td>****</td>\n",
              "      <td>PARKING</td>\n",
              "      <td>UNKNOWN</td>\n",
              "      <td>SUBSTANTIAL</td>\n",
              "      <td>0.0</td>\n",
              "      <td>2016-07-30</td>\n",
              "    </tr>\n",
              "    <tr>\n",
              "      <th>2016</th>\n",
              "      <td>34598</td>\n",
              "      <td>46073</td>\n",
              "      <td>N342AN</td>\n",
              "      <td>630</td>\n",
              "      <td>AIRPLANE</td>\n",
              "      <td>BOEING COMPANY</td>\n",
              "      <td>767-328</td>\n",
              "      <td>JET</td>\n",
              "      <td>2.0</td>\n",
              "      <td>411999</td>\n",
              "      <td>...</td>\n",
              "      <td>USA</td>\n",
              "      <td>***</td>\n",
              "      <td>UNKNOWN</td>\n",
              "      <td>****</td>\n",
              "      <td>****</td>\n",
              "      <td>ASCENSION</td>\n",
              "      <td>UNKNOWN</td>\n",
              "      <td>LIGHT</td>\n",
              "      <td>0.0</td>\n",
              "      <td>2016-07-30</td>\n",
              "    </tr>\n",
              "    <tr>\n",
              "      <th>2017</th>\n",
              "      <td>34602</td>\n",
              "      <td>46307</td>\n",
              "      <td>N173DZ</td>\n",
              "      <td>1634</td>\n",
              "      <td>AIRPLANE</td>\n",
              "      <td>BOEING COMPANY</td>\n",
              "      <td>767-322</td>\n",
              "      <td>JET</td>\n",
              "      <td>2.0</td>\n",
              "      <td>350005</td>\n",
              "      <td>...</td>\n",
              "      <td>USA</td>\n",
              "      <td>***</td>\n",
              "      <td>UNKNOWN</td>\n",
              "      <td>****</td>\n",
              "      <td>****</td>\n",
              "      <td>TAKEOFF</td>\n",
              "      <td>UNKNOWN</td>\n",
              "      <td>SUBSTANTIAL</td>\n",
              "      <td>0.0</td>\n",
              "      <td>2016-07-30</td>\n",
              "    </tr>\n",
              "    <tr>\n",
              "      <th>2018</th>\n",
              "      <td>34604</td>\n",
              "      <td>46431</td>\n",
              "      <td>N988AR</td>\n",
              "      <td>5915</td>\n",
              "      <td>AIRPLANE</td>\n",
              "      <td>MCDONNELL DOUGLAS</td>\n",
              "      <td>MD11</td>\n",
              "      <td>JET</td>\n",
              "      <td>3.0</td>\n",
              "      <td>630499</td>\n",
              "      <td>...</td>\n",
              "      <td>USA</td>\n",
              "      <td>EXT</td>\n",
              "      <td>UNKNOWN</td>\n",
              "      <td>KMIA</td>\n",
              "      <td>SBKP</td>\n",
              "      <td>LANDING</td>\n",
              "      <td>NOT REGULAR</td>\n",
              "      <td>SUBSTANTIAL</td>\n",
              "      <td>0.0</td>\n",
              "      <td>2016-07-30</td>\n",
              "    </tr>\n",
              "    <tr>\n",
              "      <th>2019</th>\n",
              "      <td>34612</td>\n",
              "      <td>46914</td>\n",
              "      <td>N114U</td>\n",
              "      <td>3992</td>\n",
              "      <td>AIRPLANE</td>\n",
              "      <td>ROCKWELL</td>\n",
              "      <td>114</td>\n",
              "      <td>UNKNOWN</td>\n",
              "      <td>1.0</td>\n",
              "      <td>3139</td>\n",
              "      <td>...</td>\n",
              "      <td>USA</td>\n",
              "      <td>TPP</td>\n",
              "      <td>PRIVATE</td>\n",
              "      <td>SBBV</td>\n",
              "      <td>SWFN</td>\n",
              "      <td>LANDING</td>\n",
              "      <td>PRIVATE</td>\n",
              "      <td>SUBSTANTIAL</td>\n",
              "      <td>0.0</td>\n",
              "      <td>2016-07-30</td>\n",
              "    </tr>\n",
              "    <tr>\n",
              "      <th>2020</th>\n",
              "      <td>34615</td>\n",
              "      <td>47138</td>\n",
              "      <td>N209B</td>\n",
              "      <td>3992</td>\n",
              "      <td>HELICOPTER</td>\n",
              "      <td>BELL HELICOPTER</td>\n",
              "      <td>206</td>\n",
              "      <td>TURBOSHAFT</td>\n",
              "      <td>1.0</td>\n",
              "      <td>3298</td>\n",
              "      <td>...</td>\n",
              "      <td>USA</td>\n",
              "      <td>TPP</td>\n",
              "      <td>PRIVATE</td>\n",
              "      <td>****</td>\n",
              "      <td>****</td>\n",
              "      <td>LANDING</td>\n",
              "      <td>UNKNOWN</td>\n",
              "      <td>SUBSTANTIAL</td>\n",
              "      <td>0.0</td>\n",
              "      <td>2016-07-30</td>\n",
              "    </tr>\n",
              "    <tr>\n",
              "      <th>2026</th>\n",
              "      <td>34638</td>\n",
              "      <td>52967</td>\n",
              "      <td>N6523N</td>\n",
              "      <td>3992</td>\n",
              "      <td>AIRPLANE</td>\n",
              "      <td>CESSNA AIRCRAFT</td>\n",
              "      <td>N210</td>\n",
              "      <td>UNKNOWN</td>\n",
              "      <td>0.0</td>\n",
              "      <td>3800</td>\n",
              "      <td>...</td>\n",
              "      <td>USA</td>\n",
              "      <td>TPP</td>\n",
              "      <td>PRIVATE</td>\n",
              "      <td>SBEG</td>\n",
              "      <td>SWSI</td>\n",
              "      <td>LANDING</td>\n",
              "      <td>PRIVATE</td>\n",
              "      <td>SUBSTANTIAL</td>\n",
              "      <td>0.0</td>\n",
              "      <td>2016-07-30</td>\n",
              "    </tr>\n",
              "  </tbody>\n",
              "</table>\n",
              "<p>22 rows × 22 columns</p>\n",
              "</div>\n",
              "      <button class=\"colab-df-convert\" onclick=\"convertToInteractive('df-3e06dc41-aae4-4b25-a548-2ea7d40a06bc')\"\n",
              "              title=\"Convert this dataframe to an interactive table.\"\n",
              "              style=\"display:none;\">\n",
              "        \n",
              "  <svg xmlns=\"http://www.w3.org/2000/svg\" height=\"24px\"viewBox=\"0 0 24 24\"\n",
              "       width=\"24px\">\n",
              "    <path d=\"M0 0h24v24H0V0z\" fill=\"none\"/>\n",
              "    <path d=\"M18.56 5.44l.94 2.06.94-2.06 2.06-.94-2.06-.94-.94-2.06-.94 2.06-2.06.94zm-11 1L8.5 8.5l.94-2.06 2.06-.94-2.06-.94L8.5 2.5l-.94 2.06-2.06.94zm10 10l.94 2.06.94-2.06 2.06-.94-2.06-.94-.94-2.06-.94 2.06-2.06.94z\"/><path d=\"M17.41 7.96l-1.37-1.37c-.4-.4-.92-.59-1.43-.59-.52 0-1.04.2-1.43.59L10.3 9.45l-7.72 7.72c-.78.78-.78 2.05 0 2.83L4 21.41c.39.39.9.59 1.41.59.51 0 1.02-.2 1.41-.59l7.78-7.78 2.81-2.81c.8-.78.8-2.07 0-2.86zM5.41 20L4 18.59l7.72-7.72 1.47 1.35L5.41 20z\"/>\n",
              "  </svg>\n",
              "      </button>\n",
              "      \n",
              "  <style>\n",
              "    .colab-df-container {\n",
              "      display:flex;\n",
              "      flex-wrap:wrap;\n",
              "      gap: 12px;\n",
              "    }\n",
              "\n",
              "    .colab-df-convert {\n",
              "      background-color: #E8F0FE;\n",
              "      border: none;\n",
              "      border-radius: 50%;\n",
              "      cursor: pointer;\n",
              "      display: none;\n",
              "      fill: #1967D2;\n",
              "      height: 32px;\n",
              "      padding: 0 0 0 0;\n",
              "      width: 32px;\n",
              "    }\n",
              "\n",
              "    .colab-df-convert:hover {\n",
              "      background-color: #E2EBFA;\n",
              "      box-shadow: 0px 1px 2px rgba(60, 64, 67, 0.3), 0px 1px 3px 1px rgba(60, 64, 67, 0.15);\n",
              "      fill: #174EA6;\n",
              "    }\n",
              "\n",
              "    [theme=dark] .colab-df-convert {\n",
              "      background-color: #3B4455;\n",
              "      fill: #D2E3FC;\n",
              "    }\n",
              "\n",
              "    [theme=dark] .colab-df-convert:hover {\n",
              "      background-color: #434B5C;\n",
              "      box-shadow: 0px 1px 3px 1px rgba(0, 0, 0, 0.15);\n",
              "      filter: drop-shadow(0px 1px 2px rgba(0, 0, 0, 0.3));\n",
              "      fill: #FFFFFF;\n",
              "    }\n",
              "  </style>\n",
              "\n",
              "      <script>\n",
              "        const buttonEl =\n",
              "          document.querySelector('#df-3e06dc41-aae4-4b25-a548-2ea7d40a06bc button.colab-df-convert');\n",
              "        buttonEl.style.display =\n",
              "          google.colab.kernel.accessAllowed ? 'block' : 'none';\n",
              "\n",
              "        async function convertToInteractive(key) {\n",
              "          const element = document.querySelector('#df-3e06dc41-aae4-4b25-a548-2ea7d40a06bc');\n",
              "          const dataTable =\n",
              "            await google.colab.kernel.invokeFunction('convertToInteractive',\n",
              "                                                     [key], {});\n",
              "          if (!dataTable) return;\n",
              "\n",
              "          const docLinkHtml = 'Like what you see? Visit the ' +\n",
              "            '<a target=\"_blank\" href=https://colab.research.google.com/notebooks/data_table.ipynb>data table notebook</a>'\n",
              "            + ' to learn more about interactive tables.';\n",
              "          element.innerHTML = '';\n",
              "          dataTable['output_type'] = 'display_data';\n",
              "          await google.colab.output.renderOutput(dataTable, element);\n",
              "          const docLink = document.createElement('div');\n",
              "          docLink.innerHTML = docLinkHtml;\n",
              "          element.appendChild(docLink);\n",
              "        }\n",
              "      </script>\n",
              "    </div>\n",
              "  </div>\n",
              "  "
            ]
          },
          "metadata": {},
          "execution_count": 63
        }
      ]
    },
    {
      "cell_type": "code",
      "source": [
        "df.head(2)"
      ],
      "metadata": {
        "colab": {
          "base_uri": "https://localhost:8080/",
          "height": 292
        },
        "id": "hzZAQiq0yV81",
        "outputId": "72e4d1bb-5bbc-48a4-e9f4-016155e12924"
      },
      "execution_count": 64,
      "outputs": [
        {
          "output_type": "execute_result",
          "data": {
            "text/plain": [
              "   aircraft_id  occurrence_id registration  operator_id equipment  \\\n",
              "0            4          45602        PPGXE          241  AIRPLANE   \n",
              "1           40          53551        PPGSZ          160  AIRPLANE   \n",
              "\n",
              "                  manufacturer model engine_type  engines_amount  \\\n",
              "0  NEIVA INDUSTRIA AERONAUTICA  56-C      PISTON             1.0   \n",
              "1  NEIVA INDUSTRIA AERONAUTICA  56-C      PISTON             1.0   \n",
              "\n",
              "   takeoff_max_weight (Lbs)  ...  registration_country  registration_category  \\\n",
              "0                      1455  ...                BRAZIL                    PRI   \n",
              "1                      1455  ...                BRAZIL                    PRI   \n",
              "\n",
              "  registration_aviation origin_flight destination_flight operation_phase  \\\n",
              "0           INSTRUCTION          SDPW               SDPW         UNKNOWN   \n",
              "1           INSTRUCTION          SBBP               SBBP         TAKEOFF   \n",
              "\n",
              "  type_operation damage_level fatalities_amount extraction_day  \n",
              "0    INSTRUCTION  SUBSTANTIAL               0.0     2016-07-30  \n",
              "1    INSTRUCTION        LIGHT               0.0     2016-07-30  \n",
              "\n",
              "[2 rows x 22 columns]"
            ],
            "text/html": [
              "\n",
              "  <div id=\"df-bc42e8d9-d226-46f7-9cec-2ba243b8a6fd\">\n",
              "    <div class=\"colab-df-container\">\n",
              "      <div>\n",
              "<style scoped>\n",
              "    .dataframe tbody tr th:only-of-type {\n",
              "        vertical-align: middle;\n",
              "    }\n",
              "\n",
              "    .dataframe tbody tr th {\n",
              "        vertical-align: top;\n",
              "    }\n",
              "\n",
              "    .dataframe thead th {\n",
              "        text-align: right;\n",
              "    }\n",
              "</style>\n",
              "<table border=\"1\" class=\"dataframe\">\n",
              "  <thead>\n",
              "    <tr style=\"text-align: right;\">\n",
              "      <th></th>\n",
              "      <th>aircraft_id</th>\n",
              "      <th>occurrence_id</th>\n",
              "      <th>registration</th>\n",
              "      <th>operator_id</th>\n",
              "      <th>equipment</th>\n",
              "      <th>manufacturer</th>\n",
              "      <th>model</th>\n",
              "      <th>engine_type</th>\n",
              "      <th>engines_amount</th>\n",
              "      <th>takeoff_max_weight (Lbs)</th>\n",
              "      <th>...</th>\n",
              "      <th>registration_country</th>\n",
              "      <th>registration_category</th>\n",
              "      <th>registration_aviation</th>\n",
              "      <th>origin_flight</th>\n",
              "      <th>destination_flight</th>\n",
              "      <th>operation_phase</th>\n",
              "      <th>type_operation</th>\n",
              "      <th>damage_level</th>\n",
              "      <th>fatalities_amount</th>\n",
              "      <th>extraction_day</th>\n",
              "    </tr>\n",
              "  </thead>\n",
              "  <tbody>\n",
              "    <tr>\n",
              "      <th>0</th>\n",
              "      <td>4</td>\n",
              "      <td>45602</td>\n",
              "      <td>PPGXE</td>\n",
              "      <td>241</td>\n",
              "      <td>AIRPLANE</td>\n",
              "      <td>NEIVA INDUSTRIA AERONAUTICA</td>\n",
              "      <td>56-C</td>\n",
              "      <td>PISTON</td>\n",
              "      <td>1.0</td>\n",
              "      <td>1455</td>\n",
              "      <td>...</td>\n",
              "      <td>BRAZIL</td>\n",
              "      <td>PRI</td>\n",
              "      <td>INSTRUCTION</td>\n",
              "      <td>SDPW</td>\n",
              "      <td>SDPW</td>\n",
              "      <td>UNKNOWN</td>\n",
              "      <td>INSTRUCTION</td>\n",
              "      <td>SUBSTANTIAL</td>\n",
              "      <td>0.0</td>\n",
              "      <td>2016-07-30</td>\n",
              "    </tr>\n",
              "    <tr>\n",
              "      <th>1</th>\n",
              "      <td>40</td>\n",
              "      <td>53551</td>\n",
              "      <td>PPGSZ</td>\n",
              "      <td>160</td>\n",
              "      <td>AIRPLANE</td>\n",
              "      <td>NEIVA INDUSTRIA AERONAUTICA</td>\n",
              "      <td>56-C</td>\n",
              "      <td>PISTON</td>\n",
              "      <td>1.0</td>\n",
              "      <td>1455</td>\n",
              "      <td>...</td>\n",
              "      <td>BRAZIL</td>\n",
              "      <td>PRI</td>\n",
              "      <td>INSTRUCTION</td>\n",
              "      <td>SBBP</td>\n",
              "      <td>SBBP</td>\n",
              "      <td>TAKEOFF</td>\n",
              "      <td>INSTRUCTION</td>\n",
              "      <td>LIGHT</td>\n",
              "      <td>0.0</td>\n",
              "      <td>2016-07-30</td>\n",
              "    </tr>\n",
              "  </tbody>\n",
              "</table>\n",
              "<p>2 rows × 22 columns</p>\n",
              "</div>\n",
              "      <button class=\"colab-df-convert\" onclick=\"convertToInteractive('df-bc42e8d9-d226-46f7-9cec-2ba243b8a6fd')\"\n",
              "              title=\"Convert this dataframe to an interactive table.\"\n",
              "              style=\"display:none;\">\n",
              "        \n",
              "  <svg xmlns=\"http://www.w3.org/2000/svg\" height=\"24px\"viewBox=\"0 0 24 24\"\n",
              "       width=\"24px\">\n",
              "    <path d=\"M0 0h24v24H0V0z\" fill=\"none\"/>\n",
              "    <path d=\"M18.56 5.44l.94 2.06.94-2.06 2.06-.94-2.06-.94-.94-2.06-.94 2.06-2.06.94zm-11 1L8.5 8.5l.94-2.06 2.06-.94-2.06-.94L8.5 2.5l-.94 2.06-2.06.94zm10 10l.94 2.06.94-2.06 2.06-.94-2.06-.94-.94-2.06-.94 2.06-2.06.94z\"/><path d=\"M17.41 7.96l-1.37-1.37c-.4-.4-.92-.59-1.43-.59-.52 0-1.04.2-1.43.59L10.3 9.45l-7.72 7.72c-.78.78-.78 2.05 0 2.83L4 21.41c.39.39.9.59 1.41.59.51 0 1.02-.2 1.41-.59l7.78-7.78 2.81-2.81c.8-.78.8-2.07 0-2.86zM5.41 20L4 18.59l7.72-7.72 1.47 1.35L5.41 20z\"/>\n",
              "  </svg>\n",
              "      </button>\n",
              "      \n",
              "  <style>\n",
              "    .colab-df-container {\n",
              "      display:flex;\n",
              "      flex-wrap:wrap;\n",
              "      gap: 12px;\n",
              "    }\n",
              "\n",
              "    .colab-df-convert {\n",
              "      background-color: #E8F0FE;\n",
              "      border: none;\n",
              "      border-radius: 50%;\n",
              "      cursor: pointer;\n",
              "      display: none;\n",
              "      fill: #1967D2;\n",
              "      height: 32px;\n",
              "      padding: 0 0 0 0;\n",
              "      width: 32px;\n",
              "    }\n",
              "\n",
              "    .colab-df-convert:hover {\n",
              "      background-color: #E2EBFA;\n",
              "      box-shadow: 0px 1px 2px rgba(60, 64, 67, 0.3), 0px 1px 3px 1px rgba(60, 64, 67, 0.15);\n",
              "      fill: #174EA6;\n",
              "    }\n",
              "\n",
              "    [theme=dark] .colab-df-convert {\n",
              "      background-color: #3B4455;\n",
              "      fill: #D2E3FC;\n",
              "    }\n",
              "\n",
              "    [theme=dark] .colab-df-convert:hover {\n",
              "      background-color: #434B5C;\n",
              "      box-shadow: 0px 1px 3px 1px rgba(0, 0, 0, 0.15);\n",
              "      filter: drop-shadow(0px 1px 2px rgba(0, 0, 0, 0.3));\n",
              "      fill: #FFFFFF;\n",
              "    }\n",
              "  </style>\n",
              "\n",
              "      <script>\n",
              "        const buttonEl =\n",
              "          document.querySelector('#df-bc42e8d9-d226-46f7-9cec-2ba243b8a6fd button.colab-df-convert');\n",
              "        buttonEl.style.display =\n",
              "          google.colab.kernel.accessAllowed ? 'block' : 'none';\n",
              "\n",
              "        async function convertToInteractive(key) {\n",
              "          const element = document.querySelector('#df-bc42e8d9-d226-46f7-9cec-2ba243b8a6fd');\n",
              "          const dataTable =\n",
              "            await google.colab.kernel.invokeFunction('convertToInteractive',\n",
              "                                                     [key], {});\n",
              "          if (!dataTable) return;\n",
              "\n",
              "          const docLinkHtml = 'Like what you see? Visit the ' +\n",
              "            '<a target=\"_blank\" href=https://colab.research.google.com/notebooks/data_table.ipynb>data table notebook</a>'\n",
              "            + ' to learn more about interactive tables.';\n",
              "          element.innerHTML = '';\n",
              "          dataTable['output_type'] = 'display_data';\n",
              "          await google.colab.output.renderOutput(dataTable, element);\n",
              "          const docLink = document.createElement('div');\n",
              "          docLink.innerHTML = docLinkHtml;\n",
              "          element.appendChild(docLink);\n",
              "        }\n",
              "      </script>\n",
              "    </div>\n",
              "  </div>\n",
              "  "
            ]
          },
          "metadata": {},
          "execution_count": 64
        }
      ]
    },
    {
      "cell_type": "code",
      "source": [],
      "metadata": {
        "id": "Jrr6AaGTzmw0"
      },
      "execution_count": 64,
      "outputs": []
    }
  ]
}