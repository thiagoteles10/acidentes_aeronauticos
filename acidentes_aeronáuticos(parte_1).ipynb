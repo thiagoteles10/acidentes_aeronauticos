{
  "nbformat": 4,
  "nbformat_minor": 0,
  "metadata": {
    "colab": {
      "provenance": [],
      "collapsed_sections": [
        "fq_6mitvqnwh",
        "oRZPmTlqJtdn",
        "jEngiPyE4rs2",
        "q7xe9IqLp2sE",
        "wf3DJOaF0Vc-",
        "Kn7B59KoteH3",
        "u2E9tbu07Zaz",
        "5iRACmULqrkz",
        "kodbBo23FO2Q",
        "HvbRqd6gPN7i",
        "0vgmuDKJK-M2",
        "TwZd2vCGlzTk",
        "vYSxxseoa5x1",
        "NJtq6d0FpHWM",
        "1kJWGVFWnqI4",
        "lUVCf0atod3L",
        "buB_M8ckoxSk",
        "z7eHA5Jqq2Dc",
        "kEiiDcrM--pr",
        "odRh18XhUMDn",
        "m5C-htR5tXRW",
        "t8la-zHGU1Ib",
        "pklNw9LcHt0J",
        "a3U4KLL7Id1-",
        "kdNEsZMZQhlO",
        "yrHF080XQ8Ix",
        "gaq_bWDXRnmi",
        "VhwulGizSIuk",
        "a3IrJWC0SzLd",
        "n1lREyj7t9vI",
        "EV3z5mz2vd3g",
        "Inu_lnBvYimB",
        "aN8Ecq0vosBx"
      ],
      "authorship_tag": "ABX9TyMXDFK0pftrlf9IxQxO85g7",
      "include_colab_link": true
    },
    "kernelspec": {
      "name": "python3",
      "display_name": "Python 3"
    },
    "language_info": {
      "name": "python"
    }
  },
  "cells": [
    {
      "cell_type": "markdown",
      "metadata": {
        "id": "view-in-github",
        "colab_type": "text"
      },
      "source": [
        "<a href=\"https://colab.research.google.com/github/thiagoteles10/acidentes_aeronauticos/blob/main/acidentes_aeron%C3%A1uticos(parte_1).ipynb\" target=\"_parent\"><img src=\"https://colab.research.google.com/assets/colab-badge.svg\" alt=\"Open In Colab\"/></a>"
      ]
    },
    {
      "cell_type": "code",
      "execution_count": null,
      "metadata": {
        "id": "z2RNHh0JHz25"
      },
      "outputs": [],
      "source": [
        "import pandas as pd\n",
        "import matplotlib.pyplot as plt\n",
        "import seaborn as sns\n",
        "import numpy as np\n",
        "import random\n",
        "import missingno"
      ]
    },
    {
      "cell_type": "code",
      "source": [
        "df = pd.read_csv('aircrafts.csv', encoding='latin-1')"
      ],
      "metadata": {
        "id": "d9UT53MxILxs"
      },
      "execution_count": null,
      "outputs": []
    },
    {
      "cell_type": "markdown",
      "source": [
        "## **Verificando quais informações o dataframe possui**"
      ],
      "metadata": {
        "id": "j-pbP6LOu-BL"
      }
    },
    {
      "cell_type": "code",
      "source": [
        "df.head(5)"
      ],
      "metadata": {
        "colab": {
          "base_uri": "https://localhost:8080/",
          "height": 456
        },
        "id": "Vqp90CJQvapr",
        "outputId": "d3640228-1509-4fdc-eb0b-2ed351d0a61f"
      },
      "execution_count": null,
      "outputs": [
        {
          "output_type": "execute_result",
          "data": {
            "text/plain": [
              "   Unnamed: 0  aircraft_id  occurrence_id registration  operator_id equipment  \\\n",
              "0           0            4          45602        PPGXE          241  AIRPLANE   \n",
              "1           1           40          53551        PPGSZ          160  AIRPLANE   \n",
              "2           2          118          43721        PTCMT         1232  AIRPLANE   \n",
              "3           3          130          35556        PTEQI         3992  AIRPLANE   \n",
              "4           4          191          32579        PPVMM         4365  AIRPLANE   \n",
              "\n",
              "                  manufacturer     model engine_type  engines_amount  ...  \\\n",
              "0  NEIVA INDUSTRIA AERONAUTICA      56-C      PISTON             1.0  ...   \n",
              "1  NEIVA INDUSTRIA AERONAUTICA      56-C      PISTON             1.0  ...   \n",
              "2               BEECH AIRCRAFT    95-B55      PISTON             2.0  ...   \n",
              "3  NEIVA INDUSTRIA AERONAUTICA  EMB-721C      PISTON             1.0  ...   \n",
              "4               BOEING COMPANY   737-241         JET             2.0  ...   \n",
              "\n",
              "   registration_country  registration_category  registration_aviation  \\\n",
              "0                BRAZIL                    PRI            INSTRUCTION   \n",
              "1                BRAZIL                    PRI            INSTRUCTION   \n",
              "2                BRAZIL                    TPX               AEROTAXI   \n",
              "3                BRAZIL                    TPP                PRIVATE   \n",
              "4                BRAZIL                    TPR                REGULAR   \n",
              "\n",
              "  origin_flight destination_flight    operation_phase type_operation  \\\n",
              "0          SDPW               SDPW            UNKNOWN    INSTRUCTION   \n",
              "1          SBBP               SBBP            TAKEOFF    INSTRUCTION   \n",
              "2          ****               ****  RUN AFTER LANDING       AEROTAXI   \n",
              "3          SNDU               SBSL  RUN AFTER LANDING        PRIVATE   \n",
              "4          ****               ****          ASCENSION        REGULAR   \n",
              "\n",
              "  damage_level fatalities_amount extraction_day  \n",
              "0  SUBSTANTIAL               NaN     2016-07-30  \n",
              "1        LIGHT               NaN     2016-07-30  \n",
              "2  SUBSTANTIAL               NaN     2016-07-30  \n",
              "3        LIGHT               NaN     2016-07-30  \n",
              "4         NONE               NaN     2016-07-30  \n",
              "\n",
              "[5 rows x 23 columns]"
            ],
            "text/html": [
              "\n",
              "  <div id=\"df-f8365a54-9f35-4e76-8255-1f299631358e\">\n",
              "    <div class=\"colab-df-container\">\n",
              "      <div>\n",
              "<style scoped>\n",
              "    .dataframe tbody tr th:only-of-type {\n",
              "        vertical-align: middle;\n",
              "    }\n",
              "\n",
              "    .dataframe tbody tr th {\n",
              "        vertical-align: top;\n",
              "    }\n",
              "\n",
              "    .dataframe thead th {\n",
              "        text-align: right;\n",
              "    }\n",
              "</style>\n",
              "<table border=\"1\" class=\"dataframe\">\n",
              "  <thead>\n",
              "    <tr style=\"text-align: right;\">\n",
              "      <th></th>\n",
              "      <th>Unnamed: 0</th>\n",
              "      <th>aircraft_id</th>\n",
              "      <th>occurrence_id</th>\n",
              "      <th>registration</th>\n",
              "      <th>operator_id</th>\n",
              "      <th>equipment</th>\n",
              "      <th>manufacturer</th>\n",
              "      <th>model</th>\n",
              "      <th>engine_type</th>\n",
              "      <th>engines_amount</th>\n",
              "      <th>...</th>\n",
              "      <th>registration_country</th>\n",
              "      <th>registration_category</th>\n",
              "      <th>registration_aviation</th>\n",
              "      <th>origin_flight</th>\n",
              "      <th>destination_flight</th>\n",
              "      <th>operation_phase</th>\n",
              "      <th>type_operation</th>\n",
              "      <th>damage_level</th>\n",
              "      <th>fatalities_amount</th>\n",
              "      <th>extraction_day</th>\n",
              "    </tr>\n",
              "  </thead>\n",
              "  <tbody>\n",
              "    <tr>\n",
              "      <th>0</th>\n",
              "      <td>0</td>\n",
              "      <td>4</td>\n",
              "      <td>45602</td>\n",
              "      <td>PPGXE</td>\n",
              "      <td>241</td>\n",
              "      <td>AIRPLANE</td>\n",
              "      <td>NEIVA INDUSTRIA AERONAUTICA</td>\n",
              "      <td>56-C</td>\n",
              "      <td>PISTON</td>\n",
              "      <td>1.0</td>\n",
              "      <td>...</td>\n",
              "      <td>BRAZIL</td>\n",
              "      <td>PRI</td>\n",
              "      <td>INSTRUCTION</td>\n",
              "      <td>SDPW</td>\n",
              "      <td>SDPW</td>\n",
              "      <td>UNKNOWN</td>\n",
              "      <td>INSTRUCTION</td>\n",
              "      <td>SUBSTANTIAL</td>\n",
              "      <td>NaN</td>\n",
              "      <td>2016-07-30</td>\n",
              "    </tr>\n",
              "    <tr>\n",
              "      <th>1</th>\n",
              "      <td>1</td>\n",
              "      <td>40</td>\n",
              "      <td>53551</td>\n",
              "      <td>PPGSZ</td>\n",
              "      <td>160</td>\n",
              "      <td>AIRPLANE</td>\n",
              "      <td>NEIVA INDUSTRIA AERONAUTICA</td>\n",
              "      <td>56-C</td>\n",
              "      <td>PISTON</td>\n",
              "      <td>1.0</td>\n",
              "      <td>...</td>\n",
              "      <td>BRAZIL</td>\n",
              "      <td>PRI</td>\n",
              "      <td>INSTRUCTION</td>\n",
              "      <td>SBBP</td>\n",
              "      <td>SBBP</td>\n",
              "      <td>TAKEOFF</td>\n",
              "      <td>INSTRUCTION</td>\n",
              "      <td>LIGHT</td>\n",
              "      <td>NaN</td>\n",
              "      <td>2016-07-30</td>\n",
              "    </tr>\n",
              "    <tr>\n",
              "      <th>2</th>\n",
              "      <td>2</td>\n",
              "      <td>118</td>\n",
              "      <td>43721</td>\n",
              "      <td>PTCMT</td>\n",
              "      <td>1232</td>\n",
              "      <td>AIRPLANE</td>\n",
              "      <td>BEECH AIRCRAFT</td>\n",
              "      <td>95-B55</td>\n",
              "      <td>PISTON</td>\n",
              "      <td>2.0</td>\n",
              "      <td>...</td>\n",
              "      <td>BRAZIL</td>\n",
              "      <td>TPX</td>\n",
              "      <td>AEROTAXI</td>\n",
              "      <td>****</td>\n",
              "      <td>****</td>\n",
              "      <td>RUN AFTER LANDING</td>\n",
              "      <td>AEROTAXI</td>\n",
              "      <td>SUBSTANTIAL</td>\n",
              "      <td>NaN</td>\n",
              "      <td>2016-07-30</td>\n",
              "    </tr>\n",
              "    <tr>\n",
              "      <th>3</th>\n",
              "      <td>3</td>\n",
              "      <td>130</td>\n",
              "      <td>35556</td>\n",
              "      <td>PTEQI</td>\n",
              "      <td>3992</td>\n",
              "      <td>AIRPLANE</td>\n",
              "      <td>NEIVA INDUSTRIA AERONAUTICA</td>\n",
              "      <td>EMB-721C</td>\n",
              "      <td>PISTON</td>\n",
              "      <td>1.0</td>\n",
              "      <td>...</td>\n",
              "      <td>BRAZIL</td>\n",
              "      <td>TPP</td>\n",
              "      <td>PRIVATE</td>\n",
              "      <td>SNDU</td>\n",
              "      <td>SBSL</td>\n",
              "      <td>RUN AFTER LANDING</td>\n",
              "      <td>PRIVATE</td>\n",
              "      <td>LIGHT</td>\n",
              "      <td>NaN</td>\n",
              "      <td>2016-07-30</td>\n",
              "    </tr>\n",
              "    <tr>\n",
              "      <th>4</th>\n",
              "      <td>4</td>\n",
              "      <td>191</td>\n",
              "      <td>32579</td>\n",
              "      <td>PPVMM</td>\n",
              "      <td>4365</td>\n",
              "      <td>AIRPLANE</td>\n",
              "      <td>BOEING COMPANY</td>\n",
              "      <td>737-241</td>\n",
              "      <td>JET</td>\n",
              "      <td>2.0</td>\n",
              "      <td>...</td>\n",
              "      <td>BRAZIL</td>\n",
              "      <td>TPR</td>\n",
              "      <td>REGULAR</td>\n",
              "      <td>****</td>\n",
              "      <td>****</td>\n",
              "      <td>ASCENSION</td>\n",
              "      <td>REGULAR</td>\n",
              "      <td>NONE</td>\n",
              "      <td>NaN</td>\n",
              "      <td>2016-07-30</td>\n",
              "    </tr>\n",
              "  </tbody>\n",
              "</table>\n",
              "<p>5 rows × 23 columns</p>\n",
              "</div>\n",
              "      <button class=\"colab-df-convert\" onclick=\"convertToInteractive('df-f8365a54-9f35-4e76-8255-1f299631358e')\"\n",
              "              title=\"Convert this dataframe to an interactive table.\"\n",
              "              style=\"display:none;\">\n",
              "        \n",
              "  <svg xmlns=\"http://www.w3.org/2000/svg\" height=\"24px\"viewBox=\"0 0 24 24\"\n",
              "       width=\"24px\">\n",
              "    <path d=\"M0 0h24v24H0V0z\" fill=\"none\"/>\n",
              "    <path d=\"M18.56 5.44l.94 2.06.94-2.06 2.06-.94-2.06-.94-.94-2.06-.94 2.06-2.06.94zm-11 1L8.5 8.5l.94-2.06 2.06-.94-2.06-.94L8.5 2.5l-.94 2.06-2.06.94zm10 10l.94 2.06.94-2.06 2.06-.94-2.06-.94-.94-2.06-.94 2.06-2.06.94z\"/><path d=\"M17.41 7.96l-1.37-1.37c-.4-.4-.92-.59-1.43-.59-.52 0-1.04.2-1.43.59L10.3 9.45l-7.72 7.72c-.78.78-.78 2.05 0 2.83L4 21.41c.39.39.9.59 1.41.59.51 0 1.02-.2 1.41-.59l7.78-7.78 2.81-2.81c.8-.78.8-2.07 0-2.86zM5.41 20L4 18.59l7.72-7.72 1.47 1.35L5.41 20z\"/>\n",
              "  </svg>\n",
              "      </button>\n",
              "      \n",
              "  <style>\n",
              "    .colab-df-container {\n",
              "      display:flex;\n",
              "      flex-wrap:wrap;\n",
              "      gap: 12px;\n",
              "    }\n",
              "\n",
              "    .colab-df-convert {\n",
              "      background-color: #E8F0FE;\n",
              "      border: none;\n",
              "      border-radius: 50%;\n",
              "      cursor: pointer;\n",
              "      display: none;\n",
              "      fill: #1967D2;\n",
              "      height: 32px;\n",
              "      padding: 0 0 0 0;\n",
              "      width: 32px;\n",
              "    }\n",
              "\n",
              "    .colab-df-convert:hover {\n",
              "      background-color: #E2EBFA;\n",
              "      box-shadow: 0px 1px 2px rgba(60, 64, 67, 0.3), 0px 1px 3px 1px rgba(60, 64, 67, 0.15);\n",
              "      fill: #174EA6;\n",
              "    }\n",
              "\n",
              "    [theme=dark] .colab-df-convert {\n",
              "      background-color: #3B4455;\n",
              "      fill: #D2E3FC;\n",
              "    }\n",
              "\n",
              "    [theme=dark] .colab-df-convert:hover {\n",
              "      background-color: #434B5C;\n",
              "      box-shadow: 0px 1px 3px 1px rgba(0, 0, 0, 0.15);\n",
              "      filter: drop-shadow(0px 1px 2px rgba(0, 0, 0, 0.3));\n",
              "      fill: #FFFFFF;\n",
              "    }\n",
              "  </style>\n",
              "\n",
              "      <script>\n",
              "        const buttonEl =\n",
              "          document.querySelector('#df-f8365a54-9f35-4e76-8255-1f299631358e button.colab-df-convert');\n",
              "        buttonEl.style.display =\n",
              "          google.colab.kernel.accessAllowed ? 'block' : 'none';\n",
              "\n",
              "        async function convertToInteractive(key) {\n",
              "          const element = document.querySelector('#df-f8365a54-9f35-4e76-8255-1f299631358e');\n",
              "          const dataTable =\n",
              "            await google.colab.kernel.invokeFunction('convertToInteractive',\n",
              "                                                     [key], {});\n",
              "          if (!dataTable) return;\n",
              "\n",
              "          const docLinkHtml = 'Like what you see? Visit the ' +\n",
              "            '<a target=\"_blank\" href=https://colab.research.google.com/notebooks/data_table.ipynb>data table notebook</a>'\n",
              "            + ' to learn more about interactive tables.';\n",
              "          element.innerHTML = '';\n",
              "          dataTable['output_type'] = 'display_data';\n",
              "          await google.colab.output.renderOutput(dataTable, element);\n",
              "          const docLink = document.createElement('div');\n",
              "          docLink.innerHTML = docLinkHtml;\n",
              "          element.appendChild(docLink);\n",
              "        }\n",
              "      </script>\n",
              "    </div>\n",
              "  </div>\n",
              "  "
            ]
          },
          "metadata": {},
          "execution_count": 32
        }
      ]
    },
    {
      "cell_type": "code",
      "source": [],
      "metadata": {
        "id": "71zTCgrnZEOw"
      },
      "execution_count": null,
      "outputs": []
    },
    {
      "cell_type": "markdown",
      "source": [
        "## **Deletando a coluna Unnamed**"
      ],
      "metadata": {
        "id": "HoLlkpDCNyAE"
      }
    },
    {
      "cell_type": "code",
      "source": [
        "df.drop(['Unnamed: 0'],axis=1, inplace=True)"
      ],
      "metadata": {
        "id": "hmLQNlbyNxjr"
      },
      "execution_count": null,
      "outputs": []
    },
    {
      "cell_type": "markdown",
      "source": [
        "## **Verificando as colunas e os tipos**"
      ],
      "metadata": {
        "id": "B3fiYtZooPaM"
      }
    },
    {
      "cell_type": "code",
      "source": [
        "df.info()"
      ],
      "metadata": {
        "id": "hTZDezIyKZ1S",
        "colab": {
          "base_uri": "https://localhost:8080/"
        },
        "outputId": "302a65a6-e3a9-4e9a-fead-8fb0b479006c"
      },
      "execution_count": null,
      "outputs": [
        {
          "output_type": "stream",
          "name": "stdout",
          "text": [
            "<class 'pandas.core.frame.DataFrame'>\n",
            "RangeIndex: 2043 entries, 0 to 2042\n",
            "Data columns (total 22 columns):\n",
            " #   Column                    Non-Null Count  Dtype  \n",
            "---  ------                    --------------  -----  \n",
            " 0   aircraft_id               2043 non-null   int64  \n",
            " 1   occurrence_id             2043 non-null   int64  \n",
            " 2   registration              2043 non-null   object \n",
            " 3   operator_id               2043 non-null   int64  \n",
            " 4   equipment                 2042 non-null   object \n",
            " 5   manufacturer              2043 non-null   object \n",
            " 6   model                     2043 non-null   object \n",
            " 7   engine_type               2043 non-null   object \n",
            " 8   engines_amount            2034 non-null   float64\n",
            " 9   takeoff_max_weight (Lbs)  2043 non-null   int64  \n",
            " 10  seatings_amount           2025 non-null   float64\n",
            " 11  year_manufacture          2039 non-null   float64\n",
            " 12  registration_country      2031 non-null   object \n",
            " 13  registration_category     2043 non-null   object \n",
            " 14  registration_aviation     2043 non-null   object \n",
            " 15  origin_flight             2043 non-null   object \n",
            " 16  destination_flight        2043 non-null   object \n",
            " 17  operation_phase           2042 non-null   object \n",
            " 18  type_operation            2043 non-null   object \n",
            " 19  damage_level              2043 non-null   object \n",
            " 20  fatalities_amount         355 non-null    float64\n",
            " 21  extraction_day            2043 non-null   object \n",
            "dtypes: float64(4), int64(4), object(14)\n",
            "memory usage: 351.3+ KB\n"
          ]
        }
      ]
    },
    {
      "cell_type": "markdown",
      "source": [
        "## **Dados faltantes**"
      ],
      "metadata": {
        "id": "NNzxpUM-Affr"
      }
    },
    {
      "cell_type": "code",
      "source": [
        "missingno.matrix(df,figsize=(40,10))"
      ],
      "metadata": {
        "colab": {
          "base_uri": "https://localhost:8080/",
          "height": 373
        },
        "id": "xAu9qf9DAz4C",
        "outputId": "758e7545-9a07-403d-a82f-1cf813c967a9"
      },
      "execution_count": null,
      "outputs": [
        {
          "output_type": "execute_result",
          "data": {
            "text/plain": [
              "<matplotlib.axes._subplots.AxesSubplot at 0x7fc879fba850>"
            ]
          },
          "metadata": {},
          "execution_count": 35
        },
        {
          "output_type": "display_data",
          "data": {
            "text/plain": [
              "<Figure size 2880x720 with 2 Axes>"
            ],
            "image/png": "[encoded data removed]"
          },
          "metadata": {
            "needs_background": "light"
          }
        }
      ]
    },
    {
      "cell_type": "markdown",
      "source": [
        "### Verificamos uma quantidade significativa de dados faltantes na coluna fatalities_amount"
      ],
      "metadata": {
        "id": "q_3iVzXGHSc8"
      }
    },
    {
      "cell_type": "markdown",
      "source": [
        "## **Quantidade de valores nulos da coluna('fatalities_amount')**"
      ],
      "metadata": {
        "id": "3W-hDj74oGev"
      }
    },
    {
      "cell_type": "code",
      "source": [
        "df['fatalities_amount'].isnull().sum()"
      ],
      "metadata": {
        "colab": {
          "base_uri": "https://localhost:8080/"
        },
        "id": "PE-Dlk20by62",
        "outputId": "1f5bad1d-d5d0-4637-fa2d-6276b6419722"
      },
      "execution_count": null,
      "outputs": [
        {
          "output_type": "execute_result",
          "data": {
            "text/plain": [
              "1688"
            ]
          },
          "metadata": {},
          "execution_count": 36
        }
      ]
    },
    {
      "cell_type": "markdown",
      "source": [
        "## **Verificando os nomes das colunas do dataframe**"
      ],
      "metadata": {
        "id": "rjLI0S2m4dXS"
      }
    },
    {
      "cell_type": "code",
      "source": [
        "df.columns"
      ],
      "metadata": {
        "colab": {
          "base_uri": "https://localhost:8080/"
        },
        "id": "_LuL8yfVskuq",
        "outputId": "74ac29a9-eaa5-4f58-841d-6edb5c973f44"
      },
      "execution_count": null,
      "outputs": [
        {
          "output_type": "execute_result",
          "data": {
            "text/plain": [
              "Index(['aircraft_id', 'occurrence_id', 'registration', 'operator_id',\n",
              "       'equipment', 'manufacturer', 'model', 'engine_type', 'engines_amount',\n",
              "       'takeoff_max_weight (Lbs)', 'seatings_amount', 'year_manufacture',\n",
              "       'registration_country', 'registration_category',\n",
              "       'registration_aviation', 'origin_flight', 'destination_flight',\n",
              "       'operation_phase', 'type_operation', 'damage_level',\n",
              "       'fatalities_amount', 'extraction_day'],\n",
              "      dtype='object')"
            ]
          },
          "metadata": {},
          "execution_count": 37
        }
      ]
    },
    {
      "cell_type": "markdown",
      "source": [
        "## **verificando a quantidade por porcentagem de valores ausentes no df**\n",
        "\n",
        "---\n",
        "\n"
      ],
      "metadata": {
        "id": "fq_6mitvqnwh"
      }
    },
    {
      "cell_type": "code",
      "source": [
        "df.isnull().sum() / df.shape[0] * 100"
      ],
      "metadata": {
        "id": "UeDcEZd-qsX_",
        "colab": {
          "base_uri": "https://localhost:8080/"
        },
        "outputId": "5ef1da2f-4a46-4a0e-9b36-ae637dfe65af"
      },
      "execution_count": null,
      "outputs": [
        {
          "output_type": "execute_result",
          "data": {
            "text/plain": [
              "aircraft_id                  0.000000\n",
              "occurrence_id                0.000000\n",
              "registration                 0.000000\n",
              "operator_id                  0.000000\n",
              "equipment                    0.048948\n",
              "manufacturer                 0.000000\n",
              "model                        0.000000\n",
              "engine_type                  0.000000\n",
              "engines_amount               0.440529\n",
              "takeoff_max_weight (Lbs)     0.000000\n",
              "seatings_amount              0.881057\n",
              "year_manufacture             0.195791\n",
              "registration_country         0.587372\n",
              "registration_category        0.000000\n",
              "registration_aviation        0.000000\n",
              "origin_flight                0.000000\n",
              "destination_flight           0.000000\n",
              "operation_phase              0.048948\n",
              "type_operation               0.000000\n",
              "damage_level                 0.000000\n",
              "fatalities_amount           82.623593\n",
              "extraction_day               0.000000\n",
              "dtype: float64"
            ]
          },
          "metadata": {},
          "execution_count": 38
        }
      ]
    },
    {
      "cell_type": "markdown",
      "source": [
        "### notamos que apenas a coluna fatalities amount tem 82.6% de dados faltantes."
      ],
      "metadata": {
        "id": "oRZPmTlqJtdn"
      }
    },
    {
      "cell_type": "markdown",
      "source": [
        "## **Informações estatísticas**"
      ],
      "metadata": {
        "id": "jEngiPyE4rs2"
      }
    },
    {
      "cell_type": "code",
      "source": [
        "df.describe()"
      ],
      "metadata": {
        "id": "2NOcuAQRRy0b",
        "colab": {
          "base_uri": "https://localhost:8080/",
          "height": 361
        },
        "outputId": "d3626cef-3988-43ef-d900-c4c88b7009e1"
      },
      "execution_count": null,
      "outputs": [
        {
          "output_type": "execute_result",
          "data": {
            "text/plain": [
              "        aircraft_id  occurrence_id  operator_id  engines_amount  \\\n",
              "count   2043.000000    2043.000000  2043.000000     2034.000000   \n",
              "mean   12300.670093   43961.869799  3156.447871        1.244346   \n",
              "std     7654.268691    7857.658738  1645.351104        0.483653   \n",
              "min        4.000000   25799.000000    13.000000        0.000000   \n",
              "25%     9061.000000   38839.500000  1821.000000        1.000000   \n",
              "50%    11267.000000   45564.000000  3992.000000        1.000000   \n",
              "75%    13601.500000   50353.500000  3992.000000        2.000000   \n",
              "max    39147.000000   65312.000000  6270.000000        4.000000   \n",
              "\n",
              "       takeoff_max_weight (Lbs)  seatings_amount  year_manufacture  \\\n",
              "count               2043.000000      2025.000000       2039.000000   \n",
              "mean               11750.045032         8.928889       1902.494850   \n",
              "std                48511.565643        26.922299        402.024605   \n",
              "min                    0.000000         0.000000          0.000000   \n",
              "25%                 1860.000000         2.000000       1975.000000   \n",
              "50%                 3600.000000         4.000000       1986.000000   \n",
              "75%                 4750.000000         6.000000       1999.000000   \n",
              "max               630499.000000       301.000000       2015.000000   \n",
              "\n",
              "       fatalities_amount  \n",
              "count         355.000000  \n",
              "mean            3.208451  \n",
              "std            13.367108  \n",
              "min             1.000000  \n",
              "25%             1.000000  \n",
              "50%             2.000000  \n",
              "75%             2.000000  \n",
              "max           199.000000  "
            ],
            "text/html": [
              "\n",
              "  <div id=\"df-42f39a0c-0999-4506-b525-2daf0ca1e7a0\">\n",
              "    <div class=\"colab-df-container\">\n",
              "      <div>\n",
              "<style scoped>\n",
              "    .dataframe tbody tr th:only-of-type {\n",
              "        vertical-align: middle;\n",
              "    }\n",
              "\n",
              "    .dataframe tbody tr th {\n",
              "        vertical-align: top;\n",
              "    }\n",
              "\n",
              "    .dataframe thead th {\n",
              "        text-align: right;\n",
              "    }\n",
              "</style>\n",
              "<table border=\"1\" class=\"dataframe\">\n",
              "  <thead>\n",
              "    <tr style=\"text-align: right;\">\n",
              "      <th></th>\n",
              "      <th>aircraft_id</th>\n",
              "      <th>occurrence_id</th>\n",
              "      <th>operator_id</th>\n",
              "      <th>engines_amount</th>\n",
              "      <th>takeoff_max_weight (Lbs)</th>\n",
              "      <th>seatings_amount</th>\n",
              "      <th>year_manufacture</th>\n",
              "      <th>fatalities_amount</th>\n",
              "    </tr>\n",
              "  </thead>\n",
              "  <tbody>\n",
              "    <tr>\n",
              "      <th>count</th>\n",
              "      <td>2043.000000</td>\n",
              "      <td>2043.000000</td>\n",
              "      <td>2043.000000</td>\n",
              "      <td>2034.000000</td>\n",
              "      <td>2043.000000</td>\n",
              "      <td>2025.000000</td>\n",
              "      <td>2039.000000</td>\n",
              "      <td>355.000000</td>\n",
              "    </tr>\n",
              "    <tr>\n",
              "      <th>mean</th>\n",
              "      <td>12300.670093</td>\n",
              "      <td>43961.869799</td>\n",
              "      <td>3156.447871</td>\n",
              "      <td>1.244346</td>\n",
              "      <td>11750.045032</td>\n",
              "      <td>8.928889</td>\n",
              "      <td>1902.494850</td>\n",
              "      <td>3.208451</td>\n",
              "    </tr>\n",
              "    <tr>\n",
              "      <th>std</th>\n",
              "      <td>7654.268691</td>\n",
              "      <td>7857.658738</td>\n",
              "      <td>1645.351104</td>\n",
              "      <td>0.483653</td>\n",
              "      <td>48511.565643</td>\n",
              "      <td>26.922299</td>\n",
              "      <td>402.024605</td>\n",
              "      <td>13.367108</td>\n",
              "    </tr>\n",
              "    <tr>\n",
              "      <th>min</th>\n",
              "      <td>4.000000</td>\n",
              "      <td>25799.000000</td>\n",
              "      <td>13.000000</td>\n",
              "      <td>0.000000</td>\n",
              "      <td>0.000000</td>\n",
              "      <td>0.000000</td>\n",
              "      <td>0.000000</td>\n",
              "      <td>1.000000</td>\n",
              "    </tr>\n",
              "    <tr>\n",
              "      <th>25%</th>\n",
              "      <td>9061.000000</td>\n",
              "      <td>38839.500000</td>\n",
              "      <td>1821.000000</td>\n",
              "      <td>1.000000</td>\n",
              "      <td>1860.000000</td>\n",
              "      <td>2.000000</td>\n",
              "      <td>1975.000000</td>\n",
              "      <td>1.000000</td>\n",
              "    </tr>\n",
              "    <tr>\n",
              "      <th>50%</th>\n",
              "      <td>11267.000000</td>\n",
              "      <td>45564.000000</td>\n",
              "      <td>3992.000000</td>\n",
              "      <td>1.000000</td>\n",
              "      <td>3600.000000</td>\n",
              "      <td>4.000000</td>\n",
              "      <td>1986.000000</td>\n",
              "      <td>2.000000</td>\n",
              "    </tr>\n",
              "    <tr>\n",
              "      <th>75%</th>\n",
              "      <td>13601.500000</td>\n",
              "      <td>50353.500000</td>\n",
              "      <td>3992.000000</td>\n",
              "      <td>2.000000</td>\n",
              "      <td>4750.000000</td>\n",
              "      <td>6.000000</td>\n",
              "      <td>1999.000000</td>\n",
              "      <td>2.000000</td>\n",
              "    </tr>\n",
              "    <tr>\n",
              "      <th>max</th>\n",
              "      <td>39147.000000</td>\n",
              "      <td>65312.000000</td>\n",
              "      <td>6270.000000</td>\n",
              "      <td>4.000000</td>\n",
              "      <td>630499.000000</td>\n",
              "      <td>301.000000</td>\n",
              "      <td>2015.000000</td>\n",
              "      <td>199.000000</td>\n",
              "    </tr>\n",
              "  </tbody>\n",
              "</table>\n",
              "</div>\n",
              "      <button class=\"colab-df-convert\" onclick=\"convertToInteractive('df-42f39a0c-0999-4506-b525-2daf0ca1e7a0')\"\n",
              "              title=\"Convert this dataframe to an interactive table.\"\n",
              "              style=\"display:none;\">\n",
              "        \n",
              "  <svg xmlns=\"http://www.w3.org/2000/svg\" height=\"24px\"viewBox=\"0 0 24 24\"\n",
              "       width=\"24px\">\n",
              "    <path d=\"M0 0h24v24H0V0z\" fill=\"none\"/>\n",
              "    <path d=\"M18.56 5.44l.94 2.06.94-2.06 2.06-.94-2.06-.94-.94-2.06-.94 2.06-2.06.94zm-11 1L8.5 8.5l.94-2.06 2.06-.94-2.06-.94L8.5 2.5l-.94 2.06-2.06.94zm10 10l.94 2.06.94-2.06 2.06-.94-2.06-.94-.94-2.06-.94 2.06-2.06.94z\"/><path d=\"M17.41 7.96l-1.37-1.37c-.4-.4-.92-.59-1.43-.59-.52 0-1.04.2-1.43.59L10.3 9.45l-7.72 7.72c-.78.78-.78 2.05 0 2.83L4 21.41c.39.39.9.59 1.41.59.51 0 1.02-.2 1.41-.59l7.78-7.78 2.81-2.81c.8-.78.8-2.07 0-2.86zM5.41 20L4 18.59l7.72-7.72 1.47 1.35L5.41 20z\"/>\n",
              "  </svg>\n",
              "      </button>\n",
              "      \n",
              "  <style>\n",
              "    .colab-df-container {\n",
              "      display:flex;\n",
              "      flex-wrap:wrap;\n",
              "      gap: 12px;\n",
              "    }\n",
              "\n",
              "    .colab-df-convert {\n",
              "      background-color: #E8F0FE;\n",
              "      border: none;\n",
              "      border-radius: 50%;\n",
              "      cursor: pointer;\n",
              "      display: none;\n",
              "      fill: #1967D2;\n",
              "      height: 32px;\n",
              "      padding: 0 0 0 0;\n",
              "      width: 32px;\n",
              "    }\n",
              "\n",
              "    .colab-df-convert:hover {\n",
              "      background-color: #E2EBFA;\n",
              "      box-shadow: 0px 1px 2px rgba(60, 64, 67, 0.3), 0px 1px 3px 1px rgba(60, 64, 67, 0.15);\n",
              "      fill: #174EA6;\n",
              "    }\n",
              "\n",
              "    [theme=dark] .colab-df-convert {\n",
              "      background-color: #3B4455;\n",
              "      fill: #D2E3FC;\n",
              "    }\n",
              "\n",
              "    [theme=dark] .colab-df-convert:hover {\n",
              "      background-color: #434B5C;\n",
              "      box-shadow: 0px 1px 3px 1px rgba(0, 0, 0, 0.15);\n",
              "      filter: drop-shadow(0px 1px 2px rgba(0, 0, 0, 0.3));\n",
              "      fill: #FFFFFF;\n",
              "    }\n",
              "  </style>\n",
              "\n",
              "      <script>\n",
              "        const buttonEl =\n",
              "          document.querySelector('#df-42f39a0c-0999-4506-b525-2daf0ca1e7a0 button.colab-df-convert');\n",
              "        buttonEl.style.display =\n",
              "          google.colab.kernel.accessAllowed ? 'block' : 'none';\n",
              "\n",
              "        async function convertToInteractive(key) {\n",
              "          const element = document.querySelector('#df-42f39a0c-0999-4506-b525-2daf0ca1e7a0');\n",
              "          const dataTable =\n",
              "            await google.colab.kernel.invokeFunction('convertToInteractive',\n",
              "                                                     [key], {});\n",
              "          if (!dataTable) return;\n",
              "\n",
              "          const docLinkHtml = 'Like what you see? Visit the ' +\n",
              "            '<a target=\"_blank\" href=https://colab.research.google.com/notebooks/data_table.ipynb>data table notebook</a>'\n",
              "            + ' to learn more about interactive tables.';\n",
              "          element.innerHTML = '';\n",
              "          dataTable['output_type'] = 'display_data';\n",
              "          await google.colab.output.renderOutput(dataTable, element);\n",
              "          const docLink = document.createElement('div');\n",
              "          docLink.innerHTML = docLinkHtml;\n",
              "          element.appendChild(docLink);\n",
              "        }\n",
              "      </script>\n",
              "    </div>\n",
              "  </div>\n",
              "  "
            ]
          },
          "metadata": {},
          "execution_count": 39
        }
      ]
    },
    {
      "cell_type": "markdown",
      "source": [
        "## **Obtendo a quantidade de linhas e colunas de um dataframe**"
      ],
      "metadata": {
        "id": "q7xe9IqLp2sE"
      }
    },
    {
      "cell_type": "code",
      "source": [
        "df.shape"
      ],
      "metadata": {
        "colab": {
          "base_uri": "https://localhost:8080/"
        },
        "id": "8du7UNPxknrw",
        "outputId": "7bc5f42e-8ef2-4efb-9488-206b8f5d15f3"
      },
      "execution_count": null,
      "outputs": [
        {
          "output_type": "execute_result",
          "data": {
            "text/plain": [
              "(2043, 22)"
            ]
          },
          "metadata": {},
          "execution_count": 40
        }
      ]
    },
    {
      "cell_type": "code",
      "source": [
        "linhas, colunas = df.shape"
      ],
      "metadata": {
        "id": "S-69KOpkH3_f"
      },
      "execution_count": null,
      "outputs": []
    },
    {
      "cell_type": "markdown",
      "source": [
        "## **Quais as 30 aeronaves com maior incidência de acidentes?**"
      ],
      "metadata": {
        "id": "wf3DJOaF0Vc-"
      }
    },
    {
      "cell_type": "code",
      "source": [
        "df_avioes = df['model'].value_counts().head(30)"
      ],
      "metadata": {
        "id": "dWllY4ft8S11"
      },
      "execution_count": null,
      "outputs": []
    },
    {
      "cell_type": "code",
      "source": [
        "df_avioes"
      ],
      "metadata": {
        "colab": {
          "base_uri": "https://localhost:8080/"
        },
        "id": "a-VcBvl7G7wN",
        "outputId": "b868696b-e840-4117-c24a-2c47e3f6078a"
      },
      "execution_count": null,
      "outputs": [
        {
          "output_type": "execute_result",
          "data": {
            "text/plain": [
              "AB-115        111\n",
              "EMB-202        78\n",
              "EMB-201A       72\n",
              "EMB-810C       61\n",
              "EMB-810D       38\n",
              "R44            35\n",
              "58             34\n",
              "EMB-202A       33\n",
              "210L           31\n",
              "A188B          30\n",
              "152            30\n",
              "EMB-711C       28\n",
              "R22 BETA       28\n",
              "R44 II         28\n",
              "206B           26\n",
              "EMB-201        25\n",
              "EMB-720D       25\n",
              "CAP-4          24\n",
              "PA-25-235      23\n",
              "AS 350 B2      23\n",
              "R22            22\n",
              "PA-34-220T     21\n",
              "182P           19\n",
              "EMB-712        18\n",
              "56-C           18\n",
              "EMB-721C       18\n",
              "95-B55         17\n",
              "SR22           17\n",
              "EMB-711ST      17\n",
              "EMB-720C       16\n",
              "Name: model, dtype: int64"
            ]
          },
          "metadata": {},
          "execution_count": 43
        }
      ]
    },
    {
      "cell_type": "code",
      "source": [
        "plt.figure(figsize=(20,10));\n",
        "sns.countplot(data=df, x='model', order=df_avioes.index);\n",
        "plt.xticks(rotation=90);"
      ],
      "metadata": {
        "colab": {
          "base_uri": "https://localhost:8080/",
          "height": 597
        },
        "id": "VZJy9DG8IFzE",
        "outputId": "cc971d18-ffbb-43be-f216-1ee45585b32f"
      },
      "execution_count": null,
      "outputs": [
        {
          "output_type": "display_data",
          "data": {
            "text/plain": [
              "<Figure size 1440x720 with 1 Axes>"
            ],
            "image/png": "[encoded data removed]"
          },
          "metadata": {
            "needs_background": "light"
          }
        }
      ]
    },
    {
      "cell_type": "markdown",
      "source": [
        "## **Qual a porcentagem de incidência de acidentes aéreos com a aeronave AB-115 em comparação ao total de acidentes**"
      ],
      "metadata": {
        "id": "Kn7B59KoteH3"
      }
    },
    {
      "cell_type": "code",
      "source": [
        "acidentes_AB_115 = df['model'].value_counts()\n",
        "media = ((acidentes_AB_115[0] / (df['model'].shape[0])) * 100).round()\n",
        "print(f'os acidentes com a aeronave AB-115, correspondem a {media}% do total de acidentes')"
      ],
      "metadata": {
        "colab": {
          "base_uri": "https://localhost:8080/"
        },
        "id": "MnajEQb-tgBo",
        "outputId": "f737cfe8-6c4c-4d29-b3f0-a6aef8599fd9"
      },
      "execution_count": null,
      "outputs": [
        {
          "output_type": "stream",
          "name": "stdout",
          "text": [
            "os acidentes com a aeronave AB-115, correspondem a 5.0% do total de acidentes\n"
          ]
        }
      ]
    },
    {
      "cell_type": "markdown",
      "source": [
        "## **Qual empresa é responsável pela fabricação do AB-115**"
      ],
      "metadata": {
        "id": "u2E9tbu07Zaz"
      }
    },
    {
      "cell_type": "code",
      "source": [
        "empresa = df.loc[df['model'] == 'AB-115'].head(1)"
      ],
      "metadata": {
        "id": "bozVwgtMBgWS"
      },
      "execution_count": null,
      "outputs": []
    },
    {
      "cell_type": "code",
      "source": [
        "print(f\"A empresa responsável pelo AB-115 É A {empresa.iloc[0,5]}\")"
      ],
      "metadata": {
        "colab": {
          "base_uri": "https://localhost:8080/"
        },
        "id": "doOr0i2wPCFL",
        "outputId": "d1553130-bd46-40d2-9a3b-7f3a74cbb56d"
      },
      "execution_count": null,
      "outputs": [
        {
          "output_type": "stream",
          "name": "stdout",
          "text": [
            "A empresa responsável pelo AB-115 É A AERO BOERO\n"
          ]
        }
      ]
    },
    {
      "cell_type": "markdown",
      "source": [
        "## **Substituindo os valores nulos da coluna ['fatalities amount'] por zero.**"
      ],
      "metadata": {
        "id": "5iRACmULqrkz"
      }
    },
    {
      "cell_type": "code",
      "source": [
        "df ['fatalities_amount'] = df ['fatalities_amount'].fillna(0)"
      ],
      "metadata": {
        "id": "Z1-uZe78flyR"
      },
      "execution_count": null,
      "outputs": []
    },
    {
      "cell_type": "markdown",
      "source": [
        "## **Número de óbitos em acidentes com a aeronave AB-115**"
      ],
      "metadata": {
        "id": "kodbBo23FO2Q"
      }
    },
    {
      "cell_type": "code",
      "source": [
        "ab_115 = df[['model','fatalities_amount']] # criando um dataframe com as colunas 'model' e 'fatalities_amount'\n"
      ],
      "metadata": {
        "id": "hToHV9D-Ljz_"
      },
      "execution_count": null,
      "outputs": []
    },
    {
      "cell_type": "code",
      "source": [
        "AB_115 = ab_115.loc[ab_115['model']=='AB-115'] # criando um dataframe apenas com o modelo AB-115\n",
        "    "
      ],
      "metadata": {
        "id": "28QmbsdDGaOb"
      },
      "execution_count": null,
      "outputs": []
    },
    {
      "cell_type": "code",
      "source": [
        "obitos_AB_115 = AB_115['fatalities_amount'].sum()"
      ],
      "metadata": {
        "id": "-28HAC7WM8zt"
      },
      "execution_count": null,
      "outputs": []
    },
    {
      "cell_type": "code",
      "source": [
        "print(f'A quantidades de óbitos em acidentes com a aeronave AB-115 foram: {obitos_AB_115}')"
      ],
      "metadata": {
        "colab": {
          "base_uri": "https://localhost:8080/"
        },
        "id": "9BGs73AzOehc",
        "outputId": "d22fcfc5-0be8-4688-b723-afcc5e677ea1"
      },
      "execution_count": null,
      "outputs": [
        {
          "output_type": "stream",
          "name": "stdout",
          "text": [
            "A quantidades de óbitos em acidentes com a aeronave AB-115 foram: 3.0\n"
          ]
        }
      ]
    },
    {
      "cell_type": "markdown",
      "source": [
        "### Apesar de ser a aeronave com o maior número de acidentes, a AB-115 tem uma quantidade baixa de acidentes com vítimas fatais"
      ],
      "metadata": {
        "id": "HvbRqd6gPN7i"
      }
    },
    {
      "cell_type": "markdown",
      "source": [
        "## **Listando os 20 maiores acidentes por número de óbitos**"
      ],
      "metadata": {
        "id": "0vgmuDKJK-M2"
      }
    },
    {
      "cell_type": "code",
      "source": [
        "df['fatalities_amount'].sort_values(ascending=False).head(20)"
      ],
      "metadata": {
        "colab": {
          "base_uri": "https://localhost:8080/"
        },
        "id": "10Ln1AJVlHVS",
        "outputId": "e01fbc32-b4b9-40c5-d154-8f03d668e715"
      },
      "execution_count": null,
      "outputs": [
        {
          "output_type": "execute_result",
          "data": {
            "text/plain": [
              "620     199.0\n",
              "638     154.0\n",
              "34       24.0\n",
              "526      19.0\n",
              "1210     16.0\n",
              "866      14.0\n",
              "33       10.0\n",
              "1365      8.0\n",
              "665       8.0\n",
              "1414      8.0\n",
              "1196      7.0\n",
              "1746      7.0\n",
              "626       7.0\n",
              "1620      6.0\n",
              "1110      6.0\n",
              "730       6.0\n",
              "446       6.0\n",
              "596       6.0\n",
              "32        6.0\n",
              "1783      5.0\n",
              "Name: fatalities_amount, dtype: float64"
            ]
          },
          "metadata": {},
          "execution_count": 120
        }
      ]
    },
    {
      "cell_type": "markdown",
      "source": [
        "## **As 20 aeronaves envolvidas nos maiores acidentes aéreos do Brasil.**"
      ],
      "metadata": {
        "id": "lfQtXWWrnYmj"
      }
    },
    {
      "cell_type": "code",
      "source": [
        "aeronaves = pd.DataFrame(df['fatalities_amount'].sort_values(ascending=False).head(20))"
      ],
      "metadata": {
        "id": "wpuy8S7tdypp"
      },
      "execution_count": null,
      "outputs": []
    },
    {
      "cell_type": "code",
      "source": [
        "lista=[]\n",
        "for i in aeronaves['fatalities_amount']:\n",
        "  if df.loc[df['fatalities_amount']== i].iloc[0,6]:\n",
        "    modelo = df.loc[df['fatalities_amount']== i].iloc[0,6]\n",
        "    lista.append(modelo)\n",
        "\n",
        "print(f'A lista das 20 aeronaves envolvidas nos maiores acidentes aéreos do Brasil é: {lista}')   \n"
      ],
      "metadata": {
        "colab": {
          "base_uri": "https://localhost:8080/"
        },
        "id": "ddYDV7Eifq4h",
        "outputId": "cf23dcf8-100a-4a5d-e318-d686e70b8d4b"
      },
      "execution_count": null,
      "outputs": [
        {
          "output_type": "stream",
          "name": "stdout",
          "text": [
            "A lista das 20 aeronaves envolvidas nos maiores acidentes aéreos do Brasil é: ['A320-233', '737-8EH', 'EMB-110P1', 'L410UVP-E20', 'L410UVP-E20', 'B300', 'EMB-820C CARAJA', '35A', '35A', '35A', 'EMB-810C', 'EMB-810C', 'EMB-810C', 'EMB-810C', 'EMB-810C', 'EMB-810C', 'EMB-810C', 'EMB-810C', 'EMB-810C', 'P35']\n"
          ]
        }
      ]
    },
    {
      "cell_type": "markdown",
      "source": [
        "## **Qual modelo da aeronave que se envolveu no maior desastre aéreo do Brasil**"
      ],
      "metadata": {
        "id": "TwZd2vCGlzTk"
      }
    },
    {
      "cell_type": "code",
      "source": [
        "maior_acidente = df.loc[df['fatalities_amount']==199].iloc[0,6]"
      ],
      "metadata": {
        "id": "gYguSsf5kZ3Y"
      },
      "execution_count": null,
      "outputs": []
    },
    {
      "cell_type": "code",
      "source": [
        "print(f'o modelo da aeronave que se envolveu no maior acidente foi: {maior_acidente}')"
      ],
      "metadata": {
        "colab": {
          "base_uri": "https://localhost:8080/"
        },
        "id": "Qj_qBWPwmX38",
        "outputId": "7d60de7f-4ce9-4dfa-90de-4a90f9e569fa"
      },
      "execution_count": null,
      "outputs": [
        {
          "output_type": "stream",
          "name": "stdout",
          "text": [
            "o modelo da aeronave que se envolveu no maior acidente foi: A320-233\n"
          ]
        }
      ]
    },
    {
      "cell_type": "markdown",
      "source": [
        "## **Qual a quantidade de valores não nulos na coluna ('fatalities_amount')?**"
      ],
      "metadata": {
        "id": "vYSxxseoa5x1"
      }
    },
    {
      "cell_type": "code",
      "source": [
        "df['fatalities_amount'].notnull().sum()"
      ],
      "metadata": {
        "colab": {
          "base_uri": "https://localhost:8080/"
        },
        "id": "amQmz5w8bAES",
        "outputId": "c75b293b-6438-4a92-9de0-c60e72be432f"
      },
      "execution_count": null,
      "outputs": [
        {
          "output_type": "execute_result",
          "data": {
            "text/plain": [
              "2043"
            ]
          },
          "metadata": {},
          "execution_count": 55
        }
      ]
    },
    {
      "cell_type": "markdown",
      "source": [
        "## **Quantidade total de vítimas fatais.**"
      ],
      "metadata": {
        "id": "NJtq6d0FpHWM"
      }
    },
    {
      "cell_type": "code",
      "source": [
        "df['fatalities_amount'].sum() # uma maneira mais simples de fazer a soma das linhas da coluna 'fatalities_amount'"
      ],
      "metadata": {
        "id": "49IZ7oS2jMPe",
        "colab": {
          "base_uri": "https://localhost:8080/"
        },
        "outputId": "ee9f08a2-3221-4bc0-e9e6-dd1ad9b2be74"
      },
      "execution_count": null,
      "outputs": [
        {
          "output_type": "execute_result",
          "data": {
            "text/plain": [
              "1139.0"
            ]
          },
          "metadata": {},
          "execution_count": 56
        }
      ]
    },
    {
      "cell_type": "markdown",
      "source": [
        "## **Qual a quantidade máxima de peso que uma aeronave pode decolar?**"
      ],
      "metadata": {
        "id": "1kJWGVFWnqI4"
      }
    },
    {
      "cell_type": "code",
      "source": [
        "df['takeoff_max_weight (Lbs)'].max()"
      ],
      "metadata": {
        "id": "L5Rtvim2muRO",
        "colab": {
          "base_uri": "https://localhost:8080/"
        },
        "outputId": "941d0b8f-0167-4643-bdad-2ae24fd4a4b2"
      },
      "execution_count": null,
      "outputs": [
        {
          "output_type": "execute_result",
          "data": {
            "text/plain": [
              "630499"
            ]
          },
          "metadata": {},
          "execution_count": 57
        }
      ]
    },
    {
      "cell_type": "markdown",
      "source": [
        "## **Qual o modelo e fabricante da aeronave que pode decolar com o maior peso?**"
      ],
      "metadata": {
        "id": "lUVCf0atod3L"
      }
    },
    {
      "cell_type": "code",
      "source": [
        "modelo_aeronave = (df.loc[df['takeoff_max_weight (Lbs)'] == 630499 ]).iloc[0,6]"
      ],
      "metadata": {
        "id": "dN64Skvgn_4q"
      },
      "execution_count": null,
      "outputs": []
    },
    {
      "cell_type": "code",
      "source": [
        "print(f'a aeronave que decola com  a maior quantidade de peso é a aeronave {modelo_aeronave}')"
      ],
      "metadata": {
        "colab": {
          "base_uri": "https://localhost:8080/"
        },
        "id": "AdSrdZGOR_BA",
        "outputId": "4d9f22d5-27c3-4bdb-eb50-11be8ac4404e"
      },
      "execution_count": null,
      "outputs": [
        {
          "output_type": "stream",
          "name": "stdout",
          "text": [
            "a aeronave que decola com  a maior quantidade de peso é a aeronave MD11\n"
          ]
        }
      ]
    },
    {
      "cell_type": "markdown",
      "source": [],
      "metadata": {
        "id": "JPqZzAlzosoQ"
      }
    },
    {
      "cell_type": "markdown",
      "source": [
        "## **A aeronave que carrega a menor quantidade de peso qual a quantidade de peso que ela pode decolar?**"
      ],
      "metadata": {
        "id": "buB_M8ckoxSk"
      }
    },
    {
      "cell_type": "code",
      "source": [
        "menor=[]\n",
        "for i in df['takeoff_max_weight (Lbs)']:\n",
        "  if i > 0:\n",
        "    menor.append(i)\n",
        "aeronave = min(menor)"
      ],
      "metadata": {
        "id": "nQimX5jCo1Ih"
      },
      "execution_count": null,
      "outputs": []
    },
    {
      "cell_type": "code",
      "source": [
        "print(f'O máximo de  peso que essa aeronave pode decolar é {aeronave}kg')"
      ],
      "metadata": {
        "colab": {
          "base_uri": "https://localhost:8080/"
        },
        "id": "pJuvMadaSlpM",
        "outputId": "4e13b2ee-7964-4015-c8bf-be9f13123617"
      },
      "execution_count": null,
      "outputs": [
        {
          "output_type": "stream",
          "name": "stdout",
          "text": [
            "O máximo de  peso que essa aeronave pode decolar é 458kg\n"
          ]
        }
      ]
    },
    {
      "cell_type": "markdown",
      "source": [
        "## **Qual o modelo e fabricante da aeronave que decola com a menor quantidade de peso?**"
      ],
      "metadata": {
        "id": "z7eHA5Jqq2Dc"
      }
    },
    {
      "cell_type": "code",
      "source": [
        "df.loc[df['takeoff_max_weight (Lbs)'] == 458 ]"
      ],
      "metadata": {
        "colab": {
          "base_uri": "https://localhost:8080/",
          "height": 191
        },
        "id": "27CBvGsOq2iR",
        "outputId": "fb4bd512-b2e3-40ec-b7ff-82ea49c1ac8e"
      },
      "execution_count": null,
      "outputs": [
        {
          "output_type": "execute_result",
          "data": {
            "text/plain": [
              "      aircraft_id  occurrence_id registration  operator_id equipment  \\\n",
              "1984        33745          53484        PUTOF         3992   UNKNOWN   \n",
              "\n",
              "     manufacturer model engine_type  engines_amount  takeoff_max_weight (Lbs)  \\\n",
              "1984          ***   ***     UNKNOWN             0.0                       458   \n",
              "\n",
              "      ...  registration_country  registration_category registration_aviation  \\\n",
              "1984  ...                BRAZIL                    PET          EXPERIMENTAL   \n",
              "\n",
              "     origin_flight destination_flight operation_phase type_operation  \\\n",
              "1984          ****               ****          CRUISE        PRIVATE   \n",
              "\n",
              "     damage_level fatalities_amount extraction_day  \n",
              "1984  SUBSTANTIAL               0.0     2016-07-30  \n",
              "\n",
              "[1 rows x 22 columns]"
            ],
            "text/html": [
              "\n",
              "  <div id=\"df-c1f1e6e9-f052-4a1f-8077-b0b1b87ebbb4\">\n",
              "    <div class=\"colab-df-container\">\n",
              "      <div>\n",
              "<style scoped>\n",
              "    .dataframe tbody tr th:only-of-type {\n",
              "        vertical-align: middle;\n",
              "    }\n",
              "\n",
              "    .dataframe tbody tr th {\n",
              "        vertical-align: top;\n",
              "    }\n",
              "\n",
              "    .dataframe thead th {\n",
              "        text-align: right;\n",
              "    }\n",
              "</style>\n",
              "<table border=\"1\" class=\"dataframe\">\n",
              "  <thead>\n",
              "    <tr style=\"text-align: right;\">\n",
              "      <th></th>\n",
              "      <th>aircraft_id</th>\n",
              "      <th>occurrence_id</th>\n",
              "      <th>registration</th>\n",
              "      <th>operator_id</th>\n",
              "      <th>equipment</th>\n",
              "      <th>manufacturer</th>\n",
              "      <th>model</th>\n",
              "      <th>engine_type</th>\n",
              "      <th>engines_amount</th>\n",
              "      <th>takeoff_max_weight (Lbs)</th>\n",
              "      <th>...</th>\n",
              "      <th>registration_country</th>\n",
              "      <th>registration_category</th>\n",
              "      <th>registration_aviation</th>\n",
              "      <th>origin_flight</th>\n",
              "      <th>destination_flight</th>\n",
              "      <th>operation_phase</th>\n",
              "      <th>type_operation</th>\n",
              "      <th>damage_level</th>\n",
              "      <th>fatalities_amount</th>\n",
              "      <th>extraction_day</th>\n",
              "    </tr>\n",
              "  </thead>\n",
              "  <tbody>\n",
              "    <tr>\n",
              "      <th>1984</th>\n",
              "      <td>33745</td>\n",
              "      <td>53484</td>\n",
              "      <td>PUTOF</td>\n",
              "      <td>3992</td>\n",
              "      <td>UNKNOWN</td>\n",
              "      <td>***</td>\n",
              "      <td>***</td>\n",
              "      <td>UNKNOWN</td>\n",
              "      <td>0.0</td>\n",
              "      <td>458</td>\n",
              "      <td>...</td>\n",
              "      <td>BRAZIL</td>\n",
              "      <td>PET</td>\n",
              "      <td>EXPERIMENTAL</td>\n",
              "      <td>****</td>\n",
              "      <td>****</td>\n",
              "      <td>CRUISE</td>\n",
              "      <td>PRIVATE</td>\n",
              "      <td>SUBSTANTIAL</td>\n",
              "      <td>0.0</td>\n",
              "      <td>2016-07-30</td>\n",
              "    </tr>\n",
              "  </tbody>\n",
              "</table>\n",
              "<p>1 rows × 22 columns</p>\n",
              "</div>\n",
              "      <button class=\"colab-df-convert\" onclick=\"convertToInteractive('df-c1f1e6e9-f052-4a1f-8077-b0b1b87ebbb4')\"\n",
              "              title=\"Convert this dataframe to an interactive table.\"\n",
              "              style=\"display:none;\">\n",
              "        \n",
              "  <svg xmlns=\"http://www.w3.org/2000/svg\" height=\"24px\"viewBox=\"0 0 24 24\"\n",
              "       width=\"24px\">\n",
              "    <path d=\"M0 0h24v24H0V0z\" fill=\"none\"/>\n",
              "    <path d=\"M18.56 5.44l.94 2.06.94-2.06 2.06-.94-2.06-.94-.94-2.06-.94 2.06-2.06.94zm-11 1L8.5 8.5l.94-2.06 2.06-.94-2.06-.94L8.5 2.5l-.94 2.06-2.06.94zm10 10l.94 2.06.94-2.06 2.06-.94-2.06-.94-.94-2.06-.94 2.06-2.06.94z\"/><path d=\"M17.41 7.96l-1.37-1.37c-.4-.4-.92-.59-1.43-.59-.52 0-1.04.2-1.43.59L10.3 9.45l-7.72 7.72c-.78.78-.78 2.05 0 2.83L4 21.41c.39.39.9.59 1.41.59.51 0 1.02-.2 1.41-.59l7.78-7.78 2.81-2.81c.8-.78.8-2.07 0-2.86zM5.41 20L4 18.59l7.72-7.72 1.47 1.35L5.41 20z\"/>\n",
              "  </svg>\n",
              "      </button>\n",
              "      \n",
              "  <style>\n",
              "    .colab-df-container {\n",
              "      display:flex;\n",
              "      flex-wrap:wrap;\n",
              "      gap: 12px;\n",
              "    }\n",
              "\n",
              "    .colab-df-convert {\n",
              "      background-color: #E8F0FE;\n",
              "      border: none;\n",
              "      border-radius: 50%;\n",
              "      cursor: pointer;\n",
              "      display: none;\n",
              "      fill: #1967D2;\n",
              "      height: 32px;\n",
              "      padding: 0 0 0 0;\n",
              "      width: 32px;\n",
              "    }\n",
              "\n",
              "    .colab-df-convert:hover {\n",
              "      background-color: #E2EBFA;\n",
              "      box-shadow: 0px 1px 2px rgba(60, 64, 67, 0.3), 0px 1px 3px 1px rgba(60, 64, 67, 0.15);\n",
              "      fill: #174EA6;\n",
              "    }\n",
              "\n",
              "    [theme=dark] .colab-df-convert {\n",
              "      background-color: #3B4455;\n",
              "      fill: #D2E3FC;\n",
              "    }\n",
              "\n",
              "    [theme=dark] .colab-df-convert:hover {\n",
              "      background-color: #434B5C;\n",
              "      box-shadow: 0px 1px 3px 1px rgba(0, 0, 0, 0.15);\n",
              "      filter: drop-shadow(0px 1px 2px rgba(0, 0, 0, 0.3));\n",
              "      fill: #FFFFFF;\n",
              "    }\n",
              "  </style>\n",
              "\n",
              "      <script>\n",
              "        const buttonEl =\n",
              "          document.querySelector('#df-c1f1e6e9-f052-4a1f-8077-b0b1b87ebbb4 button.colab-df-convert');\n",
              "        buttonEl.style.display =\n",
              "          google.colab.kernel.accessAllowed ? 'block' : 'none';\n",
              "\n",
              "        async function convertToInteractive(key) {\n",
              "          const element = document.querySelector('#df-c1f1e6e9-f052-4a1f-8077-b0b1b87ebbb4');\n",
              "          const dataTable =\n",
              "            await google.colab.kernel.invokeFunction('convertToInteractive',\n",
              "                                                     [key], {});\n",
              "          if (!dataTable) return;\n",
              "\n",
              "          const docLinkHtml = 'Like what you see? Visit the ' +\n",
              "            '<a target=\"_blank\" href=https://colab.research.google.com/notebooks/data_table.ipynb>data table notebook</a>'\n",
              "            + ' to learn more about interactive tables.';\n",
              "          element.innerHTML = '';\n",
              "          dataTable['output_type'] = 'display_data';\n",
              "          await google.colab.output.renderOutput(dataTable, element);\n",
              "          const docLink = document.createElement('div');\n",
              "          docLink.innerHTML = docLinkHtml;\n",
              "          element.appendChild(docLink);\n",
              "        }\n",
              "      </script>\n",
              "    </div>\n",
              "  </div>\n",
              "  "
            ]
          },
          "metadata": {},
          "execution_count": 62
        }
      ]
    },
    {
      "cell_type": "markdown",
      "source": [
        "Como foi mostrado acima, a aeronave que pode decolar com o menor\n",
        "peso tem tanto o modelo como o fabricante desconhecido"
      ],
      "metadata": {
        "id": "4ZycwBWgV-MN"
      }
    },
    {
      "cell_type": "markdown",
      "source": [
        "## **Substituindo os valores 'NaN' de ['engines_amount'] por zero**"
      ],
      "metadata": {
        "id": "kEiiDcrM--pr"
      }
    },
    {
      "cell_type": "code",
      "source": [
        "df['engines_amount']= df['engines_amount'].fillna(0)"
      ],
      "metadata": {
        "id": "O0Xz7pqnTf2Y"
      },
      "execution_count": null,
      "outputs": []
    },
    {
      "cell_type": "markdown",
      "source": [
        "## **Qual o número máximo de motores que uma aeronave possui**"
      ],
      "metadata": {
        "id": "odRh18XhUMDn"
      }
    },
    {
      "cell_type": "code",
      "source": [
        "motores=[]\n",
        "for i in df['engines_amount']:\n",
        "  if i >= 0:\n",
        "    motores.append(i)\n",
        "print(max(motores))"
      ],
      "metadata": {
        "colab": {
          "base_uri": "https://localhost:8080/"
        },
        "id": "8I745JAUS0R9",
        "outputId": "97e24348-c7b2-468e-876c-1074d4f662e9"
      },
      "execution_count": null,
      "outputs": [
        {
          "output_type": "stream",
          "name": "stdout",
          "text": [
            "4.0\n"
          ]
        }
      ]
    },
    {
      "cell_type": "markdown",
      "source": [
        "## **Substituindo os valores nulos da coluna 'registration_country'**"
      ],
      "metadata": {
        "id": "m5C-htR5tXRW"
      }
    },
    {
      "cell_type": "code",
      "source": [
        "df['registration_country']= df['registration_country'].fillna('')"
      ],
      "metadata": {
        "id": "3HtHsttis9pB"
      },
      "execution_count": null,
      "outputs": []
    },
    {
      "cell_type": "markdown",
      "source": [
        "## **Quais aeronaves possuem 4 motores?**"
      ],
      "metadata": {
        "id": "t8la-zHGU1Ib"
      }
    },
    {
      "cell_type": "code",
      "source": [
        "df.loc[df['engines_amount'] == 4 ]"
      ],
      "metadata": {
        "id": "idyaRdktaDK2",
        "colab": {
          "base_uri": "https://localhost:8080/",
          "height": 355
        },
        "outputId": "c5d80617-1fc3-48cd-f272-8f8c3a255d5c"
      },
      "execution_count": null,
      "outputs": [
        {
          "output_type": "execute_result",
          "data": {
            "text/plain": [
              "      aircraft_id  occurrence_id registration  operator_id equipment  \\\n",
              "493          8969          31695        PPBRG         1000  AIRPLANE   \n",
              "2006        34556          34696        D2TEA         5886  AIRPLANE   \n",
              "2010        34568          40047        CSTOD         4844  AIRPLANE   \n",
              "2011        34568          45252        CSTOD         4844  AIRPLANE   \n",
              "\n",
              "          manufacturer     model engine_type  engines_amount  \\\n",
              "493     BOEING COMPANY  707-323C         JET             4.0   \n",
              "2006    BOEING COMPANY  747-312M      PISTON             4.0   \n",
              "2010  AIRBUS INDUSTRIE  A340-541         JET             4.0   \n",
              "2011  AIRBUS INDUSTRIE  A340-541         JET             4.0   \n",
              "\n",
              "      takeoff_max_weight (Lbs)  ...  registration_country  \\\n",
              "493                     327004  ...                BRAZIL   \n",
              "2006                         0  ...                         \n",
              "2010                    522494  ...                         \n",
              "2011                    522494  ...                         \n",
              "\n",
              "      registration_category registration_aviation origin_flight  \\\n",
              "493                     TPN           NOT REGULAR          ****   \n",
              "2006                    EXT               UNKNOWN          ****   \n",
              "2010                    ***               UNKNOWN          SBGL   \n",
              "2011                    EXT               UNKNOWN          ****   \n",
              "\n",
              "     destination_flight operation_phase type_operation damage_level  \\\n",
              "493                ****         TAKEOFF        REGULAR      UNKNOWN   \n",
              "2006               ****       ASCENSION        UNKNOWN  SUBSTANTIAL   \n",
              "2010               SBGR         LANDING        REGULAR         NONE   \n",
              "2011               ****         TAKEOFF        UNKNOWN        LIGHT   \n",
              "\n",
              "     fatalities_amount extraction_day  \n",
              "493                0.0     2016-07-30  \n",
              "2006               0.0     2016-07-30  \n",
              "2010               0.0     2016-07-30  \n",
              "2011               0.0     2016-07-30  \n",
              "\n",
              "[4 rows x 22 columns]"
            ],
            "text/html": [
              "\n",
              "  <div id=\"df-c042fa34-763f-48cb-b912-c0846b31aa7c\">\n",
              "    <div class=\"colab-df-container\">\n",
              "      <div>\n",
              "<style scoped>\n",
              "    .dataframe tbody tr th:only-of-type {\n",
              "        vertical-align: middle;\n",
              "    }\n",
              "\n",
              "    .dataframe tbody tr th {\n",
              "        vertical-align: top;\n",
              "    }\n",
              "\n",
              "    .dataframe thead th {\n",
              "        text-align: right;\n",
              "    }\n",
              "</style>\n",
              "<table border=\"1\" class=\"dataframe\">\n",
              "  <thead>\n",
              "    <tr style=\"text-align: right;\">\n",
              "      <th></th>\n",
              "      <th>aircraft_id</th>\n",
              "      <th>occurrence_id</th>\n",
              "      <th>registration</th>\n",
              "      <th>operator_id</th>\n",
              "      <th>equipment</th>\n",
              "      <th>manufacturer</th>\n",
              "      <th>model</th>\n",
              "      <th>engine_type</th>\n",
              "      <th>engines_amount</th>\n",
              "      <th>takeoff_max_weight (Lbs)</th>\n",
              "      <th>...</th>\n",
              "      <th>registration_country</th>\n",
              "      <th>registration_category</th>\n",
              "      <th>registration_aviation</th>\n",
              "      <th>origin_flight</th>\n",
              "      <th>destination_flight</th>\n",
              "      <th>operation_phase</th>\n",
              "      <th>type_operation</th>\n",
              "      <th>damage_level</th>\n",
              "      <th>fatalities_amount</th>\n",
              "      <th>extraction_day</th>\n",
              "    </tr>\n",
              "  </thead>\n",
              "  <tbody>\n",
              "    <tr>\n",
              "      <th>493</th>\n",
              "      <td>8969</td>\n",
              "      <td>31695</td>\n",
              "      <td>PPBRG</td>\n",
              "      <td>1000</td>\n",
              "      <td>AIRPLANE</td>\n",
              "      <td>BOEING COMPANY</td>\n",
              "      <td>707-323C</td>\n",
              "      <td>JET</td>\n",
              "      <td>4.0</td>\n",
              "      <td>327004</td>\n",
              "      <td>...</td>\n",
              "      <td>BRAZIL</td>\n",
              "      <td>TPN</td>\n",
              "      <td>NOT REGULAR</td>\n",
              "      <td>****</td>\n",
              "      <td>****</td>\n",
              "      <td>TAKEOFF</td>\n",
              "      <td>REGULAR</td>\n",
              "      <td>UNKNOWN</td>\n",
              "      <td>0.0</td>\n",
              "      <td>2016-07-30</td>\n",
              "    </tr>\n",
              "    <tr>\n",
              "      <th>2006</th>\n",
              "      <td>34556</td>\n",
              "      <td>34696</td>\n",
              "      <td>D2TEA</td>\n",
              "      <td>5886</td>\n",
              "      <td>AIRPLANE</td>\n",
              "      <td>BOEING COMPANY</td>\n",
              "      <td>747-312M</td>\n",
              "      <td>PISTON</td>\n",
              "      <td>4.0</td>\n",
              "      <td>0</td>\n",
              "      <td>...</td>\n",
              "      <td></td>\n",
              "      <td>EXT</td>\n",
              "      <td>UNKNOWN</td>\n",
              "      <td>****</td>\n",
              "      <td>****</td>\n",
              "      <td>ASCENSION</td>\n",
              "      <td>UNKNOWN</td>\n",
              "      <td>SUBSTANTIAL</td>\n",
              "      <td>0.0</td>\n",
              "      <td>2016-07-30</td>\n",
              "    </tr>\n",
              "    <tr>\n",
              "      <th>2010</th>\n",
              "      <td>34568</td>\n",
              "      <td>40047</td>\n",
              "      <td>CSTOD</td>\n",
              "      <td>4844</td>\n",
              "      <td>AIRPLANE</td>\n",
              "      <td>AIRBUS INDUSTRIE</td>\n",
              "      <td>A340-541</td>\n",
              "      <td>JET</td>\n",
              "      <td>4.0</td>\n",
              "      <td>522494</td>\n",
              "      <td>...</td>\n",
              "      <td></td>\n",
              "      <td>***</td>\n",
              "      <td>UNKNOWN</td>\n",
              "      <td>SBGL</td>\n",
              "      <td>SBGR</td>\n",
              "      <td>LANDING</td>\n",
              "      <td>REGULAR</td>\n",
              "      <td>NONE</td>\n",
              "      <td>0.0</td>\n",
              "      <td>2016-07-30</td>\n",
              "    </tr>\n",
              "    <tr>\n",
              "      <th>2011</th>\n",
              "      <td>34568</td>\n",
              "      <td>45252</td>\n",
              "      <td>CSTOD</td>\n",
              "      <td>4844</td>\n",
              "      <td>AIRPLANE</td>\n",
              "      <td>AIRBUS INDUSTRIE</td>\n",
              "      <td>A340-541</td>\n",
              "      <td>JET</td>\n",
              "      <td>4.0</td>\n",
              "      <td>522494</td>\n",
              "      <td>...</td>\n",
              "      <td></td>\n",
              "      <td>EXT</td>\n",
              "      <td>UNKNOWN</td>\n",
              "      <td>****</td>\n",
              "      <td>****</td>\n",
              "      <td>TAKEOFF</td>\n",
              "      <td>UNKNOWN</td>\n",
              "      <td>LIGHT</td>\n",
              "      <td>0.0</td>\n",
              "      <td>2016-07-30</td>\n",
              "    </tr>\n",
              "  </tbody>\n",
              "</table>\n",
              "<p>4 rows × 22 columns</p>\n",
              "</div>\n",
              "      <button class=\"colab-df-convert\" onclick=\"convertToInteractive('df-c042fa34-763f-48cb-b912-c0846b31aa7c')\"\n",
              "              title=\"Convert this dataframe to an interactive table.\"\n",
              "              style=\"display:none;\">\n",
              "        \n",
              "  <svg xmlns=\"http://www.w3.org/2000/svg\" height=\"24px\"viewBox=\"0 0 24 24\"\n",
              "       width=\"24px\">\n",
              "    <path d=\"M0 0h24v24H0V0z\" fill=\"none\"/>\n",
              "    <path d=\"M18.56 5.44l.94 2.06.94-2.06 2.06-.94-2.06-.94-.94-2.06-.94 2.06-2.06.94zm-11 1L8.5 8.5l.94-2.06 2.06-.94-2.06-.94L8.5 2.5l-.94 2.06-2.06.94zm10 10l.94 2.06.94-2.06 2.06-.94-2.06-.94-.94-2.06-.94 2.06-2.06.94z\"/><path d=\"M17.41 7.96l-1.37-1.37c-.4-.4-.92-.59-1.43-.59-.52 0-1.04.2-1.43.59L10.3 9.45l-7.72 7.72c-.78.78-.78 2.05 0 2.83L4 21.41c.39.39.9.59 1.41.59.51 0 1.02-.2 1.41-.59l7.78-7.78 2.81-2.81c.8-.78.8-2.07 0-2.86zM5.41 20L4 18.59l7.72-7.72 1.47 1.35L5.41 20z\"/>\n",
              "  </svg>\n",
              "      </button>\n",
              "      \n",
              "  <style>\n",
              "    .colab-df-container {\n",
              "      display:flex;\n",
              "      flex-wrap:wrap;\n",
              "      gap: 12px;\n",
              "    }\n",
              "\n",
              "    .colab-df-convert {\n",
              "      background-color: #E8F0FE;\n",
              "      border: none;\n",
              "      border-radius: 50%;\n",
              "      cursor: pointer;\n",
              "      display: none;\n",
              "      fill: #1967D2;\n",
              "      height: 32px;\n",
              "      padding: 0 0 0 0;\n",
              "      width: 32px;\n",
              "    }\n",
              "\n",
              "    .colab-df-convert:hover {\n",
              "      background-color: #E2EBFA;\n",
              "      box-shadow: 0px 1px 2px rgba(60, 64, 67, 0.3), 0px 1px 3px 1px rgba(60, 64, 67, 0.15);\n",
              "      fill: #174EA6;\n",
              "    }\n",
              "\n",
              "    [theme=dark] .colab-df-convert {\n",
              "      background-color: #3B4455;\n",
              "      fill: #D2E3FC;\n",
              "    }\n",
              "\n",
              "    [theme=dark] .colab-df-convert:hover {\n",
              "      background-color: #434B5C;\n",
              "      box-shadow: 0px 1px 3px 1px rgba(0, 0, 0, 0.15);\n",
              "      filter: drop-shadow(0px 1px 2px rgba(0, 0, 0, 0.3));\n",
              "      fill: #FFFFFF;\n",
              "    }\n",
              "  </style>\n",
              "\n",
              "      <script>\n",
              "        const buttonEl =\n",
              "          document.querySelector('#df-c042fa34-763f-48cb-b912-c0846b31aa7c button.colab-df-convert');\n",
              "        buttonEl.style.display =\n",
              "          google.colab.kernel.accessAllowed ? 'block' : 'none';\n",
              "\n",
              "        async function convertToInteractive(key) {\n",
              "          const element = document.querySelector('#df-c042fa34-763f-48cb-b912-c0846b31aa7c');\n",
              "          const dataTable =\n",
              "            await google.colab.kernel.invokeFunction('convertToInteractive',\n",
              "                                                     [key], {});\n",
              "          if (!dataTable) return;\n",
              "\n",
              "          const docLinkHtml = 'Like what you see? Visit the ' +\n",
              "            '<a target=\"_blank\" href=https://colab.research.google.com/notebooks/data_table.ipynb>data table notebook</a>'\n",
              "            + ' to learn more about interactive tables.';\n",
              "          element.innerHTML = '';\n",
              "          dataTable['output_type'] = 'display_data';\n",
              "          await google.colab.output.renderOutput(dataTable, element);\n",
              "          const docLink = document.createElement('div');\n",
              "          docLink.innerHTML = docLinkHtml;\n",
              "          element.appendChild(docLink);\n",
              "        }\n",
              "      </script>\n",
              "    </div>\n",
              "  </div>\n",
              "  "
            ]
          },
          "metadata": {},
          "execution_count": 66
        }
      ]
    },
    {
      "cell_type": "markdown",
      "source": [
        "## **Quantas aeronaves são de uso privado?**"
      ],
      "metadata": {
        "id": "pklNw9LcHt0J"
      }
    },
    {
      "cell_type": "code",
      "source": [
        "privada = df.loc[df['registration_aviation']== 'PRIVATE']\n",
        "print(len(privada))"
      ],
      "metadata": {
        "colab": {
          "base_uri": "https://localhost:8080/"
        },
        "id": "3pCRQRuYH2eO",
        "outputId": "b6c59fb0-9c94-47a8-c42a-e14d44b3e81e"
      },
      "execution_count": null,
      "outputs": [
        {
          "output_type": "stream",
          "name": "stdout",
          "text": [
            "760\n"
          ]
        }
      ]
    },
    {
      "cell_type": "code",
      "source": [
        "print(privada['model'])"
      ],
      "metadata": {
        "colab": {
          "base_uri": "https://localhost:8080/"
        },
        "id": "6pXn4MfxJdI4",
        "outputId": "2f96f9d3-47e1-4687-c42f-1003b8a9ea5b"
      },
      "execution_count": null,
      "outputs": [
        {
          "output_type": "stream",
          "name": "stdout",
          "text": [
            "3         EMB-721C\n",
            "5             182P\n",
            "6         EMB-711C\n",
            "14      PA-28R-200\n",
            "21             550\n",
            "           ...    \n",
            "2027    PA-32R-301\n",
            "2028           ***\n",
            "2031          210R\n",
            "2032          210D\n",
            "2038           ***\n",
            "Name: model, Length: 760, dtype: object\n"
          ]
        }
      ]
    },
    {
      "cell_type": "markdown",
      "source": [
        "## **Quantas aeronaves são de instrução?**"
      ],
      "metadata": {
        "id": "a3U4KLL7Id1-"
      }
    },
    {
      "cell_type": "code",
      "source": [
        "instrucao = df.loc[df['registration_aviation']== 'INSTRUCTION']\n",
        "print(len(instrucao))"
      ],
      "metadata": {
        "colab": {
          "base_uri": "https://localhost:8080/"
        },
        "id": "9T_Mq4VNInad",
        "outputId": "0d44a841-c158-4ec6-bed2-f596980b777c"
      },
      "execution_count": null,
      "outputs": [
        {
          "output_type": "stream",
          "name": "stdout",
          "text": [
            "370\n"
          ]
        }
      ]
    },
    {
      "cell_type": "code",
      "source": [
        "aeronaves_instrucao = []\n",
        "for aeronave in instrucao['model']:\n",
        "  aeronaves_instrucao.append(aeronave)\n",
        "sorted(set(aeronaves_instrucao)) # removendo aeronaves repetidas da lista"
      ],
      "metadata": {
        "id": "I9XawP6wKZzZ"
      },
      "execution_count": null,
      "outputs": []
    },
    {
      "cell_type": "markdown",
      "source": [
        "## **Quantas aeronaves são de uso experimental?**"
      ],
      "metadata": {
        "id": "kdNEsZMZQhlO"
      }
    },
    {
      "cell_type": "code",
      "source": [
        "experimental = df.loc[df['registration_aviation']== 'EXPERIMENTAL']\n",
        "print(len(experimental))"
      ],
      "metadata": {
        "colab": {
          "base_uri": "https://localhost:8080/"
        },
        "id": "kT5KpzYKQrtl",
        "outputId": "520ab09a-879c-4a27-bb17-724f38fe4c7c"
      },
      "execution_count": null,
      "outputs": [
        {
          "output_type": "stream",
          "name": "stdout",
          "text": [
            "202\n"
          ]
        }
      ]
    },
    {
      "cell_type": "code",
      "source": [
        "len(sorted(set(experimental['model']))) # retirando as aeronaves de uso experimental repetidas e fazendo a contagem"
      ],
      "metadata": {
        "colab": {
          "base_uri": "https://localhost:8080/"
        },
        "id": "MFoY16IiVGeQ",
        "outputId": "79402dfe-6bcd-490c-de2b-dcafdfe87e0e"
      },
      "execution_count": null,
      "outputs": [
        {
          "output_type": "execute_result",
          "data": {
            "text/plain": [
              "133"
            ]
          },
          "metadata": {},
          "execution_count": 72
        }
      ]
    },
    {
      "cell_type": "markdown",
      "source": [
        "## **Quantas aeronaves são de uso agricultural?**"
      ],
      "metadata": {
        "id": "yrHF080XQ8Ix"
      }
    },
    {
      "cell_type": "code",
      "source": [
        "agricultural = df.loc[df['registration_aviation']== 'AGRICULTURAL']\n",
        "print(len(agricultural))"
      ],
      "metadata": {
        "colab": {
          "base_uri": "https://localhost:8080/"
        },
        "id": "P7Zt_P_6RJkX",
        "outputId": "030b1005-52c0-48b5-f8d8-14908ca5ac74"
      },
      "execution_count": null,
      "outputs": [
        {
          "output_type": "stream",
          "name": "stdout",
          "text": [
            "196\n"
          ]
        }
      ]
    },
    {
      "cell_type": "code",
      "source": [
        "len(sorted(set(agricultural['model']))) # retirando as aeronaves de uso agricultural repetidas e fazendo a contagem"
      ],
      "metadata": {
        "colab": {
          "base_uri": "https://localhost:8080/"
        },
        "id": "U6gNSx9ZWVgV",
        "outputId": "b4f95635-1828-493d-ef3f-f2a126b8493c"
      },
      "execution_count": null,
      "outputs": [
        {
          "output_type": "execute_result",
          "data": {
            "text/plain": [
              "21"
            ]
          },
          "metadata": {},
          "execution_count": 74
        }
      ]
    },
    {
      "cell_type": "code",
      "source": [
        "sorted(set(agricultural['model']))"
      ],
      "metadata": {
        "id": "mzBSdLtpWtZ0"
      },
      "execution_count": null,
      "outputs": []
    },
    {
      "cell_type": "markdown",
      "source": [
        "## **Quantas aeronaves são de aerotaxi?**"
      ],
      "metadata": {
        "id": "gaq_bWDXRnmi"
      }
    },
    {
      "cell_type": "code",
      "source": [
        "aerotaxi = df.loc[df['registration_aviation']== 'AEROTAXI']\n",
        "print(len(aerotaxi))"
      ],
      "metadata": {
        "colab": {
          "base_uri": "https://localhost:8080/"
        },
        "id": "9Ea50ptURtCg",
        "outputId": "28e593dc-5bbb-444a-a560-f1158c9c18af"
      },
      "execution_count": null,
      "outputs": [
        {
          "output_type": "stream",
          "name": "stdout",
          "text": [
            "272\n"
          ]
        }
      ]
    },
    {
      "cell_type": "code",
      "source": [
        "len(sorted(set(aerotaxi['model'])))"
      ],
      "metadata": {
        "colab": {
          "base_uri": "https://localhost:8080/"
        },
        "id": "gzYBc8dAXghM",
        "outputId": "424f33b6-c302-4c20-fb21-dc44d0162e7c"
      },
      "execution_count": null,
      "outputs": [
        {
          "output_type": "execute_result",
          "data": {
            "text/plain": [
              "86"
            ]
          },
          "metadata": {},
          "execution_count": 77
        }
      ]
    },
    {
      "cell_type": "code",
      "source": [
        "sorted(set(aerotaxi['model']))"
      ],
      "metadata": {
        "id": "6BR0Gr9DXmjy"
      },
      "execution_count": null,
      "outputs": []
    },
    {
      "cell_type": "markdown",
      "source": [
        "## **Quantas aeronaves são especializadas?**"
      ],
      "metadata": {
        "id": "VhwulGizSIuk"
      }
    },
    {
      "cell_type": "code",
      "source": [
        "especializada = df.loc[df['registration_aviation']== 'SPECIALIZED']\n",
        "print(len(especializada))"
      ],
      "metadata": {
        "colab": {
          "base_uri": "https://localhost:8080/"
        },
        "id": "fCz9IQncSbFx",
        "outputId": "07bbde51-c945-4f45-b463-66e82188b768"
      },
      "execution_count": null,
      "outputs": [
        {
          "output_type": "stream",
          "name": "stdout",
          "text": [
            "64\n"
          ]
        }
      ]
    },
    {
      "cell_type": "code",
      "source": [
        "len(sorted(set(especializada['model'])))"
      ],
      "metadata": {
        "colab": {
          "base_uri": "https://localhost:8080/"
        },
        "id": "FPoKhOkuYJDo",
        "outputId": "674aa814-102f-4343-cb94-7bd9abe34854"
      },
      "execution_count": null,
      "outputs": [
        {
          "output_type": "execute_result",
          "data": {
            "text/plain": [
              "25"
            ]
          },
          "metadata": {},
          "execution_count": 80
        }
      ]
    },
    {
      "cell_type": "code",
      "source": [
        "sorted(set(aerotaxi['model']))"
      ],
      "metadata": {
        "id": "B3sTNF3UYPjJ"
      },
      "execution_count": null,
      "outputs": []
    },
    {
      "cell_type": "markdown",
      "source": [
        "## **Quantas aeronaves são desconhecidas?**"
      ],
      "metadata": {
        "id": "a3IrJWC0SzLd"
      }
    },
    {
      "cell_type": "code",
      "source": [
        "desconhecida = df.loc[df['registration_aviation']== 'UNKNOWN']\n",
        "print(len(desconhecida))  "
      ],
      "metadata": {
        "colab": {
          "base_uri": "https://localhost:8080/"
        },
        "id": "SEzYrEyxSyHV",
        "outputId": "6481b0aa-5694-4881-aef0-10ab15e1dfa8"
      },
      "execution_count": null,
      "outputs": [
        {
          "output_type": "stream",
          "name": "stdout",
          "text": [
            "25\n"
          ]
        }
      ]
    },
    {
      "cell_type": "markdown",
      "source": [
        "## **Quantas aeronaves possuem o registro irregular?**"
      ],
      "metadata": {
        "id": "n1lREyj7t9vI"
      }
    },
    {
      "cell_type": "code",
      "source": [
        "df.loc[df['registration_aviation']== 'NOT REGULAR']"
      ],
      "metadata": {
        "id": "nV_zRZa8uFPs"
      },
      "execution_count": null,
      "outputs": []
    },
    {
      "cell_type": "markdown",
      "source": [
        "## **Quantas aeronaves possuem registro desconhecido?**"
      ],
      "metadata": {
        "id": "EV3z5mz2vd3g"
      }
    },
    {
      "cell_type": "code",
      "source": [
        "df.loc[df['registration_aviation']== 'UNKNOWN']"
      ],
      "metadata": {
        "id": "4tz4SwFcvjlQ"
      },
      "execution_count": null,
      "outputs": []
    },
    {
      "cell_type": "markdown",
      "source": [
        "## **Verificando quantas aeronaves são de origem Americana**"
      ],
      "metadata": {
        "id": "Inu_lnBvYimB"
      }
    },
    {
      "cell_type": "code",
      "source": [
        "qtd_americana = df.loc[df['registration_country'] == 'USA' ]\n",
        "print(len(qtd_americana))"
      ],
      "metadata": {
        "colab": {
          "base_uri": "https://localhost:8080/"
        },
        "id": "vjhFReJJo_De",
        "outputId": "a8fbead9-2aaf-427f-9967-118de11e8332"
      },
      "execution_count": null,
      "outputs": [
        {
          "output_type": "stream",
          "name": "stdout",
          "text": [
            "22\n"
          ]
        }
      ]
    },
    {
      "cell_type": "markdown",
      "source": [
        "## **Modelos das aeronaves americanas**"
      ],
      "metadata": {
        "id": "aN8Ecq0vosBx"
      }
    },
    {
      "cell_type": "code",
      "source": [
        "df.loc[df['registration_country'] == 'USA' ]\n"
      ],
      "metadata": {
        "id": "5zkXRinrovWK"
      },
      "execution_count": null,
      "outputs": []
    }
  ]
}